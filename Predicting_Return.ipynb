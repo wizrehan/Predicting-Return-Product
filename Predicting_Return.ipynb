{
 "cells": [
  {
   "cell_type": "code",
   "execution_count": 1,
   "metadata": {},
   "outputs": [],
   "source": [
    "import matplotlib.pyplot as plt\n",
    "%matplotlib inline\n",
    "import seaborn as sns\n",
    "sns.set() # Apply the default seaborn theme, scaling, and color palette\n",
    "\n",
    "import pandas as pd\n",
    "import numpy as np\n",
    "\n",
    "import warnings\n",
    "warnings.filterwarnings(\"ignore\")"
   ]
  },
  {
   "cell_type": "code",
   "execution_count": 47,
   "metadata": {},
   "outputs": [
    {
     "data": {
      "text/html": [
       "<div>\n",
       "<style scoped>\n",
       "    .dataframe tbody tr th:only-of-type {\n",
       "        vertical-align: middle;\n",
       "    }\n",
       "\n",
       "    .dataframe tbody tr th {\n",
       "        vertical-align: top;\n",
       "    }\n",
       "\n",
       "    .dataframe thead th {\n",
       "        text-align: right;\n",
       "    }\n",
       "</style>\n",
       "<table border=\"1\" class=\"dataframe\">\n",
       "  <thead>\n",
       "    <tr style=\"text-align: right;\">\n",
       "      <th></th>\n",
       "      <th>OrderId</th>\n",
       "      <th>UserId</th>\n",
       "      <th>OrderValue</th>\n",
       "      <th>PaymentType</th>\n",
       "      <th>District</th>\n",
       "      <th>OrderSource</th>\n",
       "      <th>OrderType</th>\n",
       "      <th>DeliveryCharge</th>\n",
       "      <th>OrderPlacedDay</th>\n",
       "      <th>OrderConfirmDayOverPhone</th>\n",
       "      <th>IsCartOrder</th>\n",
       "      <th>OrderFromPromotionalEvent</th>\n",
       "      <th>isRTO</th>\n",
       "    </tr>\n",
       "  </thead>\n",
       "  <tbody>\n",
       "    <tr>\n",
       "      <th>0</th>\n",
       "      <td>2562691</td>\n",
       "      <td>663791</td>\n",
       "      <td>168</td>\n",
       "      <td>MPD</td>\n",
       "      <td>Dhaka</td>\n",
       "      <td>android</td>\n",
       "      <td>normal</td>\n",
       "      <td>25.0</td>\n",
       "      <td>6/26/2019 9:20</td>\n",
       "      <td>6/26/2019 3:30</td>\n",
       "      <td>No</td>\n",
       "      <td>Yes</td>\n",
       "      <td>No</td>\n",
       "    </tr>\n",
       "    <tr>\n",
       "      <th>1</th>\n",
       "      <td>2561859</td>\n",
       "      <td>961083</td>\n",
       "      <td>240</td>\n",
       "      <td>MPD</td>\n",
       "      <td>Dhaka</td>\n",
       "      <td>mobile-site</td>\n",
       "      <td>normal</td>\n",
       "      <td>35.0</td>\n",
       "      <td>6/25/2019 19:05</td>\n",
       "      <td>6/25/2019 13:40</td>\n",
       "      <td>No</td>\n",
       "      <td>Yes</td>\n",
       "      <td>No</td>\n",
       "    </tr>\n",
       "    <tr>\n",
       "      <th>2</th>\n",
       "      <td>2561434</td>\n",
       "      <td>848517</td>\n",
       "      <td>120</td>\n",
       "      <td>MPD</td>\n",
       "      <td>Dhaka</td>\n",
       "      <td>desktop</td>\n",
       "      <td>normal</td>\n",
       "      <td>35.0</td>\n",
       "      <td>6/25/2019 15:28</td>\n",
       "      <td>6/25/2019 9:27</td>\n",
       "      <td>No</td>\n",
       "      <td>Yes</td>\n",
       "      <td>Yes</td>\n",
       "    </tr>\n",
       "    <tr>\n",
       "      <th>3</th>\n",
       "      <td>2561202</td>\n",
       "      <td>276304</td>\n",
       "      <td>185</td>\n",
       "      <td>MPD</td>\n",
       "      <td>Dhaka</td>\n",
       "      <td>android</td>\n",
       "      <td>normal</td>\n",
       "      <td>25.0</td>\n",
       "      <td>6/25/2019 13:27</td>\n",
       "      <td>6/25/2019 7:27</td>\n",
       "      <td>Yes</td>\n",
       "      <td>No</td>\n",
       "      <td>No</td>\n",
       "    </tr>\n",
       "    <tr>\n",
       "      <th>4</th>\n",
       "      <td>2561033</td>\n",
       "      <td>955384</td>\n",
       "      <td>201</td>\n",
       "      <td>MPD</td>\n",
       "      <td>Dhaka</td>\n",
       "      <td>android</td>\n",
       "      <td>normal</td>\n",
       "      <td>25.0</td>\n",
       "      <td>6/25/2019 12:13</td>\n",
       "      <td>6/25/2019 6:56</td>\n",
       "      <td>No</td>\n",
       "      <td>Yes</td>\n",
       "      <td>No</td>\n",
       "    </tr>\n",
       "    <tr>\n",
       "      <th>5</th>\n",
       "      <td>2560941</td>\n",
       "      <td>832391</td>\n",
       "      <td>155</td>\n",
       "      <td>MPD</td>\n",
       "      <td>Dhaka</td>\n",
       "      <td>android</td>\n",
       "      <td>normal</td>\n",
       "      <td>25.0</td>\n",
       "      <td>6/25/2019 11:07</td>\n",
       "      <td>6/25/2019 13:11</td>\n",
       "      <td>No</td>\n",
       "      <td>Yes</td>\n",
       "      <td>No</td>\n",
       "    </tr>\n",
       "    <tr>\n",
       "      <th>6</th>\n",
       "      <td>2560917</td>\n",
       "      <td>832391</td>\n",
       "      <td>105</td>\n",
       "      <td>MPD</td>\n",
       "      <td>Dhaka</td>\n",
       "      <td>android</td>\n",
       "      <td>normal</td>\n",
       "      <td>25.0</td>\n",
       "      <td>6/25/2019 10:50</td>\n",
       "      <td>6/25/2019 13:11</td>\n",
       "      <td>No</td>\n",
       "      <td>No</td>\n",
       "      <td>No</td>\n",
       "    </tr>\n",
       "    <tr>\n",
       "      <th>7</th>\n",
       "      <td>2560916</td>\n",
       "      <td>442723</td>\n",
       "      <td>120</td>\n",
       "      <td>MPD</td>\n",
       "      <td>Dhaka</td>\n",
       "      <td>android</td>\n",
       "      <td>normal</td>\n",
       "      <td>25.0</td>\n",
       "      <td>6/25/2019 10:50</td>\n",
       "      <td>6/25/2019 4:49</td>\n",
       "      <td>No</td>\n",
       "      <td>Yes</td>\n",
       "      <td>No</td>\n",
       "    </tr>\n",
       "    <tr>\n",
       "      <th>8</th>\n",
       "      <td>2560895</td>\n",
       "      <td>959412</td>\n",
       "      <td>499</td>\n",
       "      <td>MPD</td>\n",
       "      <td>Cox's-Bazar</td>\n",
       "      <td>android</td>\n",
       "      <td>normal</td>\n",
       "      <td>55.0</td>\n",
       "      <td>6/25/2019 10:40</td>\n",
       "      <td>6/25/2019 5:05</td>\n",
       "      <td>No</td>\n",
       "      <td>No</td>\n",
       "      <td>Yes</td>\n",
       "    </tr>\n",
       "    <tr>\n",
       "      <th>9</th>\n",
       "      <td>2560881</td>\n",
       "      <td>959412</td>\n",
       "      <td>159</td>\n",
       "      <td>MPD</td>\n",
       "      <td>Cox's-Bazar</td>\n",
       "      <td>android</td>\n",
       "      <td>normal</td>\n",
       "      <td>55.0</td>\n",
       "      <td>6/25/2019 10:30</td>\n",
       "      <td>6/25/2019 4:36</td>\n",
       "      <td>No</td>\n",
       "      <td>No</td>\n",
       "      <td>Yes</td>\n",
       "    </tr>\n",
       "    <tr>\n",
       "      <th>10</th>\n",
       "      <td>2560878</td>\n",
       "      <td>960883</td>\n",
       "      <td>726</td>\n",
       "      <td>MPD</td>\n",
       "      <td>Dhaka</td>\n",
       "      <td>android</td>\n",
       "      <td>normal</td>\n",
       "      <td>25.0</td>\n",
       "      <td>6/25/2019 10:29</td>\n",
       "      <td>6/25/2019 4:39</td>\n",
       "      <td>No</td>\n",
       "      <td>No</td>\n",
       "      <td>No</td>\n",
       "    </tr>\n",
       "    <tr>\n",
       "      <th>11</th>\n",
       "      <td>2560843</td>\n",
       "      <td>863971</td>\n",
       "      <td>75</td>\n",
       "      <td>MPD</td>\n",
       "      <td>Dhaka</td>\n",
       "      <td>-1</td>\n",
       "      <td>NaN</td>\n",
       "      <td>25.0</td>\n",
       "      <td>6/25/2019 10:11</td>\n",
       "      <td>6/25/2019 4:40</td>\n",
       "      <td>No</td>\n",
       "      <td>No</td>\n",
       "      <td>No</td>\n",
       "    </tr>\n",
       "    <tr>\n",
       "      <th>12</th>\n",
       "      <td>2560834</td>\n",
       "      <td>568726</td>\n",
       "      <td>120</td>\n",
       "      <td>ADC</td>\n",
       "      <td>Dhaka</td>\n",
       "      <td>android</td>\n",
       "      <td>normal</td>\n",
       "      <td>25.0</td>\n",
       "      <td>6/25/2019 10:02</td>\n",
       "      <td>6/25/2019 4:59</td>\n",
       "      <td>No</td>\n",
       "      <td>No</td>\n",
       "      <td>No</td>\n",
       "    </tr>\n",
       "    <tr>\n",
       "      <th>13</th>\n",
       "      <td>2560833</td>\n",
       "      <td>765955</td>\n",
       "      <td>490</td>\n",
       "      <td>MPD</td>\n",
       "      <td>Dhaka</td>\n",
       "      <td>android</td>\n",
       "      <td>normal</td>\n",
       "      <td>25.0</td>\n",
       "      <td>6/25/2019 10:01</td>\n",
       "      <td>6/25/2019 4:01</td>\n",
       "      <td>Yes</td>\n",
       "      <td>No</td>\n",
       "      <td>No</td>\n",
       "    </tr>\n",
       "    <tr>\n",
       "      <th>14</th>\n",
       "      <td>2560816</td>\n",
       "      <td>19523</td>\n",
       "      <td>899</td>\n",
       "      <td>MPD</td>\n",
       "      <td>Dhaka</td>\n",
       "      <td>mobile-site</td>\n",
       "      <td>normal</td>\n",
       "      <td>35.0</td>\n",
       "      <td>6/25/2019 9:45</td>\n",
       "      <td>6/25/2019 4:45</td>\n",
       "      <td>No</td>\n",
       "      <td>No</td>\n",
       "      <td>No</td>\n",
       "    </tr>\n",
       "    <tr>\n",
       "      <th>15</th>\n",
       "      <td>2560802</td>\n",
       "      <td>765955</td>\n",
       "      <td>1400</td>\n",
       "      <td>MPD</td>\n",
       "      <td>Dhaka</td>\n",
       "      <td>mobile-site</td>\n",
       "      <td>normal</td>\n",
       "      <td>35.0</td>\n",
       "      <td>6/25/2019 9:33</td>\n",
       "      <td>6/25/2019 3:32</td>\n",
       "      <td>No</td>\n",
       "      <td>No</td>\n",
       "      <td>No</td>\n",
       "    </tr>\n",
       "    <tr>\n",
       "      <th>16</th>\n",
       "      <td>2560799</td>\n",
       "      <td>177606</td>\n",
       "      <td>139</td>\n",
       "      <td>MPD</td>\n",
       "      <td>Dhaka</td>\n",
       "      <td>android</td>\n",
       "      <td>normal</td>\n",
       "      <td>25.0</td>\n",
       "      <td>6/25/2019 9:31</td>\n",
       "      <td>6/25/2019 3:31</td>\n",
       "      <td>Yes</td>\n",
       "      <td>No</td>\n",
       "      <td>No</td>\n",
       "    </tr>\n",
       "    <tr>\n",
       "      <th>17</th>\n",
       "      <td>2560764</td>\n",
       "      <td>960859</td>\n",
       "      <td>575</td>\n",
       "      <td>MPD</td>\n",
       "      <td>Dhaka</td>\n",
       "      <td>mobile-site</td>\n",
       "      <td>normal</td>\n",
       "      <td>35.0</td>\n",
       "      <td>6/25/2019 9:09</td>\n",
       "      <td>6/25/2019 4:19</td>\n",
       "      <td>No</td>\n",
       "      <td>No</td>\n",
       "      <td>No</td>\n",
       "    </tr>\n",
       "    <tr>\n",
       "      <th>18</th>\n",
       "      <td>2560720</td>\n",
       "      <td>118462</td>\n",
       "      <td>486</td>\n",
       "      <td>MPC</td>\n",
       "      <td>Dhaka</td>\n",
       "      <td>Others</td>\n",
       "      <td>NaN</td>\n",
       "      <td>35.0</td>\n",
       "      <td>6/25/2019 8:32</td>\n",
       "      <td>6/25/2019 2:37</td>\n",
       "      <td>No</td>\n",
       "      <td>No</td>\n",
       "      <td>No</td>\n",
       "    </tr>\n",
       "    <tr>\n",
       "      <th>19</th>\n",
       "      <td>2560687</td>\n",
       "      <td>195000</td>\n",
       "      <td>365</td>\n",
       "      <td>MPD</td>\n",
       "      <td>Dhaka</td>\n",
       "      <td>android</td>\n",
       "      <td>normal</td>\n",
       "      <td>25.0</td>\n",
       "      <td>6/25/2019 8:04</td>\n",
       "      <td>6/25/2019 2:04</td>\n",
       "      <td>No</td>\n",
       "      <td>No</td>\n",
       "      <td>No</td>\n",
       "    </tr>\n",
       "    <tr>\n",
       "      <th>20</th>\n",
       "      <td>2560615</td>\n",
       "      <td>907237</td>\n",
       "      <td>147</td>\n",
       "      <td>MPD</td>\n",
       "      <td>Dhaka</td>\n",
       "      <td>android</td>\n",
       "      <td>normal</td>\n",
       "      <td>25.0</td>\n",
       "      <td>6/25/2019 6:06</td>\n",
       "      <td>6/25/2019 0:05</td>\n",
       "      <td>No</td>\n",
       "      <td>No</td>\n",
       "      <td>No</td>\n",
       "    </tr>\n",
       "    <tr>\n",
       "      <th>21</th>\n",
       "      <td>2560538</td>\n",
       "      <td>637778</td>\n",
       "      <td>284</td>\n",
       "      <td>MPD</td>\n",
       "      <td>Dhaka</td>\n",
       "      <td>android</td>\n",
       "      <td>normal</td>\n",
       "      <td>25.0</td>\n",
       "      <td>6/25/2019 3:46</td>\n",
       "      <td>6/25/2019 4:48</td>\n",
       "      <td>No</td>\n",
       "      <td>No</td>\n",
       "      <td>No</td>\n",
       "    </tr>\n",
       "    <tr>\n",
       "      <th>22</th>\n",
       "      <td>2560533</td>\n",
       "      <td>32724</td>\n",
       "      <td>199</td>\n",
       "      <td>MPD</td>\n",
       "      <td>Dhaka</td>\n",
       "      <td>mobile-site</td>\n",
       "      <td>normal</td>\n",
       "      <td>0.0</td>\n",
       "      <td>6/25/2019 3:23</td>\n",
       "      <td>6/25/2019 2:34</td>\n",
       "      <td>Yes</td>\n",
       "      <td>Yes</td>\n",
       "      <td>No</td>\n",
       "    </tr>\n",
       "    <tr>\n",
       "      <th>23</th>\n",
       "      <td>2560530</td>\n",
       "      <td>960811</td>\n",
       "      <td>100</td>\n",
       "      <td>MPD</td>\n",
       "      <td>Dhaka</td>\n",
       "      <td>mobile-site</td>\n",
       "      <td>normal</td>\n",
       "      <td>35.0</td>\n",
       "      <td>6/25/2019 3:06</td>\n",
       "      <td>6/25/2019 6:01</td>\n",
       "      <td>No</td>\n",
       "      <td>Yes</td>\n",
       "      <td>No</td>\n",
       "    </tr>\n",
       "    <tr>\n",
       "      <th>24</th>\n",
       "      <td>2560529</td>\n",
       "      <td>228424</td>\n",
       "      <td>167</td>\n",
       "      <td>MPD</td>\n",
       "      <td>Dhaka</td>\n",
       "      <td>android</td>\n",
       "      <td>normal</td>\n",
       "      <td>25.0</td>\n",
       "      <td>6/25/2019 3:04</td>\n",
       "      <td>6/25/2019 7:55</td>\n",
       "      <td>No</td>\n",
       "      <td>Yes</td>\n",
       "      <td>No</td>\n",
       "    </tr>\n",
       "    <tr>\n",
       "      <th>25</th>\n",
       "      <td>2560464</td>\n",
       "      <td>208235</td>\n",
       "      <td>319</td>\n",
       "      <td>MPD</td>\n",
       "      <td>Dhaka</td>\n",
       "      <td>android</td>\n",
       "      <td>normal</td>\n",
       "      <td>25.0</td>\n",
       "      <td>6/25/2019 1:01</td>\n",
       "      <td>6/25/2019 4:48</td>\n",
       "      <td>No</td>\n",
       "      <td>Yes</td>\n",
       "      <td>No</td>\n",
       "    </tr>\n",
       "    <tr>\n",
       "      <th>26</th>\n",
       "      <td>2560433</td>\n",
       "      <td>960776</td>\n",
       "      <td>545</td>\n",
       "      <td>MPD</td>\n",
       "      <td>Dhaka</td>\n",
       "      <td>android</td>\n",
       "      <td>normal</td>\n",
       "      <td>25.0</td>\n",
       "      <td>6/25/2019 0:19</td>\n",
       "      <td>6/25/2019 4:11</td>\n",
       "      <td>Yes</td>\n",
       "      <td>No</td>\n",
       "      <td>No</td>\n",
       "    </tr>\n",
       "    <tr>\n",
       "      <th>27</th>\n",
       "      <td>2560404</td>\n",
       "      <td>930671</td>\n",
       "      <td>120</td>\n",
       "      <td>MPD</td>\n",
       "      <td>Dhaka</td>\n",
       "      <td>mobile-site</td>\n",
       "      <td>normal</td>\n",
       "      <td>35.0</td>\n",
       "      <td>6/25/2019 0:09</td>\n",
       "      <td>6/25/2019 3:01</td>\n",
       "      <td>No</td>\n",
       "      <td>Yes</td>\n",
       "      <td>No</td>\n",
       "    </tr>\n",
       "    <tr>\n",
       "      <th>28</th>\n",
       "      <td>2560390</td>\n",
       "      <td>960744</td>\n",
       "      <td>135</td>\n",
       "      <td>MPD</td>\n",
       "      <td>Dhaka</td>\n",
       "      <td>android</td>\n",
       "      <td>normal</td>\n",
       "      <td>25.0</td>\n",
       "      <td>6/25/2019 0:04</td>\n",
       "      <td>6/25/2019 2:48</td>\n",
       "      <td>No</td>\n",
       "      <td>No</td>\n",
       "      <td>No</td>\n",
       "    </tr>\n",
       "    <tr>\n",
       "      <th>29</th>\n",
       "      <td>2560344</td>\n",
       "      <td>960750</td>\n",
       "      <td>140</td>\n",
       "      <td>MPD</td>\n",
       "      <td>Dhaka</td>\n",
       "      <td>android</td>\n",
       "      <td>normal</td>\n",
       "      <td>25.0</td>\n",
       "      <td>6/24/2019 23:42</td>\n",
       "      <td>6/24/2019 17:45</td>\n",
       "      <td>No</td>\n",
       "      <td>Yes</td>\n",
       "      <td>No</td>\n",
       "    </tr>\n",
       "    <tr>\n",
       "      <th>30</th>\n",
       "      <td>2560337</td>\n",
       "      <td>960763</td>\n",
       "      <td>889</td>\n",
       "      <td>MPD</td>\n",
       "      <td>Dhaka</td>\n",
       "      <td>android</td>\n",
       "      <td>normal</td>\n",
       "      <td>25.0</td>\n",
       "      <td>6/24/2019 23:33</td>\n",
       "      <td>6/24/2019 17:51</td>\n",
       "      <td>No</td>\n",
       "      <td>No</td>\n",
       "      <td>No</td>\n",
       "    </tr>\n",
       "    <tr>\n",
       "      <th>31</th>\n",
       "      <td>2560287</td>\n",
       "      <td>831778</td>\n",
       "      <td>140</td>\n",
       "      <td>MPD</td>\n",
       "      <td>Dhaka</td>\n",
       "      <td>android</td>\n",
       "      <td>normal</td>\n",
       "      <td>25.0</td>\n",
       "      <td>6/24/2019 22:57</td>\n",
       "      <td>6/24/2019 17:37</td>\n",
       "      <td>No</td>\n",
       "      <td>Yes</td>\n",
       "      <td>No</td>\n",
       "    </tr>\n",
       "    <tr>\n",
       "      <th>32</th>\n",
       "      <td>2560276</td>\n",
       "      <td>65834</td>\n",
       "      <td>266</td>\n",
       "      <td>OPS</td>\n",
       "      <td>Dhaka</td>\n",
       "      <td>android</td>\n",
       "      <td>normal</td>\n",
       "      <td>0.0</td>\n",
       "      <td>6/24/2019 22:51</td>\n",
       "      <td>6/24/2019 17:22</td>\n",
       "      <td>Yes</td>\n",
       "      <td>No</td>\n",
       "      <td>No</td>\n",
       "    </tr>\n",
       "    <tr>\n",
       "      <th>33</th>\n",
       "      <td>2560223</td>\n",
       "      <td>488106</td>\n",
       "      <td>225</td>\n",
       "      <td>ADC</td>\n",
       "      <td>Dhaka</td>\n",
       "      <td>android</td>\n",
       "      <td>normal</td>\n",
       "      <td>25.0</td>\n",
       "      <td>6/24/2019 22:03</td>\n",
       "      <td>6/24/2019 17:30</td>\n",
       "      <td>Yes</td>\n",
       "      <td>No</td>\n",
       "      <td>No</td>\n",
       "    </tr>\n",
       "    <tr>\n",
       "      <th>34</th>\n",
       "      <td>2560212</td>\n",
       "      <td>956810</td>\n",
       "      <td>459</td>\n",
       "      <td>MPD</td>\n",
       "      <td>Dhaka</td>\n",
       "      <td>android</td>\n",
       "      <td>normal</td>\n",
       "      <td>25.0</td>\n",
       "      <td>6/24/2019 21:57</td>\n",
       "      <td>6/25/2019 3:19</td>\n",
       "      <td>No</td>\n",
       "      <td>No</td>\n",
       "      <td>No</td>\n",
       "    </tr>\n",
       "    <tr>\n",
       "      <th>35</th>\n",
       "      <td>2560205</td>\n",
       "      <td>904476</td>\n",
       "      <td>350</td>\n",
       "      <td>MPD</td>\n",
       "      <td>Dhaka</td>\n",
       "      <td>android</td>\n",
       "      <td>normal</td>\n",
       "      <td>25.0</td>\n",
       "      <td>6/24/2019 21:49</td>\n",
       "      <td>6/24/2019 15:49</td>\n",
       "      <td>No</td>\n",
       "      <td>No</td>\n",
       "      <td>No</td>\n",
       "    </tr>\n",
       "    <tr>\n",
       "      <th>36</th>\n",
       "      <td>2560202</td>\n",
       "      <td>921668</td>\n",
       "      <td>550</td>\n",
       "      <td>MPD</td>\n",
       "      <td>Dhaka</td>\n",
       "      <td>android</td>\n",
       "      <td>normal</td>\n",
       "      <td>25.0</td>\n",
       "      <td>6/24/2019 21:47</td>\n",
       "      <td>6/24/2019 15:47</td>\n",
       "      <td>No</td>\n",
       "      <td>No</td>\n",
       "      <td>No</td>\n",
       "    </tr>\n",
       "    <tr>\n",
       "      <th>37</th>\n",
       "      <td>2560201</td>\n",
       "      <td>956285</td>\n",
       "      <td>100</td>\n",
       "      <td>MPD</td>\n",
       "      <td>Dhaka</td>\n",
       "      <td>android</td>\n",
       "      <td>normal</td>\n",
       "      <td>25.0</td>\n",
       "      <td>6/24/2019 21:47</td>\n",
       "      <td>6/24/2019 15:49</td>\n",
       "      <td>No</td>\n",
       "      <td>Yes</td>\n",
       "      <td>No</td>\n",
       "    </tr>\n",
       "    <tr>\n",
       "      <th>38</th>\n",
       "      <td>2560168</td>\n",
       "      <td>598371</td>\n",
       "      <td>134</td>\n",
       "      <td>ADC</td>\n",
       "      <td>Chuadanga</td>\n",
       "      <td>android</td>\n",
       "      <td>express</td>\n",
       "      <td>35.0</td>\n",
       "      <td>6/24/2019 21:23</td>\n",
       "      <td>6/25/2019 6:25</td>\n",
       "      <td>No</td>\n",
       "      <td>No</td>\n",
       "      <td>Yes</td>\n",
       "    </tr>\n",
       "    <tr>\n",
       "      <th>39</th>\n",
       "      <td>2560166</td>\n",
       "      <td>563359</td>\n",
       "      <td>126</td>\n",
       "      <td>MPD</td>\n",
       "      <td>Dhaka</td>\n",
       "      <td>android</td>\n",
       "      <td>normal</td>\n",
       "      <td>25.0</td>\n",
       "      <td>6/24/2019 21:20</td>\n",
       "      <td>6/24/2019 15:20</td>\n",
       "      <td>No</td>\n",
       "      <td>Yes</td>\n",
       "      <td>No</td>\n",
       "    </tr>\n",
       "    <tr>\n",
       "      <th>40</th>\n",
       "      <td>2560164</td>\n",
       "      <td>634576</td>\n",
       "      <td>210</td>\n",
       "      <td>MPD</td>\n",
       "      <td>Dhaka</td>\n",
       "      <td>android</td>\n",
       "      <td>NaN</td>\n",
       "      <td>25.0</td>\n",
       "      <td>6/24/2019 15:19</td>\n",
       "      <td>6/24/2019 17:47</td>\n",
       "      <td>Yes</td>\n",
       "      <td>Yes</td>\n",
       "      <td>No</td>\n",
       "    </tr>\n",
       "    <tr>\n",
       "      <th>41</th>\n",
       "      <td>2560158</td>\n",
       "      <td>634576</td>\n",
       "      <td>210</td>\n",
       "      <td>MPD</td>\n",
       "      <td>Dhaka</td>\n",
       "      <td>android</td>\n",
       "      <td>NaN</td>\n",
       "      <td>25.0</td>\n",
       "      <td>6/24/2019 15:17</td>\n",
       "      <td>6/24/2019 17:47</td>\n",
       "      <td>Yes</td>\n",
       "      <td>Yes</td>\n",
       "      <td>No</td>\n",
       "    </tr>\n",
       "    <tr>\n",
       "      <th>42</th>\n",
       "      <td>2560157</td>\n",
       "      <td>634576</td>\n",
       "      <td>0</td>\n",
       "      <td>MPD</td>\n",
       "      <td>Dhaka</td>\n",
       "      <td>android</td>\n",
       "      <td>NaN</td>\n",
       "      <td>0.0</td>\n",
       "      <td>6/24/2019 15:17</td>\n",
       "      <td>6/24/2019 17:47</td>\n",
       "      <td>Yes</td>\n",
       "      <td>Yes</td>\n",
       "      <td>No</td>\n",
       "    </tr>\n",
       "    <tr>\n",
       "      <th>43</th>\n",
       "      <td>2560089</td>\n",
       "      <td>243648</td>\n",
       "      <td>140</td>\n",
       "      <td>ADC</td>\n",
       "      <td>Dhaka</td>\n",
       "      <td>android</td>\n",
       "      <td>normal</td>\n",
       "      <td>25.0</td>\n",
       "      <td>6/24/2019 20:17</td>\n",
       "      <td>6/24/2019 14:43</td>\n",
       "      <td>Yes</td>\n",
       "      <td>No</td>\n",
       "      <td>No</td>\n",
       "    </tr>\n",
       "    <tr>\n",
       "      <th>44</th>\n",
       "      <td>2560074</td>\n",
       "      <td>960640</td>\n",
       "      <td>100</td>\n",
       "      <td>MPD</td>\n",
       "      <td>Dhaka</td>\n",
       "      <td>android</td>\n",
       "      <td>normal</td>\n",
       "      <td>25.0</td>\n",
       "      <td>6/24/2019 20:05</td>\n",
       "      <td>6/24/2019 15:13</td>\n",
       "      <td>No</td>\n",
       "      <td>Yes</td>\n",
       "      <td>No</td>\n",
       "    </tr>\n",
       "    <tr>\n",
       "      <th>45</th>\n",
       "      <td>2559955</td>\n",
       "      <td>929572</td>\n",
       "      <td>181</td>\n",
       "      <td>MPD</td>\n",
       "      <td>Dhaka</td>\n",
       "      <td>android</td>\n",
       "      <td>normal</td>\n",
       "      <td>25.0</td>\n",
       "      <td>6/24/2019 19:13</td>\n",
       "      <td>6/24/2019 13:12</td>\n",
       "      <td>No</td>\n",
       "      <td>No</td>\n",
       "      <td>No</td>\n",
       "    </tr>\n",
       "    <tr>\n",
       "      <th>46</th>\n",
       "      <td>2559937</td>\n",
       "      <td>795462</td>\n",
       "      <td>177</td>\n",
       "      <td>MPD</td>\n",
       "      <td>Sylhet City</td>\n",
       "      <td>android</td>\n",
       "      <td>express</td>\n",
       "      <td>0.0</td>\n",
       "      <td>6/24/2019 19:01</td>\n",
       "      <td>6/24/2019 13:23</td>\n",
       "      <td>Yes</td>\n",
       "      <td>No</td>\n",
       "      <td>Yes</td>\n",
       "    </tr>\n",
       "    <tr>\n",
       "      <th>47</th>\n",
       "      <td>2559886</td>\n",
       "      <td>923259</td>\n",
       "      <td>120</td>\n",
       "      <td>MPD</td>\n",
       "      <td>Dhaka</td>\n",
       "      <td>android</td>\n",
       "      <td>normal</td>\n",
       "      <td>25.0</td>\n",
       "      <td>6/24/2019 18:27</td>\n",
       "      <td>6/24/2019 13:26</td>\n",
       "      <td>No</td>\n",
       "      <td>Yes</td>\n",
       "      <td>No</td>\n",
       "    </tr>\n",
       "    <tr>\n",
       "      <th>48</th>\n",
       "      <td>2559875</td>\n",
       "      <td>605919</td>\n",
       "      <td>60</td>\n",
       "      <td>ADC</td>\n",
       "      <td>Dhaka</td>\n",
       "      <td>android</td>\n",
       "      <td>normal</td>\n",
       "      <td>25.0</td>\n",
       "      <td>6/24/2019 18:08</td>\n",
       "      <td>6/24/2019 13:46</td>\n",
       "      <td>No</td>\n",
       "      <td>No</td>\n",
       "      <td>No</td>\n",
       "    </tr>\n",
       "    <tr>\n",
       "      <th>49</th>\n",
       "      <td>2559854</td>\n",
       "      <td>203868</td>\n",
       "      <td>183</td>\n",
       "      <td>ADC</td>\n",
       "      <td>Dhaka</td>\n",
       "      <td>android</td>\n",
       "      <td>normal</td>\n",
       "      <td>0.0</td>\n",
       "      <td>6/24/2019 17:45</td>\n",
       "      <td>6/24/2019 12:14</td>\n",
       "      <td>Yes</td>\n",
       "      <td>No</td>\n",
       "      <td>No</td>\n",
       "    </tr>\n",
       "  </tbody>\n",
       "</table>\n",
       "</div>"
      ],
      "text/plain": [
       "    OrderId  UserId  OrderValue           PaymentType     District  \\\n",
       "0   2562691  663791         168  MPD                         Dhaka   \n",
       "1   2561859  961083         240  MPD                         Dhaka   \n",
       "2   2561434  848517         120  MPD                         Dhaka   \n",
       "3   2561202  276304         185  MPD                         Dhaka   \n",
       "4   2561033  955384         201  MPD                         Dhaka   \n",
       "5   2560941  832391         155  MPD                         Dhaka   \n",
       "6   2560917  832391         105  MPD                         Dhaka   \n",
       "7   2560916  442723         120  MPD                         Dhaka   \n",
       "8   2560895  959412         499  MPD                   Cox's-Bazar   \n",
       "9   2560881  959412         159  MPD                   Cox's-Bazar   \n",
       "10  2560878  960883         726  MPD                         Dhaka   \n",
       "11  2560843  863971          75  MPD                         Dhaka   \n",
       "12  2560834  568726         120  ADC                         Dhaka   \n",
       "13  2560833  765955         490  MPD                         Dhaka   \n",
       "14  2560816   19523         899  MPD                         Dhaka   \n",
       "15  2560802  765955        1400  MPD                         Dhaka   \n",
       "16  2560799  177606         139  MPD                         Dhaka   \n",
       "17  2560764  960859         575  MPD                         Dhaka   \n",
       "18  2560720  118462         486  MPC                         Dhaka   \n",
       "19  2560687  195000         365  MPD                         Dhaka   \n",
       "20  2560615  907237         147  MPD                         Dhaka   \n",
       "21  2560538  637778         284  MPD                         Dhaka   \n",
       "22  2560533   32724         199  MPD                         Dhaka   \n",
       "23  2560530  960811         100  MPD                         Dhaka   \n",
       "24  2560529  228424         167  MPD                         Dhaka   \n",
       "25  2560464  208235         319  MPD                         Dhaka   \n",
       "26  2560433  960776         545  MPD                         Dhaka   \n",
       "27  2560404  930671         120  MPD                         Dhaka   \n",
       "28  2560390  960744         135  MPD                         Dhaka   \n",
       "29  2560344  960750         140  MPD                         Dhaka   \n",
       "30  2560337  960763         889  MPD                         Dhaka   \n",
       "31  2560287  831778         140  MPD                         Dhaka   \n",
       "32  2560276   65834         266  OPS                         Dhaka   \n",
       "33  2560223  488106         225  ADC                         Dhaka   \n",
       "34  2560212  956810         459  MPD                         Dhaka   \n",
       "35  2560205  904476         350  MPD                         Dhaka   \n",
       "36  2560202  921668         550  MPD                         Dhaka   \n",
       "37  2560201  956285         100  MPD                         Dhaka   \n",
       "38  2560168  598371         134  ADC                     Chuadanga   \n",
       "39  2560166  563359         126  MPD                         Dhaka   \n",
       "40  2560164  634576         210  MPD                         Dhaka   \n",
       "41  2560158  634576         210  MPD                         Dhaka   \n",
       "42  2560157  634576           0  MPD                         Dhaka   \n",
       "43  2560089  243648         140  ADC                         Dhaka   \n",
       "44  2560074  960640         100  MPD                         Dhaka   \n",
       "45  2559955  929572         181  MPD                         Dhaka   \n",
       "46  2559937  795462         177  MPD                   Sylhet City   \n",
       "47  2559886  923259         120  MPD                         Dhaka   \n",
       "48  2559875  605919          60  ADC                         Dhaka   \n",
       "49  2559854  203868         183  ADC                         Dhaka   \n",
       "\n",
       "    OrderSource OrderType  DeliveryCharge   OrderPlacedDay  \\\n",
       "0       android    normal            25.0   6/26/2019 9:20   \n",
       "1   mobile-site    normal            35.0  6/25/2019 19:05   \n",
       "2       desktop    normal            35.0  6/25/2019 15:28   \n",
       "3       android    normal            25.0  6/25/2019 13:27   \n",
       "4       android    normal            25.0  6/25/2019 12:13   \n",
       "5       android    normal            25.0  6/25/2019 11:07   \n",
       "6       android    normal            25.0  6/25/2019 10:50   \n",
       "7       android    normal            25.0  6/25/2019 10:50   \n",
       "8       android    normal            55.0  6/25/2019 10:40   \n",
       "9       android    normal            55.0  6/25/2019 10:30   \n",
       "10      android    normal            25.0  6/25/2019 10:29   \n",
       "11           -1       NaN            25.0  6/25/2019 10:11   \n",
       "12      android    normal            25.0  6/25/2019 10:02   \n",
       "13      android    normal            25.0  6/25/2019 10:01   \n",
       "14  mobile-site    normal            35.0   6/25/2019 9:45   \n",
       "15  mobile-site    normal            35.0   6/25/2019 9:33   \n",
       "16      android    normal            25.0   6/25/2019 9:31   \n",
       "17  mobile-site    normal            35.0   6/25/2019 9:09   \n",
       "18       Others       NaN            35.0   6/25/2019 8:32   \n",
       "19      android    normal            25.0   6/25/2019 8:04   \n",
       "20      android    normal            25.0   6/25/2019 6:06   \n",
       "21      android    normal            25.0   6/25/2019 3:46   \n",
       "22  mobile-site    normal             0.0   6/25/2019 3:23   \n",
       "23  mobile-site    normal            35.0   6/25/2019 3:06   \n",
       "24      android    normal            25.0   6/25/2019 3:04   \n",
       "25      android    normal            25.0   6/25/2019 1:01   \n",
       "26      android    normal            25.0   6/25/2019 0:19   \n",
       "27  mobile-site    normal            35.0   6/25/2019 0:09   \n",
       "28      android    normal            25.0   6/25/2019 0:04   \n",
       "29      android    normal            25.0  6/24/2019 23:42   \n",
       "30      android    normal            25.0  6/24/2019 23:33   \n",
       "31      android    normal            25.0  6/24/2019 22:57   \n",
       "32      android    normal             0.0  6/24/2019 22:51   \n",
       "33      android    normal            25.0  6/24/2019 22:03   \n",
       "34      android    normal            25.0  6/24/2019 21:57   \n",
       "35      android    normal            25.0  6/24/2019 21:49   \n",
       "36      android    normal            25.0  6/24/2019 21:47   \n",
       "37      android    normal            25.0  6/24/2019 21:47   \n",
       "38      android   express            35.0  6/24/2019 21:23   \n",
       "39      android    normal            25.0  6/24/2019 21:20   \n",
       "40      android       NaN            25.0  6/24/2019 15:19   \n",
       "41      android       NaN            25.0  6/24/2019 15:17   \n",
       "42      android       NaN             0.0  6/24/2019 15:17   \n",
       "43      android    normal            25.0  6/24/2019 20:17   \n",
       "44      android    normal            25.0  6/24/2019 20:05   \n",
       "45      android    normal            25.0  6/24/2019 19:13   \n",
       "46      android   express             0.0  6/24/2019 19:01   \n",
       "47      android    normal            25.0  6/24/2019 18:27   \n",
       "48      android    normal            25.0  6/24/2019 18:08   \n",
       "49      android    normal             0.0  6/24/2019 17:45   \n",
       "\n",
       "   OrderConfirmDayOverPhone IsCartOrder OrderFromPromotionalEvent isRTO  \n",
       "0            6/26/2019 3:30          No                       Yes    No  \n",
       "1           6/25/2019 13:40          No                       Yes    No  \n",
       "2            6/25/2019 9:27          No                       Yes   Yes  \n",
       "3            6/25/2019 7:27         Yes                        No    No  \n",
       "4            6/25/2019 6:56          No                       Yes    No  \n",
       "5           6/25/2019 13:11          No                       Yes    No  \n",
       "6           6/25/2019 13:11          No                        No    No  \n",
       "7            6/25/2019 4:49          No                       Yes    No  \n",
       "8            6/25/2019 5:05          No                        No   Yes  \n",
       "9            6/25/2019 4:36          No                        No   Yes  \n",
       "10           6/25/2019 4:39          No                        No    No  \n",
       "11           6/25/2019 4:40          No                        No    No  \n",
       "12           6/25/2019 4:59          No                        No    No  \n",
       "13           6/25/2019 4:01         Yes                        No    No  \n",
       "14           6/25/2019 4:45          No                        No    No  \n",
       "15           6/25/2019 3:32          No                        No    No  \n",
       "16           6/25/2019 3:31         Yes                        No    No  \n",
       "17           6/25/2019 4:19          No                        No    No  \n",
       "18           6/25/2019 2:37          No                        No    No  \n",
       "19           6/25/2019 2:04          No                        No    No  \n",
       "20           6/25/2019 0:05          No                        No    No  \n",
       "21           6/25/2019 4:48          No                        No    No  \n",
       "22           6/25/2019 2:34         Yes                       Yes    No  \n",
       "23           6/25/2019 6:01          No                       Yes    No  \n",
       "24           6/25/2019 7:55          No                       Yes    No  \n",
       "25           6/25/2019 4:48          No                       Yes    No  \n",
       "26           6/25/2019 4:11         Yes                        No    No  \n",
       "27           6/25/2019 3:01          No                       Yes    No  \n",
       "28           6/25/2019 2:48          No                        No    No  \n",
       "29          6/24/2019 17:45          No                       Yes    No  \n",
       "30          6/24/2019 17:51          No                        No    No  \n",
       "31          6/24/2019 17:37          No                       Yes    No  \n",
       "32          6/24/2019 17:22         Yes                        No    No  \n",
       "33          6/24/2019 17:30         Yes                        No    No  \n",
       "34           6/25/2019 3:19          No                        No    No  \n",
       "35          6/24/2019 15:49          No                        No    No  \n",
       "36          6/24/2019 15:47          No                        No    No  \n",
       "37          6/24/2019 15:49          No                       Yes    No  \n",
       "38           6/25/2019 6:25          No                        No   Yes  \n",
       "39          6/24/2019 15:20          No                       Yes    No  \n",
       "40          6/24/2019 17:47         Yes                       Yes    No  \n",
       "41          6/24/2019 17:47         Yes                       Yes    No  \n",
       "42          6/24/2019 17:47         Yes                       Yes    No  \n",
       "43          6/24/2019 14:43         Yes                        No    No  \n",
       "44          6/24/2019 15:13          No                       Yes    No  \n",
       "45          6/24/2019 13:12          No                        No    No  \n",
       "46          6/24/2019 13:23         Yes                        No   Yes  \n",
       "47          6/24/2019 13:26          No                       Yes    No  \n",
       "48          6/24/2019 13:46          No                        No    No  \n",
       "49          6/24/2019 12:14         Yes                        No    No  "
      ]
     },
     "execution_count": 47,
     "metadata": {},
     "output_type": "execute_result"
    }
   ],
   "source": [
    "df = pd.read_csv(\"RTOdata.csv\")\n",
    "df.head(50)"
   ]
  },
  {
   "cell_type": "code",
   "execution_count": 3,
   "metadata": {},
   "outputs": [
    {
     "data": {
      "text/plain": [
       "OrderId                        0\n",
       "UserId                         0\n",
       "OrderValue                     0\n",
       "PaymentType                    0\n",
       "District                       0\n",
       "OrderSource                    0\n",
       "OrderType                    417\n",
       "DeliveryCharge                 1\n",
       "OrderPlacedDay                 0\n",
       "OrderConfirmDayOverPhone       0\n",
       "IsCartOrder                    0\n",
       "OrderFromPromotionalEvent      0\n",
       "isRTO                          0\n",
       "dtype: int64"
      ]
     },
     "execution_count": 3,
     "metadata": {},
     "output_type": "execute_result"
    }
   ],
   "source": [
    "df.isna().sum()"
   ]
  },
  {
   "cell_type": "code",
   "execution_count": 4,
   "metadata": {},
   "outputs": [
    {
     "data": {
      "text/html": [
       "<div>\n",
       "<style scoped>\n",
       "    .dataframe tbody tr th:only-of-type {\n",
       "        vertical-align: middle;\n",
       "    }\n",
       "\n",
       "    .dataframe tbody tr th {\n",
       "        vertical-align: top;\n",
       "    }\n",
       "\n",
       "    .dataframe thead th {\n",
       "        text-align: right;\n",
       "    }\n",
       "</style>\n",
       "<table border=\"1\" class=\"dataframe\">\n",
       "  <thead>\n",
       "    <tr style=\"text-align: right;\">\n",
       "      <th></th>\n",
       "      <th>OrderId</th>\n",
       "      <th>UserId</th>\n",
       "      <th>OrderValue</th>\n",
       "      <th>PaymentType</th>\n",
       "      <th>District</th>\n",
       "      <th>OrderSource</th>\n",
       "      <th>OrderType</th>\n",
       "      <th>DeliveryCharge</th>\n",
       "      <th>OrderPlacedDay</th>\n",
       "      <th>OrderConfirmDayOverPhone</th>\n",
       "      <th>IsCartOrder</th>\n",
       "      <th>OrderFromPromotionalEvent</th>\n",
       "      <th>isRTO</th>\n",
       "    </tr>\n",
       "  </thead>\n",
       "  <tbody>\n",
       "    <tr>\n",
       "      <th>count</th>\n",
       "      <td>1.000000e+04</td>\n",
       "      <td>10000.000000</td>\n",
       "      <td>10000.00000</td>\n",
       "      <td>10000</td>\n",
       "      <td>10000</td>\n",
       "      <td>10000</td>\n",
       "      <td>9583</td>\n",
       "      <td>9999.000000</td>\n",
       "      <td>10000</td>\n",
       "      <td>10000</td>\n",
       "      <td>10000</td>\n",
       "      <td>10000</td>\n",
       "      <td>10000</td>\n",
       "    </tr>\n",
       "    <tr>\n",
       "      <th>unique</th>\n",
       "      <td>NaN</td>\n",
       "      <td>NaN</td>\n",
       "      <td>NaN</td>\n",
       "      <td>7</td>\n",
       "      <td>69</td>\n",
       "      <td>9</td>\n",
       "      <td>2</td>\n",
       "      <td>NaN</td>\n",
       "      <td>7138</td>\n",
       "      <td>6359</td>\n",
       "      <td>2</td>\n",
       "      <td>2</td>\n",
       "      <td>2</td>\n",
       "    </tr>\n",
       "    <tr>\n",
       "      <th>top</th>\n",
       "      <td>NaN</td>\n",
       "      <td>NaN</td>\n",
       "      <td>NaN</td>\n",
       "      <td>MPD</td>\n",
       "      <td>Dhaka</td>\n",
       "      <td>android</td>\n",
       "      <td>normal</td>\n",
       "      <td>NaN</td>\n",
       "      <td>6/15/2019 16:23</td>\n",
       "      <td>6/15/2019 7:01</td>\n",
       "      <td>No</td>\n",
       "      <td>No</td>\n",
       "      <td>No</td>\n",
       "    </tr>\n",
       "    <tr>\n",
       "      <th>freq</th>\n",
       "      <td>NaN</td>\n",
       "      <td>NaN</td>\n",
       "      <td>NaN</td>\n",
       "      <td>8553</td>\n",
       "      <td>3784</td>\n",
       "      <td>8720</td>\n",
       "      <td>8809</td>\n",
       "      <td>NaN</td>\n",
       "      <td>16</td>\n",
       "      <td>19</td>\n",
       "      <td>6000</td>\n",
       "      <td>5046</td>\n",
       "      <td>8465</td>\n",
       "    </tr>\n",
       "    <tr>\n",
       "      <th>mean</th>\n",
       "      <td>2.539235e+06</td>\n",
       "      <td>760484.345100</td>\n",
       "      <td>336.97160</td>\n",
       "      <td>NaN</td>\n",
       "      <td>NaN</td>\n",
       "      <td>NaN</td>\n",
       "      <td>NaN</td>\n",
       "      <td>33.782678</td>\n",
       "      <td>NaN</td>\n",
       "      <td>NaN</td>\n",
       "      <td>NaN</td>\n",
       "      <td>NaN</td>\n",
       "      <td>NaN</td>\n",
       "    </tr>\n",
       "    <tr>\n",
       "      <th>std</th>\n",
       "      <td>9.560667e+03</td>\n",
       "      <td>244170.093658</td>\n",
       "      <td>435.38002</td>\n",
       "      <td>NaN</td>\n",
       "      <td>NaN</td>\n",
       "      <td>NaN</td>\n",
       "      <td>NaN</td>\n",
       "      <td>24.795291</td>\n",
       "      <td>NaN</td>\n",
       "      <td>NaN</td>\n",
       "      <td>NaN</td>\n",
       "      <td>NaN</td>\n",
       "      <td>NaN</td>\n",
       "    </tr>\n",
       "    <tr>\n",
       "      <th>min</th>\n",
       "      <td>2.522672e+06</td>\n",
       "      <td>83.000000</td>\n",
       "      <td>0.00000</td>\n",
       "      <td>NaN</td>\n",
       "      <td>NaN</td>\n",
       "      <td>NaN</td>\n",
       "      <td>NaN</td>\n",
       "      <td>0.000000</td>\n",
       "      <td>NaN</td>\n",
       "      <td>NaN</td>\n",
       "      <td>NaN</td>\n",
       "      <td>NaN</td>\n",
       "      <td>NaN</td>\n",
       "    </tr>\n",
       "    <tr>\n",
       "      <th>25%</th>\n",
       "      <td>2.531893e+06</td>\n",
       "      <td>616375.750000</td>\n",
       "      <td>160.00000</td>\n",
       "      <td>NaN</td>\n",
       "      <td>NaN</td>\n",
       "      <td>NaN</td>\n",
       "      <td>NaN</td>\n",
       "      <td>25.000000</td>\n",
       "      <td>NaN</td>\n",
       "      <td>NaN</td>\n",
       "      <td>NaN</td>\n",
       "      <td>NaN</td>\n",
       "      <td>NaN</td>\n",
       "    </tr>\n",
       "    <tr>\n",
       "      <th>50%</th>\n",
       "      <td>2.538966e+06</td>\n",
       "      <td>883312.000000</td>\n",
       "      <td>230.00000</td>\n",
       "      <td>NaN</td>\n",
       "      <td>NaN</td>\n",
       "      <td>NaN</td>\n",
       "      <td>NaN</td>\n",
       "      <td>25.000000</td>\n",
       "      <td>NaN</td>\n",
       "      <td>NaN</td>\n",
       "      <td>NaN</td>\n",
       "      <td>NaN</td>\n",
       "      <td>NaN</td>\n",
       "    </tr>\n",
       "    <tr>\n",
       "      <th>75%</th>\n",
       "      <td>2.546397e+06</td>\n",
       "      <td>950553.000000</td>\n",
       "      <td>386.25000</td>\n",
       "      <td>NaN</td>\n",
       "      <td>NaN</td>\n",
       "      <td>NaN</td>\n",
       "      <td>NaN</td>\n",
       "      <td>55.000000</td>\n",
       "      <td>NaN</td>\n",
       "      <td>NaN</td>\n",
       "      <td>NaN</td>\n",
       "      <td>NaN</td>\n",
       "      <td>NaN</td>\n",
       "    </tr>\n",
       "    <tr>\n",
       "      <th>max</th>\n",
       "      <td>2.562691e+06</td>\n",
       "      <td>961083.000000</td>\n",
       "      <td>12800.00000</td>\n",
       "      <td>NaN</td>\n",
       "      <td>NaN</td>\n",
       "      <td>NaN</td>\n",
       "      <td>NaN</td>\n",
       "      <td>500.000000</td>\n",
       "      <td>NaN</td>\n",
       "      <td>NaN</td>\n",
       "      <td>NaN</td>\n",
       "      <td>NaN</td>\n",
       "      <td>NaN</td>\n",
       "    </tr>\n",
       "  </tbody>\n",
       "</table>\n",
       "</div>"
      ],
      "text/plain": [
       "             OrderId         UserId   OrderValue           PaymentType  \\\n",
       "count   1.000000e+04   10000.000000  10000.00000                 10000   \n",
       "unique           NaN            NaN          NaN                     7   \n",
       "top              NaN            NaN          NaN  MPD                    \n",
       "freq             NaN            NaN          NaN                  8553   \n",
       "mean    2.539235e+06  760484.345100    336.97160                   NaN   \n",
       "std     9.560667e+03  244170.093658    435.38002                   NaN   \n",
       "min     2.522672e+06      83.000000      0.00000                   NaN   \n",
       "25%     2.531893e+06  616375.750000    160.00000                   NaN   \n",
       "50%     2.538966e+06  883312.000000    230.00000                   NaN   \n",
       "75%     2.546397e+06  950553.000000    386.25000                   NaN   \n",
       "max     2.562691e+06  961083.000000  12800.00000                   NaN   \n",
       "\n",
       "       District OrderSource OrderType  DeliveryCharge   OrderPlacedDay  \\\n",
       "count     10000       10000      9583     9999.000000            10000   \n",
       "unique       69           9         2             NaN             7138   \n",
       "top       Dhaka     android    normal             NaN  6/15/2019 16:23   \n",
       "freq       3784        8720      8809             NaN               16   \n",
       "mean        NaN         NaN       NaN       33.782678              NaN   \n",
       "std         NaN         NaN       NaN       24.795291              NaN   \n",
       "min         NaN         NaN       NaN        0.000000              NaN   \n",
       "25%         NaN         NaN       NaN       25.000000              NaN   \n",
       "50%         NaN         NaN       NaN       25.000000              NaN   \n",
       "75%         NaN         NaN       NaN       55.000000              NaN   \n",
       "max         NaN         NaN       NaN      500.000000              NaN   \n",
       "\n",
       "       OrderConfirmDayOverPhone IsCartOrder OrderFromPromotionalEvent  isRTO  \n",
       "count                     10000       10000                     10000  10000  \n",
       "unique                     6359           2                         2      2  \n",
       "top              6/15/2019 7:01          No                        No     No  \n",
       "freq                         19        6000                      5046   8465  \n",
       "mean                        NaN         NaN                       NaN    NaN  \n",
       "std                         NaN         NaN                       NaN    NaN  \n",
       "min                         NaN         NaN                       NaN    NaN  \n",
       "25%                         NaN         NaN                       NaN    NaN  \n",
       "50%                         NaN         NaN                       NaN    NaN  \n",
       "75%                         NaN         NaN                       NaN    NaN  \n",
       "max                         NaN         NaN                       NaN    NaN  "
      ]
     },
     "execution_count": 4,
     "metadata": {},
     "output_type": "execute_result"
    }
   ],
   "source": [
    "df.describe(include='all')"
   ]
  },
  {
   "cell_type": "code",
   "execution_count": 10,
   "metadata": {},
   "outputs": [
    {
     "data": {
      "text/plain": [
       "array(['MPD                 ', 'ADC                 ',\n",
       "       'MPC                 ', 'OPS                 ',\n",
       "       'MPS                 ', 'EMI                 ',\n",
       "       'E-COD               '], dtype=object)"
      ]
     },
     "execution_count": 10,
     "metadata": {},
     "output_type": "execute_result"
    }
   ],
   "source": [
    "df['PaymentType'].unique()"
   ]
  },
  {
   "cell_type": "code",
   "execution_count": 15,
   "metadata": {},
   "outputs": [
    {
     "data": {
      "text/plain": [
       "12800"
      ]
     },
     "execution_count": 15,
     "metadata": {},
     "output_type": "execute_result"
    }
   ],
   "source": [
    "df['OrderValue'].max()"
   ]
  },
  {
   "cell_type": "code",
   "execution_count": 16,
   "metadata": {
    "scrolled": true
   },
   "outputs": [
    {
     "data": {
      "text/plain": [
       "array(['android', 'mobile-site', 'desktop', '-1', 'Others', 'byphone',\n",
       "       'ajkerdeal', 'www.google.com', 'A2I'], dtype=object)"
      ]
     },
     "execution_count": 16,
     "metadata": {},
     "output_type": "execute_result"
    }
   ],
   "source": [
    "df['OrderSource'].unique()"
   ]
  },
  {
   "cell_type": "code",
   "execution_count": 17,
   "metadata": {},
   "outputs": [
    {
     "data": {
      "text/plain": [
       "array(['normal', nan, 'express'], dtype=object)"
      ]
     },
     "execution_count": 17,
     "metadata": {},
     "output_type": "execute_result"
    }
   ],
   "source": [
    "df['OrderType'].unique()"
   ]
  },
  {
   "cell_type": "code",
   "execution_count": 18,
   "metadata": {},
   "outputs": [
    {
     "data": {
      "text/plain": [
       "array([ 25.,  35.,  55.,   0.,  30.,  65.,  75.,  45.,  19.,  nan, 100.,\n",
       "        95.,  50., 200., 500.,  24.,  10.])"
      ]
     },
     "execution_count": 18,
     "metadata": {},
     "output_type": "execute_result"
    }
   ],
   "source": [
    "df['DeliveryCharge'].unique()"
   ]
  },
  {
   "cell_type": "code",
   "execution_count": 19,
   "metadata": {},
   "outputs": [],
   "source": [
    "# df['OrderType'].fillna(df['OrderType'].value_counts().idxmax(),inplace=True)"
   ]
  },
  {
   "cell_type": "code",
   "execution_count": 20,
   "metadata": {},
   "outputs": [],
   "source": [
    "for ind in df.index:\n",
    "    if pd.isnull(df['OrderType'][ind]):\n",
    "        if df['DeliveryCharge'][ind] >=75:\n",
    "            df['OrderType'][ind] = 'express'\n",
    "        else:\n",
    "            df['OrderType'][ind]='normal'"
   ]
  },
  {
   "cell_type": "code",
   "execution_count": 21,
   "metadata": {},
   "outputs": [],
   "source": [
    "for ind in df.index:\n",
    "    if pd.isnull(df['DeliveryCharge'][ind]):\n",
    "        if df['OrderType'][ind] =='express':\n",
    "            df['DeliveryCharge'][ind] = 75\n",
    "        else:\n",
    "            df['DeliveryCharge'][ind]=55"
   ]
  },
  {
   "cell_type": "code",
   "execution_count": 22,
   "metadata": {
    "scrolled": true
   },
   "outputs": [
    {
     "data": {
      "text/plain": [
       "OrderId                      0\n",
       "UserId                       0\n",
       "OrderValue                   0\n",
       "PaymentType                  0\n",
       "District                     0\n",
       "OrderSource                  0\n",
       "OrderType                    0\n",
       "DeliveryCharge               0\n",
       "OrderPlacedDay               0\n",
       "OrderConfirmDayOverPhone     0\n",
       "IsCartOrder                  0\n",
       "OrderFromPromotionalEvent    0\n",
       "isRTO                        0\n",
       "dtype: int64"
      ]
     },
     "execution_count": 22,
     "metadata": {},
     "output_type": "execute_result"
    }
   ],
   "source": [
    "df.isna().sum()"
   ]
  },
  {
   "cell_type": "code",
   "execution_count": 23,
   "metadata": {},
   "outputs": [
    {
     "data": {
      "image/png": "[encoded data removed]",
      "text/plain": [
       "<Figure size 432x288 with 1 Axes>"
      ]
     },
     "metadata": {},
     "output_type": "display_data"
    }
   ],
   "source": [
    "plot = sns.countplot(df[\"isRTO\"])"
   ]
  },
  {
   "cell_type": "code",
   "execution_count": 24,
   "metadata": {
    "scrolled": true
   },
   "outputs": [
    {
     "data": {
      "image/png": "[encoded data removed]",
      "text/plain": [
       "<Figure size 432x288 with 1 Axes>"
      ]
     },
     "metadata": {},
     "output_type": "display_data"
    }
   ],
   "source": [
    "plot = sns.countplot(df[\"PaymentType\"], \n",
    "                     hue=df[\"isRTO\"])"
   ]
  },
  {
   "cell_type": "code",
   "execution_count": 25,
   "metadata": {
    "scrolled": true
   },
   "outputs": [
    {
     "data": {
      "image/png": "[encoded data removed]",
      "text/plain": [
       "<Figure size 432x288 with 1 Axes>"
      ]
     },
     "metadata": {},
     "output_type": "display_data"
    }
   ],
   "source": [
    "plot = sns.countplot(df[\"OrderType\"], \n",
    "                     hue=df[\"isRTO\"])"
   ]
  },
  {
   "cell_type": "code",
   "execution_count": 48,
   "metadata": {},
   "outputs": [
    {
     "data": {
      "image/png": "[encoded data removed]",
      "text/plain": [
       "<Figure size 720x360 with 1 Axes>"
      ]
     },
     "metadata": {},
     "output_type": "display_data"
    }
   ],
   "source": [
    "plt.figure(figsize=(10,5))\n",
    "plot = sns.countplot(df[\"OrderSource\"], \n",
    "                     hue=df[\"isRTO\"])\n"
   ]
  },
  {
   "cell_type": "code",
   "execution_count": 49,
   "metadata": {
    "scrolled": true
   },
   "outputs": [
    {
     "data": {
      "image/png": "[encoded data removed]",
      "text/plain": [
       "<Figure size 432x288 with 1 Axes>"
      ]
     },
     "metadata": {},
     "output_type": "display_data"
    }
   ],
   "source": [
    "plot = sns.countplot(df[\"OrderFromPromotionalEvent\"], \n",
    "                     hue=df[\"isRTO\"])"
   ]
  },
  {
   "cell_type": "code",
   "execution_count": 50,
   "metadata": {},
   "outputs": [
    {
     "data": {
      "image/png": "[encoded data removed]",
      "text/plain": [
       "<Figure size 432x288 with 1 Axes>"
      ]
     },
     "metadata": {},
     "output_type": "display_data"
    }
   ],
   "source": [
    "plot = sns.distplot(df[\"OrderValue\"],\n",
    "                    hist=True)"
   ]
  },
  {
   "cell_type": "code",
   "execution_count": 29,
   "metadata": {},
   "outputs": [
    {
     "data": {
      "image/png": "[encoded data removed]",
      "text/plain": [
       "<Figure size 432x432 with 3 Axes>"
      ]
     },
     "metadata": {},
     "output_type": "display_data"
    }
   ],
   "source": [
    "plot = sns.jointplot(x=df[\"OrderValue\"],\n",
    "                     y=df[\"DeliveryCharge\"])"
   ]
  },
  {
   "cell_type": "code",
   "execution_count": 30,
   "metadata": {},
   "outputs": [
    {
     "data": {
      "image/png": "[encoded data removed]",
      "text/plain": [
       "<Figure size 432x288 with 1 Axes>"
      ]
     },
     "metadata": {},
     "output_type": "display_data"
    }
   ],
   "source": [
    "plot = sns.boxplot(df[\"OrderValue\"])"
   ]
  },
  {
   "cell_type": "code",
   "execution_count": 51,
   "metadata": {
    "scrolled": false
   },
   "outputs": [
    {
     "data": {
      "text/plain": [
       "isRTO\n",
       "No     34.096526\n",
       "Yes    32.052117\n",
       "Name: DeliveryCharge, dtype: float64"
      ]
     },
     "execution_count": 51,
     "metadata": {},
     "output_type": "execute_result"
    }
   ],
   "source": [
    "df.groupby(\"isRTO\").DeliveryCharge.mean()"
   ]
  },
  {
   "cell_type": "code",
   "execution_count": 52,
   "metadata": {
    "scrolled": true
   },
   "outputs": [
    {
     "data": {
      "text/plain": [
       "Index(['OrderId', 'UserId', 'OrderValue', 'PaymentType', 'District',\n",
       "       'OrderSource', 'OrderType', 'DeliveryCharge', 'OrderPlacedDay',\n",
       "       'OrderConfirmDayOverPhone', 'IsCartOrder', 'OrderFromPromotionalEvent',\n",
       "       'isRTO'],\n",
       "      dtype='object')"
      ]
     },
     "execution_count": 52,
     "metadata": {},
     "output_type": "execute_result"
    }
   ],
   "source": [
    "df.columns"
   ]
  },
  {
   "cell_type": "code",
   "execution_count": 53,
   "metadata": {
    "scrolled": false
   },
   "outputs": [
    {
     "data": {
      "text/plain": [
       "OrderId                        int64\n",
       "UserId                         int64\n",
       "OrderValue                     int64\n",
       "PaymentType                   object\n",
       "District                      object\n",
       "OrderSource                   object\n",
       "OrderType                     object\n",
       "DeliveryCharge               float64\n",
       "OrderPlacedDay                object\n",
       "OrderConfirmDayOverPhone      object\n",
       "IsCartOrder                   object\n",
       "OrderFromPromotionalEvent     object\n",
       "isRTO                         object\n",
       "dtype: object"
      ]
     },
     "execution_count": 53,
     "metadata": {},
     "output_type": "execute_result"
    }
   ],
   "source": [
    "df.dtypes"
   ]
  },
  {
   "cell_type": "code",
   "execution_count": 56,
   "metadata": {
    "scrolled": true
   },
   "outputs": [
    {
     "name": "stdout",
     "output_type": "stream",
     "text": [
      "PaymentType ----> {0: 0, 1: 1, 2: 2, 3: 3, 4: 4, 5: 5, 6: 6}\n",
      "District ----> {0: 0, 1: 1, 2: 2, 3: 3, 4: 4, 5: 5, 6: 6, 7: 7, 8: 8, 9: 9, 10: 10, 11: 11, 12: 12, 13: 13, 14: 14, 15: 15, 16: 16, 17: 17, 18: 18, 19: 19, 20: 20, 21: 21, 22: 22, 23: 23, 24: 24, 25: 25, 26: 26, 27: 27, 28: 28, 29: 29, 30: 30, 31: 31, 32: 32, 33: 33, 34: 34, 35: 35, 36: 36, 37: 37, 38: 38, 39: 39, 40: 40, 41: 41, 42: 42, 43: 43, 44: 44, 45: 45, 46: 46, 47: 47, 48: 48, 49: 49, 50: 50, 51: 51, 52: 52, 53: 53, 54: 54, 55: 55, 56: 56, 57: 57, 58: 58, 59: 59, 60: 60, 61: 61, 62: 62, 63: 63, 64: 64, 65: 65, 66: 66, 67: 67, 68: 68}\n",
      "OrderSource ----> {0: 0, 1: 1, 2: 2, 3: 3, 4: 4, 5: 5, 6: 6, 7: 7, 8: 8}\n",
      "OrderType ----> {0: -1, 1: 0, 2: 1}\n",
      "IsCartOrder ----> {0: 0, 1: 1}\n",
      "OrderFromPromotionalEvent ----> {0: 0, 1: 1}\n",
      "isRTO ----> {0: 0, 1: 1}\n"
     ]
    }
   ],
   "source": [
    "cat_cols = ['PaymentType','District','OrderSource','OrderType','IsCartOrder','OrderFromPromotionalEvent','isRTO']\n",
    "for col in cat_cols:\n",
    "    df[col] = df[col].astype('category')\n",
    "    print(col,'---->', dict(enumerate(df[col].cat.categories)))\n",
    "    df[col] = df[col].cat.codes"
   ]
  },
  {
   "cell_type": "code",
   "execution_count": 81,
   "metadata": {
    "scrolled": false
   },
   "outputs": [
    {
     "ename": "KeyError",
     "evalue": "'OrderPlacedDay'",
     "output_type": "error",
     "traceback": [
      "\u001b[1;31m---------------------------------------------------------------------------\u001b[0m",
      "\u001b[1;31mKeyError\u001b[0m                                  Traceback (most recent call last)",
      "\u001b[1;32mC:\\ProgramData\\Anaconda3\\lib\\site-packages\\pandas\\core\\indexes\\base.py\u001b[0m in \u001b[0;36mget_loc\u001b[1;34m(self, key, method, tolerance)\u001b[0m\n\u001b[0;32m   3360\u001b[0m             \u001b[1;32mtry\u001b[0m\u001b[1;33m:\u001b[0m\u001b[1;33m\u001b[0m\u001b[1;33m\u001b[0m\u001b[0m\n\u001b[1;32m-> 3361\u001b[1;33m                 \u001b[1;32mreturn\u001b[0m \u001b[0mself\u001b[0m\u001b[1;33m.\u001b[0m\u001b[0m_engine\u001b[0m\u001b[1;33m.\u001b[0m\u001b[0mget_loc\u001b[0m\u001b[1;33m(\u001b[0m\u001b[0mcasted_key\u001b[0m\u001b[1;33m)\u001b[0m\u001b[1;33m\u001b[0m\u001b[1;33m\u001b[0m\u001b[0m\n\u001b[0m\u001b[0;32m   3362\u001b[0m             \u001b[1;32mexcept\u001b[0m \u001b[0mKeyError\u001b[0m \u001b[1;32mas\u001b[0m \u001b[0merr\u001b[0m\u001b[1;33m:\u001b[0m\u001b[1;33m\u001b[0m\u001b[1;33m\u001b[0m\u001b[0m\n",
      "\u001b[1;32mC:\\ProgramData\\Anaconda3\\lib\\site-packages\\pandas\\_libs\\index.pyx\u001b[0m in \u001b[0;36mpandas._libs.index.IndexEngine.get_loc\u001b[1;34m()\u001b[0m\n",
      "\u001b[1;32mC:\\ProgramData\\Anaconda3\\lib\\site-packages\\pandas\\_libs\\index.pyx\u001b[0m in \u001b[0;36mpandas._libs.index.IndexEngine.get_loc\u001b[1;34m()\u001b[0m\n",
      "\u001b[1;32mpandas\\_libs\\hashtable_class_helper.pxi\u001b[0m in \u001b[0;36mpandas._libs.hashtable.PyObjectHashTable.get_item\u001b[1;34m()\u001b[0m\n",
      "\u001b[1;32mpandas\\_libs\\hashtable_class_helper.pxi\u001b[0m in \u001b[0;36mpandas._libs.hashtable.PyObjectHashTable.get_item\u001b[1;34m()\u001b[0m\n",
      "\u001b[1;31mKeyError\u001b[0m: 'OrderPlacedDay'",
      "\nThe above exception was the direct cause of the following exception:\n",
      "\u001b[1;31mKeyError\u001b[0m                                  Traceback (most recent call last)",
      "\u001b[1;32m~\\AppData\\Local\\Temp/ipykernel_1696/138460447.py\u001b[0m in \u001b[0;36m<module>\u001b[1;34m\u001b[0m\n\u001b[1;32m----> 1\u001b[1;33m \u001b[1;32mdel\u001b[0m \u001b[0mdf\u001b[0m\u001b[1;33m[\u001b[0m\u001b[1;34m'OrderPlacedDay'\u001b[0m\u001b[1;33m]\u001b[0m\u001b[1;33m\u001b[0m\u001b[1;33m\u001b[0m\u001b[0m\n\u001b[0m\u001b[0;32m      2\u001b[0m \u001b[1;32mdel\u001b[0m \u001b[0mdf\u001b[0m\u001b[1;33m[\u001b[0m\u001b[1;34m'OrderConfirmDayOverPhone'\u001b[0m\u001b[1;33m]\u001b[0m\u001b[1;33m\u001b[0m\u001b[1;33m\u001b[0m\u001b[0m\n",
      "\u001b[1;32mC:\\ProgramData\\Anaconda3\\lib\\site-packages\\pandas\\core\\generic.py\u001b[0m in \u001b[0;36m__delitem__\u001b[1;34m(self, key)\u001b[0m\n\u001b[0;32m   3961\u001b[0m             \u001b[1;31m# there was no match, this call should raise the appropriate\u001b[0m\u001b[1;33m\u001b[0m\u001b[1;33m\u001b[0m\u001b[0m\n\u001b[0;32m   3962\u001b[0m             \u001b[1;31m# exception:\u001b[0m\u001b[1;33m\u001b[0m\u001b[1;33m\u001b[0m\u001b[0m\n\u001b[1;32m-> 3963\u001b[1;33m             \u001b[0mloc\u001b[0m \u001b[1;33m=\u001b[0m \u001b[0mself\u001b[0m\u001b[1;33m.\u001b[0m\u001b[0maxes\u001b[0m\u001b[1;33m[\u001b[0m\u001b[1;33m-\u001b[0m\u001b[1;36m1\u001b[0m\u001b[1;33m]\u001b[0m\u001b[1;33m.\u001b[0m\u001b[0mget_loc\u001b[0m\u001b[1;33m(\u001b[0m\u001b[0mkey\u001b[0m\u001b[1;33m)\u001b[0m\u001b[1;33m\u001b[0m\u001b[1;33m\u001b[0m\u001b[0m\n\u001b[0m\u001b[0;32m   3964\u001b[0m             \u001b[0mself\u001b[0m\u001b[1;33m.\u001b[0m\u001b[0m_mgr\u001b[0m \u001b[1;33m=\u001b[0m \u001b[0mself\u001b[0m\u001b[1;33m.\u001b[0m\u001b[0m_mgr\u001b[0m\u001b[1;33m.\u001b[0m\u001b[0midelete\u001b[0m\u001b[1;33m(\u001b[0m\u001b[0mloc\u001b[0m\u001b[1;33m)\u001b[0m\u001b[1;33m\u001b[0m\u001b[1;33m\u001b[0m\u001b[0m\n\u001b[0;32m   3965\u001b[0m \u001b[1;33m\u001b[0m\u001b[0m\n",
      "\u001b[1;32mC:\\ProgramData\\Anaconda3\\lib\\site-packages\\pandas\\core\\indexes\\base.py\u001b[0m in \u001b[0;36mget_loc\u001b[1;34m(self, key, method, tolerance)\u001b[0m\n\u001b[0;32m   3361\u001b[0m                 \u001b[1;32mreturn\u001b[0m \u001b[0mself\u001b[0m\u001b[1;33m.\u001b[0m\u001b[0m_engine\u001b[0m\u001b[1;33m.\u001b[0m\u001b[0mget_loc\u001b[0m\u001b[1;33m(\u001b[0m\u001b[0mcasted_key\u001b[0m\u001b[1;33m)\u001b[0m\u001b[1;33m\u001b[0m\u001b[1;33m\u001b[0m\u001b[0m\n\u001b[0;32m   3362\u001b[0m             \u001b[1;32mexcept\u001b[0m \u001b[0mKeyError\u001b[0m \u001b[1;32mas\u001b[0m \u001b[0merr\u001b[0m\u001b[1;33m:\u001b[0m\u001b[1;33m\u001b[0m\u001b[1;33m\u001b[0m\u001b[0m\n\u001b[1;32m-> 3363\u001b[1;33m                 \u001b[1;32mraise\u001b[0m \u001b[0mKeyError\u001b[0m\u001b[1;33m(\u001b[0m\u001b[0mkey\u001b[0m\u001b[1;33m)\u001b[0m \u001b[1;32mfrom\u001b[0m \u001b[0merr\u001b[0m\u001b[1;33m\u001b[0m\u001b[1;33m\u001b[0m\u001b[0m\n\u001b[0m\u001b[0;32m   3364\u001b[0m \u001b[1;33m\u001b[0m\u001b[0m\n\u001b[0;32m   3365\u001b[0m         \u001b[1;32mif\u001b[0m \u001b[0mis_scalar\u001b[0m\u001b[1;33m(\u001b[0m\u001b[0mkey\u001b[0m\u001b[1;33m)\u001b[0m \u001b[1;32mand\u001b[0m \u001b[0misna\u001b[0m\u001b[1;33m(\u001b[0m\u001b[0mkey\u001b[0m\u001b[1;33m)\u001b[0m \u001b[1;32mand\u001b[0m \u001b[1;32mnot\u001b[0m \u001b[0mself\u001b[0m\u001b[1;33m.\u001b[0m\u001b[0mhasnans\u001b[0m\u001b[1;33m:\u001b[0m\u001b[1;33m\u001b[0m\u001b[1;33m\u001b[0m\u001b[0m\n",
      "\u001b[1;31mKeyError\u001b[0m: 'OrderPlacedDay'"
     ]
    }
   ],
   "source": [
    "del df['OrderPlacedDay']\n",
    "del df['OrderConfirmDayOverPhone']\n"
   ]
  },
  {
   "cell_type": "code",
   "execution_count": 66,
   "metadata": {},
   "outputs": [
    {
     "data": {
      "text/html": [
       "<div>\n",
       "<style scoped>\n",
       "    .dataframe tbody tr th:only-of-type {\n",
       "        vertical-align: middle;\n",
       "    }\n",
       "\n",
       "    .dataframe tbody tr th {\n",
       "        vertical-align: top;\n",
       "    }\n",
       "\n",
       "    .dataframe thead th {\n",
       "        text-align: right;\n",
       "    }\n",
       "</style>\n",
       "<table border=\"1\" class=\"dataframe\">\n",
       "  <thead>\n",
       "    <tr style=\"text-align: right;\">\n",
       "      <th></th>\n",
       "      <th>UserId</th>\n",
       "      <th>OrderValue</th>\n",
       "      <th>PaymentType</th>\n",
       "      <th>District</th>\n",
       "      <th>OrderSource</th>\n",
       "      <th>OrderType</th>\n",
       "      <th>DeliveryCharge</th>\n",
       "      <th>IsCartOrder</th>\n",
       "      <th>OrderFromPromotionalEvent</th>\n",
       "      <th>isRTO</th>\n",
       "    </tr>\n",
       "  </thead>\n",
       "  <tbody>\n",
       "    <tr>\n",
       "      <th>0</th>\n",
       "      <td>663791</td>\n",
       "      <td>168</td>\n",
       "      <td>4</td>\n",
       "      <td>14</td>\n",
       "      <td>4</td>\n",
       "      <td>2</td>\n",
       "      <td>25.0</td>\n",
       "      <td>0</td>\n",
       "      <td>1</td>\n",
       "      <td>0</td>\n",
       "    </tr>\n",
       "    <tr>\n",
       "      <th>1</th>\n",
       "      <td>961083</td>\n",
       "      <td>240</td>\n",
       "      <td>4</td>\n",
       "      <td>14</td>\n",
       "      <td>7</td>\n",
       "      <td>2</td>\n",
       "      <td>35.0</td>\n",
       "      <td>0</td>\n",
       "      <td>1</td>\n",
       "      <td>0</td>\n",
       "    </tr>\n",
       "    <tr>\n",
       "      <th>2</th>\n",
       "      <td>848517</td>\n",
       "      <td>120</td>\n",
       "      <td>4</td>\n",
       "      <td>14</td>\n",
       "      <td>6</td>\n",
       "      <td>2</td>\n",
       "      <td>35.0</td>\n",
       "      <td>0</td>\n",
       "      <td>1</td>\n",
       "      <td>1</td>\n",
       "    </tr>\n",
       "    <tr>\n",
       "      <th>3</th>\n",
       "      <td>276304</td>\n",
       "      <td>185</td>\n",
       "      <td>4</td>\n",
       "      <td>14</td>\n",
       "      <td>4</td>\n",
       "      <td>2</td>\n",
       "      <td>25.0</td>\n",
       "      <td>1</td>\n",
       "      <td>0</td>\n",
       "      <td>0</td>\n",
       "    </tr>\n",
       "    <tr>\n",
       "      <th>4</th>\n",
       "      <td>955384</td>\n",
       "      <td>201</td>\n",
       "      <td>4</td>\n",
       "      <td>14</td>\n",
       "      <td>4</td>\n",
       "      <td>2</td>\n",
       "      <td>25.0</td>\n",
       "      <td>0</td>\n",
       "      <td>1</td>\n",
       "      <td>0</td>\n",
       "    </tr>\n",
       "  </tbody>\n",
       "</table>\n",
       "</div>"
      ],
      "text/plain": [
       "   UserId  OrderValue  PaymentType  District  OrderSource  OrderType  \\\n",
       "0  663791         168            4        14            4          2   \n",
       "1  961083         240            4        14            7          2   \n",
       "2  848517         120            4        14            6          2   \n",
       "3  276304         185            4        14            4          2   \n",
       "4  955384         201            4        14            4          2   \n",
       "\n",
       "   DeliveryCharge  IsCartOrder  OrderFromPromotionalEvent  isRTO  \n",
       "0            25.0            0                          1      0  \n",
       "1            35.0            0                          1      0  \n",
       "2            35.0            0                          1      1  \n",
       "3            25.0            1                          0      0  \n",
       "4            25.0            0                          1      0  "
      ]
     },
     "execution_count": 66,
     "metadata": {},
     "output_type": "execute_result"
    }
   ],
   "source": []
  },
  {
   "cell_type": "code",
   "execution_count": 70,
   "metadata": {},
   "outputs": [
    {
     "ename": "KeyError",
     "evalue": "'UserId'",
     "output_type": "error",
     "traceback": [
      "\u001b[1;31m---------------------------------------------------------------------------\u001b[0m",
      "\u001b[1;31mKeyError\u001b[0m                                  Traceback (most recent call last)",
      "\u001b[1;32mC:\\ProgramData\\Anaconda3\\lib\\site-packages\\pandas\\core\\indexes\\base.py\u001b[0m in \u001b[0;36mget_loc\u001b[1;34m(self, key, method, tolerance)\u001b[0m\n\u001b[0;32m   3360\u001b[0m             \u001b[1;32mtry\u001b[0m\u001b[1;33m:\u001b[0m\u001b[1;33m\u001b[0m\u001b[1;33m\u001b[0m\u001b[0m\n\u001b[1;32m-> 3361\u001b[1;33m                 \u001b[1;32mreturn\u001b[0m \u001b[0mself\u001b[0m\u001b[1;33m.\u001b[0m\u001b[0m_engine\u001b[0m\u001b[1;33m.\u001b[0m\u001b[0mget_loc\u001b[0m\u001b[1;33m(\u001b[0m\u001b[0mcasted_key\u001b[0m\u001b[1;33m)\u001b[0m\u001b[1;33m\u001b[0m\u001b[1;33m\u001b[0m\u001b[0m\n\u001b[0m\u001b[0;32m   3362\u001b[0m             \u001b[1;32mexcept\u001b[0m \u001b[0mKeyError\u001b[0m \u001b[1;32mas\u001b[0m \u001b[0merr\u001b[0m\u001b[1;33m:\u001b[0m\u001b[1;33m\u001b[0m\u001b[1;33m\u001b[0m\u001b[0m\n",
      "\u001b[1;32mC:\\ProgramData\\Anaconda3\\lib\\site-packages\\pandas\\_libs\\index.pyx\u001b[0m in \u001b[0;36mpandas._libs.index.IndexEngine.get_loc\u001b[1;34m()\u001b[0m\n",
      "\u001b[1;32mC:\\ProgramData\\Anaconda3\\lib\\site-packages\\pandas\\_libs\\index.pyx\u001b[0m in \u001b[0;36mpandas._libs.index.IndexEngine.get_loc\u001b[1;34m()\u001b[0m\n",
      "\u001b[1;32mpandas\\_libs\\hashtable_class_helper.pxi\u001b[0m in \u001b[0;36mpandas._libs.hashtable.PyObjectHashTable.get_item\u001b[1;34m()\u001b[0m\n",
      "\u001b[1;32mpandas\\_libs\\hashtable_class_helper.pxi\u001b[0m in \u001b[0;36mpandas._libs.hashtable.PyObjectHashTable.get_item\u001b[1;34m()\u001b[0m\n",
      "\u001b[1;31mKeyError\u001b[0m: 'UserId'",
      "\nThe above exception was the direct cause of the following exception:\n",
      "\u001b[1;31mKeyError\u001b[0m                                  Traceback (most recent call last)",
      "\u001b[1;32m~\\AppData\\Local\\Temp/ipykernel_1696/3434178481.py\u001b[0m in \u001b[0;36m<module>\u001b[1;34m\u001b[0m\n\u001b[1;32m----> 1\u001b[1;33m \u001b[1;32mdel\u001b[0m \u001b[0mdf\u001b[0m\u001b[1;33m[\u001b[0m\u001b[1;34m'UserId'\u001b[0m\u001b[1;33m]\u001b[0m\u001b[1;33m\u001b[0m\u001b[1;33m\u001b[0m\u001b[0m\n\u001b[0m",
      "\u001b[1;32mC:\\ProgramData\\Anaconda3\\lib\\site-packages\\pandas\\core\\generic.py\u001b[0m in \u001b[0;36m__delitem__\u001b[1;34m(self, key)\u001b[0m\n\u001b[0;32m   3961\u001b[0m             \u001b[1;31m# there was no match, this call should raise the appropriate\u001b[0m\u001b[1;33m\u001b[0m\u001b[1;33m\u001b[0m\u001b[0m\n\u001b[0;32m   3962\u001b[0m             \u001b[1;31m# exception:\u001b[0m\u001b[1;33m\u001b[0m\u001b[1;33m\u001b[0m\u001b[0m\n\u001b[1;32m-> 3963\u001b[1;33m             \u001b[0mloc\u001b[0m \u001b[1;33m=\u001b[0m \u001b[0mself\u001b[0m\u001b[1;33m.\u001b[0m\u001b[0maxes\u001b[0m\u001b[1;33m[\u001b[0m\u001b[1;33m-\u001b[0m\u001b[1;36m1\u001b[0m\u001b[1;33m]\u001b[0m\u001b[1;33m.\u001b[0m\u001b[0mget_loc\u001b[0m\u001b[1;33m(\u001b[0m\u001b[0mkey\u001b[0m\u001b[1;33m)\u001b[0m\u001b[1;33m\u001b[0m\u001b[1;33m\u001b[0m\u001b[0m\n\u001b[0m\u001b[0;32m   3964\u001b[0m             \u001b[0mself\u001b[0m\u001b[1;33m.\u001b[0m\u001b[0m_mgr\u001b[0m \u001b[1;33m=\u001b[0m \u001b[0mself\u001b[0m\u001b[1;33m.\u001b[0m\u001b[0m_mgr\u001b[0m\u001b[1;33m.\u001b[0m\u001b[0midelete\u001b[0m\u001b[1;33m(\u001b[0m\u001b[0mloc\u001b[0m\u001b[1;33m)\u001b[0m\u001b[1;33m\u001b[0m\u001b[1;33m\u001b[0m\u001b[0m\n\u001b[0;32m   3965\u001b[0m \u001b[1;33m\u001b[0m\u001b[0m\n",
      "\u001b[1;32mC:\\ProgramData\\Anaconda3\\lib\\site-packages\\pandas\\core\\indexes\\base.py\u001b[0m in \u001b[0;36mget_loc\u001b[1;34m(self, key, method, tolerance)\u001b[0m\n\u001b[0;32m   3361\u001b[0m                 \u001b[1;32mreturn\u001b[0m \u001b[0mself\u001b[0m\u001b[1;33m.\u001b[0m\u001b[0m_engine\u001b[0m\u001b[1;33m.\u001b[0m\u001b[0mget_loc\u001b[0m\u001b[1;33m(\u001b[0m\u001b[0mcasted_key\u001b[0m\u001b[1;33m)\u001b[0m\u001b[1;33m\u001b[0m\u001b[1;33m\u001b[0m\u001b[0m\n\u001b[0;32m   3362\u001b[0m             \u001b[1;32mexcept\u001b[0m \u001b[0mKeyError\u001b[0m \u001b[1;32mas\u001b[0m \u001b[0merr\u001b[0m\u001b[1;33m:\u001b[0m\u001b[1;33m\u001b[0m\u001b[1;33m\u001b[0m\u001b[0m\n\u001b[1;32m-> 3363\u001b[1;33m                 \u001b[1;32mraise\u001b[0m \u001b[0mKeyError\u001b[0m\u001b[1;33m(\u001b[0m\u001b[0mkey\u001b[0m\u001b[1;33m)\u001b[0m \u001b[1;32mfrom\u001b[0m \u001b[0merr\u001b[0m\u001b[1;33m\u001b[0m\u001b[1;33m\u001b[0m\u001b[0m\n\u001b[0m\u001b[0;32m   3364\u001b[0m \u001b[1;33m\u001b[0m\u001b[0m\n\u001b[0;32m   3365\u001b[0m         \u001b[1;32mif\u001b[0m \u001b[0mis_scalar\u001b[0m\u001b[1;33m(\u001b[0m\u001b[0mkey\u001b[0m\u001b[1;33m)\u001b[0m \u001b[1;32mand\u001b[0m \u001b[0misna\u001b[0m\u001b[1;33m(\u001b[0m\u001b[0mkey\u001b[0m\u001b[1;33m)\u001b[0m \u001b[1;32mand\u001b[0m \u001b[1;32mnot\u001b[0m \u001b[0mself\u001b[0m\u001b[1;33m.\u001b[0m\u001b[0mhasnans\u001b[0m\u001b[1;33m:\u001b[0m\u001b[1;33m\u001b[0m\u001b[1;33m\u001b[0m\u001b[0m\n",
      "\u001b[1;31mKeyError\u001b[0m: 'UserId'"
     ]
    }
   ],
   "source": []
  },
  {
   "cell_type": "code",
   "execution_count": 71,
   "metadata": {},
   "outputs": [
    {
     "data": {
      "text/html": [
       "<div>\n",
       "<style scoped>\n",
       "    .dataframe tbody tr th:only-of-type {\n",
       "        vertical-align: middle;\n",
       "    }\n",
       "\n",
       "    .dataframe tbody tr th {\n",
       "        vertical-align: top;\n",
       "    }\n",
       "\n",
       "    .dataframe thead th {\n",
       "        text-align: right;\n",
       "    }\n",
       "</style>\n",
       "<table border=\"1\" class=\"dataframe\">\n",
       "  <thead>\n",
       "    <tr style=\"text-align: right;\">\n",
       "      <th></th>\n",
       "      <th>OrderValue</th>\n",
       "      <th>PaymentType</th>\n",
       "      <th>District</th>\n",
       "      <th>OrderSource</th>\n",
       "      <th>OrderType</th>\n",
       "      <th>DeliveryCharge</th>\n",
       "      <th>IsCartOrder</th>\n",
       "      <th>OrderFromPromotionalEvent</th>\n",
       "      <th>isRTO</th>\n",
       "    </tr>\n",
       "  </thead>\n",
       "  <tbody>\n",
       "    <tr>\n",
       "      <th>0</th>\n",
       "      <td>168</td>\n",
       "      <td>4</td>\n",
       "      <td>14</td>\n",
       "      <td>4</td>\n",
       "      <td>2</td>\n",
       "      <td>25.0</td>\n",
       "      <td>0</td>\n",
       "      <td>1</td>\n",
       "      <td>0</td>\n",
       "    </tr>\n",
       "    <tr>\n",
       "      <th>1</th>\n",
       "      <td>240</td>\n",
       "      <td>4</td>\n",
       "      <td>14</td>\n",
       "      <td>7</td>\n",
       "      <td>2</td>\n",
       "      <td>35.0</td>\n",
       "      <td>0</td>\n",
       "      <td>1</td>\n",
       "      <td>0</td>\n",
       "    </tr>\n",
       "    <tr>\n",
       "      <th>2</th>\n",
       "      <td>120</td>\n",
       "      <td>4</td>\n",
       "      <td>14</td>\n",
       "      <td>6</td>\n",
       "      <td>2</td>\n",
       "      <td>35.0</td>\n",
       "      <td>0</td>\n",
       "      <td>1</td>\n",
       "      <td>1</td>\n",
       "    </tr>\n",
       "    <tr>\n",
       "      <th>3</th>\n",
       "      <td>185</td>\n",
       "      <td>4</td>\n",
       "      <td>14</td>\n",
       "      <td>4</td>\n",
       "      <td>2</td>\n",
       "      <td>25.0</td>\n",
       "      <td>1</td>\n",
       "      <td>0</td>\n",
       "      <td>0</td>\n",
       "    </tr>\n",
       "    <tr>\n",
       "      <th>4</th>\n",
       "      <td>201</td>\n",
       "      <td>4</td>\n",
       "      <td>14</td>\n",
       "      <td>4</td>\n",
       "      <td>2</td>\n",
       "      <td>25.0</td>\n",
       "      <td>0</td>\n",
       "      <td>1</td>\n",
       "      <td>0</td>\n",
       "    </tr>\n",
       "  </tbody>\n",
       "</table>\n",
       "</div>"
      ],
      "text/plain": [
       "   OrderValue  PaymentType  District  OrderSource  OrderType  DeliveryCharge  \\\n",
       "0         168            4        14            4          2            25.0   \n",
       "1         240            4        14            7          2            35.0   \n",
       "2         120            4        14            6          2            35.0   \n",
       "3         185            4        14            4          2            25.0   \n",
       "4         201            4        14            4          2            25.0   \n",
       "\n",
       "   IsCartOrder  OrderFromPromotionalEvent  isRTO  \n",
       "0            0                          1      0  \n",
       "1            0                          1      0  \n",
       "2            0                          1      1  \n",
       "3            1                          0      0  \n",
       "4            0                          1      0  "
      ]
     },
     "execution_count": 71,
     "metadata": {},
     "output_type": "execute_result"
    }
   ],
   "source": [
    "df.head(5)"
   ]
  },
  {
   "cell_type": "code",
   "execution_count": 72,
   "metadata": {},
   "outputs": [
    {
     "data": {
      "text/html": [
       "<div>\n",
       "<style scoped>\n",
       "    .dataframe tbody tr th:only-of-type {\n",
       "        vertical-align: middle;\n",
       "    }\n",
       "\n",
       "    .dataframe tbody tr th {\n",
       "        vertical-align: top;\n",
       "    }\n",
       "\n",
       "    .dataframe thead th {\n",
       "        text-align: right;\n",
       "    }\n",
       "</style>\n",
       "<table border=\"1\" class=\"dataframe\">\n",
       "  <thead>\n",
       "    <tr style=\"text-align: right;\">\n",
       "      <th></th>\n",
       "      <th>OrderValue</th>\n",
       "      <th>PaymentType</th>\n",
       "      <th>District</th>\n",
       "      <th>OrderSource</th>\n",
       "      <th>OrderType</th>\n",
       "      <th>DeliveryCharge</th>\n",
       "      <th>IsCartOrder</th>\n",
       "      <th>OrderFromPromotionalEvent</th>\n",
       "      <th>isRTO</th>\n",
       "    </tr>\n",
       "  </thead>\n",
       "  <tbody>\n",
       "    <tr>\n",
       "      <th>OrderValue</th>\n",
       "      <td>1.000000</td>\n",
       "      <td>0.044091</td>\n",
       "      <td>-0.006331</td>\n",
       "      <td>0.082708</td>\n",
       "      <td>-0.037555</td>\n",
       "      <td>0.154992</td>\n",
       "      <td>-0.090769</td>\n",
       "      <td>-0.265689</td>\n",
       "      <td>0.018192</td>\n",
       "    </tr>\n",
       "    <tr>\n",
       "      <th>PaymentType</th>\n",
       "      <td>0.044091</td>\n",
       "      <td>1.000000</td>\n",
       "      <td>-0.003557</td>\n",
       "      <td>0.071338</td>\n",
       "      <td>0.043856</td>\n",
       "      <td>-0.020337</td>\n",
       "      <td>0.074662</td>\n",
       "      <td>0.163196</td>\n",
       "      <td>0.000570</td>\n",
       "    </tr>\n",
       "    <tr>\n",
       "      <th>District</th>\n",
       "      <td>-0.006331</td>\n",
       "      <td>-0.003557</td>\n",
       "      <td>1.000000</td>\n",
       "      <td>-0.080170</td>\n",
       "      <td>-0.093819</td>\n",
       "      <td>0.204795</td>\n",
       "      <td>0.004896</td>\n",
       "      <td>-0.008521</td>\n",
       "      <td>-0.059483</td>\n",
       "    </tr>\n",
       "    <tr>\n",
       "      <th>OrderSource</th>\n",
       "      <td>0.082708</td>\n",
       "      <td>0.071338</td>\n",
       "      <td>-0.080170</td>\n",
       "      <td>1.000000</td>\n",
       "      <td>0.296137</td>\n",
       "      <td>0.039513</td>\n",
       "      <td>0.016737</td>\n",
       "      <td>-0.057017</td>\n",
       "      <td>0.015815</td>\n",
       "    </tr>\n",
       "    <tr>\n",
       "      <th>OrderType</th>\n",
       "      <td>-0.037555</td>\n",
       "      <td>0.043856</td>\n",
       "      <td>-0.093819</td>\n",
       "      <td>0.296137</td>\n",
       "      <td>1.000000</td>\n",
       "      <td>-0.137968</td>\n",
       "      <td>0.031977</td>\n",
       "      <td>0.127812</td>\n",
       "      <td>0.028989</td>\n",
       "    </tr>\n",
       "    <tr>\n",
       "      <th>DeliveryCharge</th>\n",
       "      <td>0.154992</td>\n",
       "      <td>-0.020337</td>\n",
       "      <td>0.204795</td>\n",
       "      <td>0.039513</td>\n",
       "      <td>-0.137968</td>\n",
       "      <td>1.000000</td>\n",
       "      <td>-0.450920</td>\n",
       "      <td>-0.068134</td>\n",
       "      <td>-0.029724</td>\n",
       "    </tr>\n",
       "    <tr>\n",
       "      <th>IsCartOrder</th>\n",
       "      <td>-0.090769</td>\n",
       "      <td>0.074662</td>\n",
       "      <td>0.004896</td>\n",
       "      <td>0.016737</td>\n",
       "      <td>0.031977</td>\n",
       "      <td>-0.450920</td>\n",
       "      <td>1.000000</td>\n",
       "      <td>0.154896</td>\n",
       "      <td>-0.018121</td>\n",
       "    </tr>\n",
       "    <tr>\n",
       "      <th>OrderFromPromotionalEvent</th>\n",
       "      <td>-0.265689</td>\n",
       "      <td>0.163196</td>\n",
       "      <td>-0.008521</td>\n",
       "      <td>-0.057017</td>\n",
       "      <td>0.127812</td>\n",
       "      <td>-0.068134</td>\n",
       "      <td>0.154896</td>\n",
       "      <td>1.000000</td>\n",
       "      <td>0.015847</td>\n",
       "    </tr>\n",
       "    <tr>\n",
       "      <th>isRTO</th>\n",
       "      <td>0.018192</td>\n",
       "      <td>0.000570</td>\n",
       "      <td>-0.059483</td>\n",
       "      <td>0.015815</td>\n",
       "      <td>0.028989</td>\n",
       "      <td>-0.029724</td>\n",
       "      <td>-0.018121</td>\n",
       "      <td>0.015847</td>\n",
       "      <td>1.000000</td>\n",
       "    </tr>\n",
       "  </tbody>\n",
       "</table>\n",
       "</div>"
      ],
      "text/plain": [
       "                           OrderValue  PaymentType  District  OrderSource  \\\n",
       "OrderValue                   1.000000     0.044091 -0.006331     0.082708   \n",
       "PaymentType                  0.044091     1.000000 -0.003557     0.071338   \n",
       "District                    -0.006331    -0.003557  1.000000    -0.080170   \n",
       "OrderSource                  0.082708     0.071338 -0.080170     1.000000   \n",
       "OrderType                   -0.037555     0.043856 -0.093819     0.296137   \n",
       "DeliveryCharge               0.154992    -0.020337  0.204795     0.039513   \n",
       "IsCartOrder                 -0.090769     0.074662  0.004896     0.016737   \n",
       "OrderFromPromotionalEvent   -0.265689     0.163196 -0.008521    -0.057017   \n",
       "isRTO                        0.018192     0.000570 -0.059483     0.015815   \n",
       "\n",
       "                           OrderType  DeliveryCharge  IsCartOrder  \\\n",
       "OrderValue                 -0.037555        0.154992    -0.090769   \n",
       "PaymentType                 0.043856       -0.020337     0.074662   \n",
       "District                   -0.093819        0.204795     0.004896   \n",
       "OrderSource                 0.296137        0.039513     0.016737   \n",
       "OrderType                   1.000000       -0.137968     0.031977   \n",
       "DeliveryCharge             -0.137968        1.000000    -0.450920   \n",
       "IsCartOrder                 0.031977       -0.450920     1.000000   \n",
       "OrderFromPromotionalEvent   0.127812       -0.068134     0.154896   \n",
       "isRTO                       0.028989       -0.029724    -0.018121   \n",
       "\n",
       "                           OrderFromPromotionalEvent     isRTO  \n",
       "OrderValue                                 -0.265689  0.018192  \n",
       "PaymentType                                 0.163196  0.000570  \n",
       "District                                   -0.008521 -0.059483  \n",
       "OrderSource                                -0.057017  0.015815  \n",
       "OrderType                                   0.127812  0.028989  \n",
       "DeliveryCharge                             -0.068134 -0.029724  \n",
       "IsCartOrder                                 0.154896 -0.018121  \n",
       "OrderFromPromotionalEvent                   1.000000  0.015847  \n",
       "isRTO                                       0.015847  1.000000  "
      ]
     },
     "execution_count": 72,
     "metadata": {},
     "output_type": "execute_result"
    }
   ],
   "source": [
    "df.corr()"
   ]
  },
  {
   "cell_type": "code",
   "execution_count": 46,
   "metadata": {},
   "outputs": [
    {
     "ename": "KeyError",
     "evalue": "'OrderPlacedDay'",
     "output_type": "error",
     "traceback": [
      "\u001b[1;31m---------------------------------------------------------------------------\u001b[0m",
      "\u001b[1;31mKeyError\u001b[0m                                  Traceback (most recent call last)",
      "\u001b[1;32mC:\\ProgramData\\Anaconda3\\lib\\site-packages\\pandas\\core\\indexes\\base.py\u001b[0m in \u001b[0;36mget_loc\u001b[1;34m(self, key, method, tolerance)\u001b[0m\n\u001b[0;32m   3360\u001b[0m             \u001b[1;32mtry\u001b[0m\u001b[1;33m:\u001b[0m\u001b[1;33m\u001b[0m\u001b[1;33m\u001b[0m\u001b[0m\n\u001b[1;32m-> 3361\u001b[1;33m                 \u001b[1;32mreturn\u001b[0m \u001b[0mself\u001b[0m\u001b[1;33m.\u001b[0m\u001b[0m_engine\u001b[0m\u001b[1;33m.\u001b[0m\u001b[0mget_loc\u001b[0m\u001b[1;33m(\u001b[0m\u001b[0mcasted_key\u001b[0m\u001b[1;33m)\u001b[0m\u001b[1;33m\u001b[0m\u001b[1;33m\u001b[0m\u001b[0m\n\u001b[0m\u001b[0;32m   3362\u001b[0m             \u001b[1;32mexcept\u001b[0m \u001b[0mKeyError\u001b[0m \u001b[1;32mas\u001b[0m \u001b[0merr\u001b[0m\u001b[1;33m:\u001b[0m\u001b[1;33m\u001b[0m\u001b[1;33m\u001b[0m\u001b[0m\n",
      "\u001b[1;32mC:\\ProgramData\\Anaconda3\\lib\\site-packages\\pandas\\_libs\\index.pyx\u001b[0m in \u001b[0;36mpandas._libs.index.IndexEngine.get_loc\u001b[1;34m()\u001b[0m\n",
      "\u001b[1;32mC:\\ProgramData\\Anaconda3\\lib\\site-packages\\pandas\\_libs\\index.pyx\u001b[0m in \u001b[0;36mpandas._libs.index.IndexEngine.get_loc\u001b[1;34m()\u001b[0m\n",
      "\u001b[1;32mpandas\\_libs\\hashtable_class_helper.pxi\u001b[0m in \u001b[0;36mpandas._libs.hashtable.PyObjectHashTable.get_item\u001b[1;34m()\u001b[0m\n",
      "\u001b[1;32mpandas\\_libs\\hashtable_class_helper.pxi\u001b[0m in \u001b[0;36mpandas._libs.hashtable.PyObjectHashTable.get_item\u001b[1;34m()\u001b[0m\n",
      "\u001b[1;31mKeyError\u001b[0m: 'OrderPlacedDay'",
      "\nThe above exception was the direct cause of the following exception:\n",
      "\u001b[1;31mKeyError\u001b[0m                                  Traceback (most recent call last)",
      "\u001b[1;32m~\\AppData\\Local\\Temp/ipykernel_1696/2764518724.py\u001b[0m in \u001b[0;36m<module>\u001b[1;34m\u001b[0m\n\u001b[1;32m----> 1\u001b[1;33m \u001b[1;32mdel\u001b[0m \u001b[0mdf\u001b[0m\u001b[1;33m[\u001b[0m\u001b[1;34m'OrderPlacedDay'\u001b[0m\u001b[1;33m]\u001b[0m\u001b[1;33m\u001b[0m\u001b[1;33m\u001b[0m\u001b[0m\n\u001b[0m\u001b[0;32m      2\u001b[0m \u001b[1;32mdel\u001b[0m \u001b[0mdf\u001b[0m\u001b[1;33m[\u001b[0m\u001b[1;34m'OrderConfirmDayOverPhone'\u001b[0m\u001b[1;33m]\u001b[0m\u001b[1;33m\u001b[0m\u001b[1;33m\u001b[0m\u001b[0m\n\u001b[0;32m      3\u001b[0m \u001b[1;31m#df.head(10)\u001b[0m\u001b[1;33m\u001b[0m\u001b[1;33m\u001b[0m\u001b[0m\n",
      "\u001b[1;32mC:\\ProgramData\\Anaconda3\\lib\\site-packages\\pandas\\core\\generic.py\u001b[0m in \u001b[0;36m__delitem__\u001b[1;34m(self, key)\u001b[0m\n\u001b[0;32m   3961\u001b[0m             \u001b[1;31m# there was no match, this call should raise the appropriate\u001b[0m\u001b[1;33m\u001b[0m\u001b[1;33m\u001b[0m\u001b[0m\n\u001b[0;32m   3962\u001b[0m             \u001b[1;31m# exception:\u001b[0m\u001b[1;33m\u001b[0m\u001b[1;33m\u001b[0m\u001b[0m\n\u001b[1;32m-> 3963\u001b[1;33m             \u001b[0mloc\u001b[0m \u001b[1;33m=\u001b[0m \u001b[0mself\u001b[0m\u001b[1;33m.\u001b[0m\u001b[0maxes\u001b[0m\u001b[1;33m[\u001b[0m\u001b[1;33m-\u001b[0m\u001b[1;36m1\u001b[0m\u001b[1;33m]\u001b[0m\u001b[1;33m.\u001b[0m\u001b[0mget_loc\u001b[0m\u001b[1;33m(\u001b[0m\u001b[0mkey\u001b[0m\u001b[1;33m)\u001b[0m\u001b[1;33m\u001b[0m\u001b[1;33m\u001b[0m\u001b[0m\n\u001b[0m\u001b[0;32m   3964\u001b[0m             \u001b[0mself\u001b[0m\u001b[1;33m.\u001b[0m\u001b[0m_mgr\u001b[0m \u001b[1;33m=\u001b[0m \u001b[0mself\u001b[0m\u001b[1;33m.\u001b[0m\u001b[0m_mgr\u001b[0m\u001b[1;33m.\u001b[0m\u001b[0midelete\u001b[0m\u001b[1;33m(\u001b[0m\u001b[0mloc\u001b[0m\u001b[1;33m)\u001b[0m\u001b[1;33m\u001b[0m\u001b[1;33m\u001b[0m\u001b[0m\n\u001b[0;32m   3965\u001b[0m \u001b[1;33m\u001b[0m\u001b[0m\n",
      "\u001b[1;32mC:\\ProgramData\\Anaconda3\\lib\\site-packages\\pandas\\core\\indexes\\base.py\u001b[0m in \u001b[0;36mget_loc\u001b[1;34m(self, key, method, tolerance)\u001b[0m\n\u001b[0;32m   3361\u001b[0m                 \u001b[1;32mreturn\u001b[0m \u001b[0mself\u001b[0m\u001b[1;33m.\u001b[0m\u001b[0m_engine\u001b[0m\u001b[1;33m.\u001b[0m\u001b[0mget_loc\u001b[0m\u001b[1;33m(\u001b[0m\u001b[0mcasted_key\u001b[0m\u001b[1;33m)\u001b[0m\u001b[1;33m\u001b[0m\u001b[1;33m\u001b[0m\u001b[0m\n\u001b[0;32m   3362\u001b[0m             \u001b[1;32mexcept\u001b[0m \u001b[0mKeyError\u001b[0m \u001b[1;32mas\u001b[0m \u001b[0merr\u001b[0m\u001b[1;33m:\u001b[0m\u001b[1;33m\u001b[0m\u001b[1;33m\u001b[0m\u001b[0m\n\u001b[1;32m-> 3363\u001b[1;33m                 \u001b[1;32mraise\u001b[0m \u001b[0mKeyError\u001b[0m\u001b[1;33m(\u001b[0m\u001b[0mkey\u001b[0m\u001b[1;33m)\u001b[0m \u001b[1;32mfrom\u001b[0m \u001b[0merr\u001b[0m\u001b[1;33m\u001b[0m\u001b[1;33m\u001b[0m\u001b[0m\n\u001b[0m\u001b[0;32m   3364\u001b[0m \u001b[1;33m\u001b[0m\u001b[0m\n\u001b[0;32m   3365\u001b[0m         \u001b[1;32mif\u001b[0m \u001b[0mis_scalar\u001b[0m\u001b[1;33m(\u001b[0m\u001b[0mkey\u001b[0m\u001b[1;33m)\u001b[0m \u001b[1;32mand\u001b[0m \u001b[0misna\u001b[0m\u001b[1;33m(\u001b[0m\u001b[0mkey\u001b[0m\u001b[1;33m)\u001b[0m \u001b[1;32mand\u001b[0m \u001b[1;32mnot\u001b[0m \u001b[0mself\u001b[0m\u001b[1;33m.\u001b[0m\u001b[0mhasnans\u001b[0m\u001b[1;33m:\u001b[0m\u001b[1;33m\u001b[0m\u001b[1;33m\u001b[0m\u001b[0m\n",
      "\u001b[1;31mKeyError\u001b[0m: 'OrderPlacedDay'"
     ]
    }
   ],
   "source": []
  },
  {
   "cell_type": "code",
   "execution_count": null,
   "metadata": {},
   "outputs": [],
   "source": []
  },
  {
   "cell_type": "code",
   "execution_count": 73,
   "metadata": {},
   "outputs": [
    {
     "name": "stdout",
     "output_type": "stream",
     "text": [
      "X_train:(7500, 8)\n",
      "y_train:(7500, 1)\n",
      "X_test: (2500, 8)\n",
      "y_test: (2500, 1)\n"
     ]
    }
   ],
   "source": [
    "from sklearn.model_selection import train_test_split\n",
    "\n",
    "X = df.loc[:, df.columns!='isRTO']\n",
    "y = df.loc[:, df.columns=='isRTO']\n",
    "\n",
    "X_train, X_test, y_train, y_test = train_test_split(X, y, test_size=0.25, random_state=1234)\n",
    "\n",
    "print(\"\"\"X_train:{}\n",
    "y_train:{}\n",
    "X_test: {}\n",
    "y_test: {}\"\"\".format(X_train.shape, y_train.shape, X_test.shape, y_test.shape))"
   ]
  },
  {
   "cell_type": "code",
   "execution_count": 77,
   "metadata": {},
   "outputs": [],
   "source": [
    "from sklearn.linear_model import LogisticRegression"
   ]
  },
  {
   "cell_type": "code",
   "execution_count": 78,
   "metadata": {},
   "outputs": [
    {
     "ename": "ValueError",
     "evalue": "Input contains NaN, infinity or a value too large for dtype('float64').",
     "output_type": "error",
     "traceback": [
      "\u001b[1;31m---------------------------------------------------------------------------\u001b[0m",
      "\u001b[1;31mValueError\u001b[0m                                Traceback (most recent call last)",
      "\u001b[1;32m~\\AppData\\Local\\Temp/ipykernel_1696/2079915614.py\u001b[0m in \u001b[0;36m<module>\u001b[1;34m\u001b[0m\n\u001b[0;32m      1\u001b[0m \u001b[0mlr\u001b[0m \u001b[1;33m=\u001b[0m \u001b[0mLogisticRegression\u001b[0m\u001b[1;33m(\u001b[0m\u001b[1;33m)\u001b[0m\u001b[1;33m\u001b[0m\u001b[1;33m\u001b[0m\u001b[0m\n\u001b[1;32m----> 2\u001b[1;33m \u001b[0mlr\u001b[0m\u001b[1;33m.\u001b[0m\u001b[0mfit\u001b[0m\u001b[1;33m(\u001b[0m\u001b[0mX_train\u001b[0m\u001b[1;33m,\u001b[0m \u001b[0my_train\u001b[0m\u001b[1;33m)\u001b[0m\u001b[1;33m\u001b[0m\u001b[1;33m\u001b[0m\u001b[0m\n\u001b[0m",
      "\u001b[1;32mC:\\ProgramData\\Anaconda3\\lib\\site-packages\\sklearn\\linear_model\\_logistic.py\u001b[0m in \u001b[0;36mfit\u001b[1;34m(self, X, y, sample_weight)\u001b[0m\n\u001b[0;32m   1342\u001b[0m             \u001b[0m_dtype\u001b[0m \u001b[1;33m=\u001b[0m \u001b[1;33m[\u001b[0m\u001b[0mnp\u001b[0m\u001b[1;33m.\u001b[0m\u001b[0mfloat64\u001b[0m\u001b[1;33m,\u001b[0m \u001b[0mnp\u001b[0m\u001b[1;33m.\u001b[0m\u001b[0mfloat32\u001b[0m\u001b[1;33m]\u001b[0m\u001b[1;33m\u001b[0m\u001b[1;33m\u001b[0m\u001b[0m\n\u001b[0;32m   1343\u001b[0m \u001b[1;33m\u001b[0m\u001b[0m\n\u001b[1;32m-> 1344\u001b[1;33m         X, y = self._validate_data(X, y, accept_sparse='csr', dtype=_dtype,\n\u001b[0m\u001b[0;32m   1345\u001b[0m                                    \u001b[0morder\u001b[0m\u001b[1;33m=\u001b[0m\u001b[1;34m\"C\"\u001b[0m\u001b[1;33m,\u001b[0m\u001b[1;33m\u001b[0m\u001b[1;33m\u001b[0m\u001b[0m\n\u001b[0;32m   1346\u001b[0m                                    accept_large_sparse=solver != 'liblinear')\n",
      "\u001b[1;32mC:\\ProgramData\\Anaconda3\\lib\\site-packages\\sklearn\\base.py\u001b[0m in \u001b[0;36m_validate_data\u001b[1;34m(self, X, y, reset, validate_separately, **check_params)\u001b[0m\n\u001b[0;32m    431\u001b[0m                 \u001b[0my\u001b[0m \u001b[1;33m=\u001b[0m \u001b[0mcheck_array\u001b[0m\u001b[1;33m(\u001b[0m\u001b[0my\u001b[0m\u001b[1;33m,\u001b[0m \u001b[1;33m**\u001b[0m\u001b[0mcheck_y_params\u001b[0m\u001b[1;33m)\u001b[0m\u001b[1;33m\u001b[0m\u001b[1;33m\u001b[0m\u001b[0m\n\u001b[0;32m    432\u001b[0m             \u001b[1;32melse\u001b[0m\u001b[1;33m:\u001b[0m\u001b[1;33m\u001b[0m\u001b[1;33m\u001b[0m\u001b[0m\n\u001b[1;32m--> 433\u001b[1;33m                 \u001b[0mX\u001b[0m\u001b[1;33m,\u001b[0m \u001b[0my\u001b[0m \u001b[1;33m=\u001b[0m \u001b[0mcheck_X_y\u001b[0m\u001b[1;33m(\u001b[0m\u001b[0mX\u001b[0m\u001b[1;33m,\u001b[0m \u001b[0my\u001b[0m\u001b[1;33m,\u001b[0m \u001b[1;33m**\u001b[0m\u001b[0mcheck_params\u001b[0m\u001b[1;33m)\u001b[0m\u001b[1;33m\u001b[0m\u001b[1;33m\u001b[0m\u001b[0m\n\u001b[0m\u001b[0;32m    434\u001b[0m             \u001b[0mout\u001b[0m \u001b[1;33m=\u001b[0m \u001b[0mX\u001b[0m\u001b[1;33m,\u001b[0m \u001b[0my\u001b[0m\u001b[1;33m\u001b[0m\u001b[1;33m\u001b[0m\u001b[0m\n\u001b[0;32m    435\u001b[0m \u001b[1;33m\u001b[0m\u001b[0m\n",
      "\u001b[1;32mC:\\ProgramData\\Anaconda3\\lib\\site-packages\\sklearn\\utils\\validation.py\u001b[0m in \u001b[0;36minner_f\u001b[1;34m(*args, **kwargs)\u001b[0m\n\u001b[0;32m     61\u001b[0m             \u001b[0mextra_args\u001b[0m \u001b[1;33m=\u001b[0m \u001b[0mlen\u001b[0m\u001b[1;33m(\u001b[0m\u001b[0margs\u001b[0m\u001b[1;33m)\u001b[0m \u001b[1;33m-\u001b[0m \u001b[0mlen\u001b[0m\u001b[1;33m(\u001b[0m\u001b[0mall_args\u001b[0m\u001b[1;33m)\u001b[0m\u001b[1;33m\u001b[0m\u001b[1;33m\u001b[0m\u001b[0m\n\u001b[0;32m     62\u001b[0m             \u001b[1;32mif\u001b[0m \u001b[0mextra_args\u001b[0m \u001b[1;33m<=\u001b[0m \u001b[1;36m0\u001b[0m\u001b[1;33m:\u001b[0m\u001b[1;33m\u001b[0m\u001b[1;33m\u001b[0m\u001b[0m\n\u001b[1;32m---> 63\u001b[1;33m                 \u001b[1;32mreturn\u001b[0m \u001b[0mf\u001b[0m\u001b[1;33m(\u001b[0m\u001b[1;33m*\u001b[0m\u001b[0margs\u001b[0m\u001b[1;33m,\u001b[0m \u001b[1;33m**\u001b[0m\u001b[0mkwargs\u001b[0m\u001b[1;33m)\u001b[0m\u001b[1;33m\u001b[0m\u001b[1;33m\u001b[0m\u001b[0m\n\u001b[0m\u001b[0;32m     64\u001b[0m \u001b[1;33m\u001b[0m\u001b[0m\n\u001b[0;32m     65\u001b[0m             \u001b[1;31m# extra_args > 0\u001b[0m\u001b[1;33m\u001b[0m\u001b[1;33m\u001b[0m\u001b[0m\n",
      "\u001b[1;32mC:\\ProgramData\\Anaconda3\\lib\\site-packages\\sklearn\\utils\\validation.py\u001b[0m in \u001b[0;36mcheck_X_y\u001b[1;34m(X, y, accept_sparse, accept_large_sparse, dtype, order, copy, force_all_finite, ensure_2d, allow_nd, multi_output, ensure_min_samples, ensure_min_features, y_numeric, estimator)\u001b[0m\n\u001b[0;32m    869\u001b[0m         \u001b[1;32mraise\u001b[0m \u001b[0mValueError\u001b[0m\u001b[1;33m(\u001b[0m\u001b[1;34m\"y cannot be None\"\u001b[0m\u001b[1;33m)\u001b[0m\u001b[1;33m\u001b[0m\u001b[1;33m\u001b[0m\u001b[0m\n\u001b[0;32m    870\u001b[0m \u001b[1;33m\u001b[0m\u001b[0m\n\u001b[1;32m--> 871\u001b[1;33m     X = check_array(X, accept_sparse=accept_sparse,\n\u001b[0m\u001b[0;32m    872\u001b[0m                     \u001b[0maccept_large_sparse\u001b[0m\u001b[1;33m=\u001b[0m\u001b[0maccept_large_sparse\u001b[0m\u001b[1;33m,\u001b[0m\u001b[1;33m\u001b[0m\u001b[1;33m\u001b[0m\u001b[0m\n\u001b[0;32m    873\u001b[0m                     \u001b[0mdtype\u001b[0m\u001b[1;33m=\u001b[0m\u001b[0mdtype\u001b[0m\u001b[1;33m,\u001b[0m \u001b[0morder\u001b[0m\u001b[1;33m=\u001b[0m\u001b[0morder\u001b[0m\u001b[1;33m,\u001b[0m \u001b[0mcopy\u001b[0m\u001b[1;33m=\u001b[0m\u001b[0mcopy\u001b[0m\u001b[1;33m,\u001b[0m\u001b[1;33m\u001b[0m\u001b[1;33m\u001b[0m\u001b[0m\n",
      "\u001b[1;32mC:\\ProgramData\\Anaconda3\\lib\\site-packages\\sklearn\\utils\\validation.py\u001b[0m in \u001b[0;36minner_f\u001b[1;34m(*args, **kwargs)\u001b[0m\n\u001b[0;32m     61\u001b[0m             \u001b[0mextra_args\u001b[0m \u001b[1;33m=\u001b[0m \u001b[0mlen\u001b[0m\u001b[1;33m(\u001b[0m\u001b[0margs\u001b[0m\u001b[1;33m)\u001b[0m \u001b[1;33m-\u001b[0m \u001b[0mlen\u001b[0m\u001b[1;33m(\u001b[0m\u001b[0mall_args\u001b[0m\u001b[1;33m)\u001b[0m\u001b[1;33m\u001b[0m\u001b[1;33m\u001b[0m\u001b[0m\n\u001b[0;32m     62\u001b[0m             \u001b[1;32mif\u001b[0m \u001b[0mextra_args\u001b[0m \u001b[1;33m<=\u001b[0m \u001b[1;36m0\u001b[0m\u001b[1;33m:\u001b[0m\u001b[1;33m\u001b[0m\u001b[1;33m\u001b[0m\u001b[0m\n\u001b[1;32m---> 63\u001b[1;33m                 \u001b[1;32mreturn\u001b[0m \u001b[0mf\u001b[0m\u001b[1;33m(\u001b[0m\u001b[1;33m*\u001b[0m\u001b[0margs\u001b[0m\u001b[1;33m,\u001b[0m \u001b[1;33m**\u001b[0m\u001b[0mkwargs\u001b[0m\u001b[1;33m)\u001b[0m\u001b[1;33m\u001b[0m\u001b[1;33m\u001b[0m\u001b[0m\n\u001b[0m\u001b[0;32m     64\u001b[0m \u001b[1;33m\u001b[0m\u001b[0m\n\u001b[0;32m     65\u001b[0m             \u001b[1;31m# extra_args > 0\u001b[0m\u001b[1;33m\u001b[0m\u001b[1;33m\u001b[0m\u001b[0m\n",
      "\u001b[1;32mC:\\ProgramData\\Anaconda3\\lib\\site-packages\\sklearn\\utils\\validation.py\u001b[0m in \u001b[0;36mcheck_array\u001b[1;34m(array, accept_sparse, accept_large_sparse, dtype, order, copy, force_all_finite, ensure_2d, allow_nd, ensure_min_samples, ensure_min_features, estimator)\u001b[0m\n\u001b[0;32m    718\u001b[0m \u001b[1;33m\u001b[0m\u001b[0m\n\u001b[0;32m    719\u001b[0m         \u001b[1;32mif\u001b[0m \u001b[0mforce_all_finite\u001b[0m\u001b[1;33m:\u001b[0m\u001b[1;33m\u001b[0m\u001b[1;33m\u001b[0m\u001b[0m\n\u001b[1;32m--> 720\u001b[1;33m             _assert_all_finite(array,\n\u001b[0m\u001b[0;32m    721\u001b[0m                                allow_nan=force_all_finite == 'allow-nan')\n\u001b[0;32m    722\u001b[0m \u001b[1;33m\u001b[0m\u001b[0m\n",
      "\u001b[1;32mC:\\ProgramData\\Anaconda3\\lib\\site-packages\\sklearn\\utils\\validation.py\u001b[0m in \u001b[0;36m_assert_all_finite\u001b[1;34m(X, allow_nan, msg_dtype)\u001b[0m\n\u001b[0;32m    101\u001b[0m                 not allow_nan and not np.isfinite(X).all()):\n\u001b[0;32m    102\u001b[0m             \u001b[0mtype_err\u001b[0m \u001b[1;33m=\u001b[0m \u001b[1;34m'infinity'\u001b[0m \u001b[1;32mif\u001b[0m \u001b[0mallow_nan\u001b[0m \u001b[1;32melse\u001b[0m \u001b[1;34m'NaN, infinity'\u001b[0m\u001b[1;33m\u001b[0m\u001b[1;33m\u001b[0m\u001b[0m\n\u001b[1;32m--> 103\u001b[1;33m             raise ValueError(\n\u001b[0m\u001b[0;32m    104\u001b[0m                     \u001b[0mmsg_err\u001b[0m\u001b[1;33m.\u001b[0m\u001b[0mformat\u001b[0m\u001b[1;33m\u001b[0m\u001b[1;33m\u001b[0m\u001b[0m\n\u001b[0;32m    105\u001b[0m                     (type_err,\n",
      "\u001b[1;31mValueError\u001b[0m: Input contains NaN, infinity or a value too large for dtype('float64')."
     ]
    }
   ],
   "source": [
    "lr = LogisticRegression()\n",
    "lr.fit(X_train, y_train)"
   ]
  },
  {
   "cell_type": "code",
   "execution_count": 79,
   "metadata": {},
   "outputs": [
    {
     "ename": "NotFittedError",
     "evalue": "This LogisticRegression instance is not fitted yet. Call 'fit' with appropriate arguments before using this estimator.",
     "output_type": "error",
     "traceback": [
      "\u001b[1;31m---------------------------------------------------------------------------\u001b[0m",
      "\u001b[1;31mNotFittedError\u001b[0m                            Traceback (most recent call last)",
      "\u001b[1;32m~\\AppData\\Local\\Temp/ipykernel_1696/381635750.py\u001b[0m in \u001b[0;36m<module>\u001b[1;34m\u001b[0m\n\u001b[1;32m----> 1\u001b[1;33m \u001b[0my_pred\u001b[0m \u001b[1;33m=\u001b[0m \u001b[0mlr\u001b[0m\u001b[1;33m.\u001b[0m\u001b[0mpredict\u001b[0m\u001b[1;33m(\u001b[0m\u001b[0mX_test\u001b[0m\u001b[1;33m)\u001b[0m\u001b[1;33m\u001b[0m\u001b[1;33m\u001b[0m\u001b[0m\n\u001b[0m\u001b[0;32m      2\u001b[0m \u001b[0my_pred\u001b[0m\u001b[1;33m\u001b[0m\u001b[1;33m\u001b[0m\u001b[0m\n",
      "\u001b[1;32mC:\\ProgramData\\Anaconda3\\lib\\site-packages\\sklearn\\linear_model\\_base.py\u001b[0m in \u001b[0;36mpredict\u001b[1;34m(self, X)\u001b[0m\n\u001b[0;32m    307\u001b[0m             \u001b[0mPredicted\u001b[0m \u001b[1;32mclass\u001b[0m \u001b[0mlabel\u001b[0m \u001b[0mper\u001b[0m \u001b[0msample\u001b[0m\u001b[1;33m.\u001b[0m\u001b[1;33m\u001b[0m\u001b[1;33m\u001b[0m\u001b[0m\n\u001b[0;32m    308\u001b[0m         \"\"\"\n\u001b[1;32m--> 309\u001b[1;33m         \u001b[0mscores\u001b[0m \u001b[1;33m=\u001b[0m \u001b[0mself\u001b[0m\u001b[1;33m.\u001b[0m\u001b[0mdecision_function\u001b[0m\u001b[1;33m(\u001b[0m\u001b[0mX\u001b[0m\u001b[1;33m)\u001b[0m\u001b[1;33m\u001b[0m\u001b[1;33m\u001b[0m\u001b[0m\n\u001b[0m\u001b[0;32m    310\u001b[0m         \u001b[1;32mif\u001b[0m \u001b[0mlen\u001b[0m\u001b[1;33m(\u001b[0m\u001b[0mscores\u001b[0m\u001b[1;33m.\u001b[0m\u001b[0mshape\u001b[0m\u001b[1;33m)\u001b[0m \u001b[1;33m==\u001b[0m \u001b[1;36m1\u001b[0m\u001b[1;33m:\u001b[0m\u001b[1;33m\u001b[0m\u001b[1;33m\u001b[0m\u001b[0m\n\u001b[0;32m    311\u001b[0m             \u001b[0mindices\u001b[0m \u001b[1;33m=\u001b[0m \u001b[1;33m(\u001b[0m\u001b[0mscores\u001b[0m \u001b[1;33m>\u001b[0m \u001b[1;36m0\u001b[0m\u001b[1;33m)\u001b[0m\u001b[1;33m.\u001b[0m\u001b[0mastype\u001b[0m\u001b[1;33m(\u001b[0m\u001b[0mint\u001b[0m\u001b[1;33m)\u001b[0m\u001b[1;33m\u001b[0m\u001b[1;33m\u001b[0m\u001b[0m\n",
      "\u001b[1;32mC:\\ProgramData\\Anaconda3\\lib\\site-packages\\sklearn\\linear_model\\_base.py\u001b[0m in \u001b[0;36mdecision_function\u001b[1;34m(self, X)\u001b[0m\n\u001b[0;32m    280\u001b[0m             \u001b[1;32mclass\u001b[0m \u001b[0mwould\u001b[0m \u001b[0mbe\u001b[0m \u001b[0mpredicted\u001b[0m\u001b[1;33m.\u001b[0m\u001b[1;33m\u001b[0m\u001b[1;33m\u001b[0m\u001b[0m\n\u001b[0;32m    281\u001b[0m         \"\"\"\n\u001b[1;32m--> 282\u001b[1;33m         \u001b[0mcheck_is_fitted\u001b[0m\u001b[1;33m(\u001b[0m\u001b[0mself\u001b[0m\u001b[1;33m)\u001b[0m\u001b[1;33m\u001b[0m\u001b[1;33m\u001b[0m\u001b[0m\n\u001b[0m\u001b[0;32m    283\u001b[0m \u001b[1;33m\u001b[0m\u001b[0m\n\u001b[0;32m    284\u001b[0m         \u001b[0mX\u001b[0m \u001b[1;33m=\u001b[0m \u001b[0mcheck_array\u001b[0m\u001b[1;33m(\u001b[0m\u001b[0mX\u001b[0m\u001b[1;33m,\u001b[0m \u001b[0maccept_sparse\u001b[0m\u001b[1;33m=\u001b[0m\u001b[1;34m'csr'\u001b[0m\u001b[1;33m)\u001b[0m\u001b[1;33m\u001b[0m\u001b[1;33m\u001b[0m\u001b[0m\n",
      "\u001b[1;32mC:\\ProgramData\\Anaconda3\\lib\\site-packages\\sklearn\\utils\\validation.py\u001b[0m in \u001b[0;36minner_f\u001b[1;34m(*args, **kwargs)\u001b[0m\n\u001b[0;32m     61\u001b[0m             \u001b[0mextra_args\u001b[0m \u001b[1;33m=\u001b[0m \u001b[0mlen\u001b[0m\u001b[1;33m(\u001b[0m\u001b[0margs\u001b[0m\u001b[1;33m)\u001b[0m \u001b[1;33m-\u001b[0m \u001b[0mlen\u001b[0m\u001b[1;33m(\u001b[0m\u001b[0mall_args\u001b[0m\u001b[1;33m)\u001b[0m\u001b[1;33m\u001b[0m\u001b[1;33m\u001b[0m\u001b[0m\n\u001b[0;32m     62\u001b[0m             \u001b[1;32mif\u001b[0m \u001b[0mextra_args\u001b[0m \u001b[1;33m<=\u001b[0m \u001b[1;36m0\u001b[0m\u001b[1;33m:\u001b[0m\u001b[1;33m\u001b[0m\u001b[1;33m\u001b[0m\u001b[0m\n\u001b[1;32m---> 63\u001b[1;33m                 \u001b[1;32mreturn\u001b[0m \u001b[0mf\u001b[0m\u001b[1;33m(\u001b[0m\u001b[1;33m*\u001b[0m\u001b[0margs\u001b[0m\u001b[1;33m,\u001b[0m \u001b[1;33m**\u001b[0m\u001b[0mkwargs\u001b[0m\u001b[1;33m)\u001b[0m\u001b[1;33m\u001b[0m\u001b[1;33m\u001b[0m\u001b[0m\n\u001b[0m\u001b[0;32m     64\u001b[0m \u001b[1;33m\u001b[0m\u001b[0m\n\u001b[0;32m     65\u001b[0m             \u001b[1;31m# extra_args > 0\u001b[0m\u001b[1;33m\u001b[0m\u001b[1;33m\u001b[0m\u001b[0m\n",
      "\u001b[1;32mC:\\ProgramData\\Anaconda3\\lib\\site-packages\\sklearn\\utils\\validation.py\u001b[0m in \u001b[0;36mcheck_is_fitted\u001b[1;34m(estimator, attributes, msg, all_or_any)\u001b[0m\n\u001b[0;32m   1096\u001b[0m \u001b[1;33m\u001b[0m\u001b[0m\n\u001b[0;32m   1097\u001b[0m     \u001b[1;32mif\u001b[0m \u001b[1;32mnot\u001b[0m \u001b[0mattrs\u001b[0m\u001b[1;33m:\u001b[0m\u001b[1;33m\u001b[0m\u001b[1;33m\u001b[0m\u001b[0m\n\u001b[1;32m-> 1098\u001b[1;33m         \u001b[1;32mraise\u001b[0m \u001b[0mNotFittedError\u001b[0m\u001b[1;33m(\u001b[0m\u001b[0mmsg\u001b[0m \u001b[1;33m%\u001b[0m \u001b[1;33m{\u001b[0m\u001b[1;34m'name'\u001b[0m\u001b[1;33m:\u001b[0m \u001b[0mtype\u001b[0m\u001b[1;33m(\u001b[0m\u001b[0mestimator\u001b[0m\u001b[1;33m)\u001b[0m\u001b[1;33m.\u001b[0m\u001b[0m__name__\u001b[0m\u001b[1;33m}\u001b[0m\u001b[1;33m)\u001b[0m\u001b[1;33m\u001b[0m\u001b[1;33m\u001b[0m\u001b[0m\n\u001b[0m\u001b[0;32m   1099\u001b[0m \u001b[1;33m\u001b[0m\u001b[0m\n\u001b[0;32m   1100\u001b[0m \u001b[1;33m\u001b[0m\u001b[0m\n",
      "\u001b[1;31mNotFittedError\u001b[0m: This LogisticRegression instance is not fitted yet. Call 'fit' with appropriate arguments before using this estimator."
     ]
    }
   ],
   "source": [
    "y_pred = lr.predict(X_test)\n",
    "y_pred"
   ]
  },
  {
   "cell_type": "code",
   "execution_count": 80,
   "metadata": {},
   "outputs": [
    {
     "ename": "NameError",
     "evalue": "name 'y_pred' is not defined",
     "output_type": "error",
     "traceback": [
      "\u001b[1;31m---------------------------------------------------------------------------\u001b[0m",
      "\u001b[1;31mNameError\u001b[0m                                 Traceback (most recent call last)",
      "\u001b[1;32m~\\AppData\\Local\\Temp/ipykernel_1696/3467594591.py\u001b[0m in \u001b[0;36m<module>\u001b[1;34m\u001b[0m\n\u001b[0;32m      1\u001b[0m pd.DataFrame({'true': y_test.values.ravel(), \n\u001b[1;32m----> 2\u001b[1;33m              'pred': y_pred.ravel()}).head(10)\n\u001b[0m",
      "\u001b[1;31mNameError\u001b[0m: name 'y_pred' is not defined"
     ]
    }
   ],
   "source": [
    "pd.DataFrame({'true': y_test.values.ravel(), \n",
    "             'pred': y_pred.ravel()}).head(10)"
   ]
  },
  {
   "cell_type": "code",
   "execution_count": 32,
   "metadata": {},
   "outputs": [
    {
     "name": "stdout",
     "output_type": "stream",
     "text": [
      "The accuracy score is 0.8524\n"
     ]
    }
   ],
   "source": [
    "from sklearn.metrics import accuracy_score\n",
    "\n",
    "acc = accuracy_score(y_test, y_pred)\n",
    "print(\"The accuracy score is {}\".format(acc))"
   ]
  },
  {
   "cell_type": "code",
   "execution_count": 33,
   "metadata": {},
   "outputs": [
    {
     "data": {
      "text/plain": [
       "GaussianNB()"
      ]
     },
     "execution_count": 33,
     "metadata": {},
     "output_type": "execute_result"
    }
   ],
   "source": [
    "from sklearn.naive_bayes import GaussianNB\n",
    "\n",
    "GaussianNB()"
   ]
  },
  {
   "cell_type": "code",
   "execution_count": 34,
   "metadata": {},
   "outputs": [],
   "source": [
    "NB = GaussianNB()"
   ]
  },
  {
   "cell_type": "code",
   "execution_count": 35,
   "metadata": {},
   "outputs": [
    {
     "data": {
      "text/plain": [
       "GaussianNB()"
      ]
     },
     "execution_count": 35,
     "metadata": {},
     "output_type": "execute_result"
    }
   ],
   "source": [
    "NB.fit(X_train, y_train)"
   ]
  },
  {
   "cell_type": "code",
   "execution_count": 36,
   "metadata": {},
   "outputs": [
    {
     "data": {
      "text/plain": [
       "array([0, 0, 0, ..., 0, 0, 0], dtype=int8)"
      ]
     },
     "execution_count": 36,
     "metadata": {},
     "output_type": "execute_result"
    }
   ],
   "source": [
    "y_pred = NB.predict(X_test)\n",
    "y_pred"
   ]
  },
  {
   "cell_type": "code",
   "execution_count": 37,
   "metadata": {},
   "outputs": [
    {
     "data": {
      "text/html": [
       "<div>\n",
       "<style scoped>\n",
       "    .dataframe tbody tr th:only-of-type {\n",
       "        vertical-align: middle;\n",
       "    }\n",
       "\n",
       "    .dataframe tbody tr th {\n",
       "        vertical-align: top;\n",
       "    }\n",
       "\n",
       "    .dataframe thead th {\n",
       "        text-align: right;\n",
       "    }\n",
       "</style>\n",
       "<table border=\"1\" class=\"dataframe\">\n",
       "  <thead>\n",
       "    <tr style=\"text-align: right;\">\n",
       "      <th></th>\n",
       "      <th>true</th>\n",
       "      <th>pred</th>\n",
       "    </tr>\n",
       "  </thead>\n",
       "  <tbody>\n",
       "    <tr>\n",
       "      <th>0</th>\n",
       "      <td>0</td>\n",
       "      <td>0</td>\n",
       "    </tr>\n",
       "    <tr>\n",
       "      <th>1</th>\n",
       "      <td>0</td>\n",
       "      <td>0</td>\n",
       "    </tr>\n",
       "    <tr>\n",
       "      <th>2</th>\n",
       "      <td>0</td>\n",
       "      <td>0</td>\n",
       "    </tr>\n",
       "    <tr>\n",
       "      <th>3</th>\n",
       "      <td>0</td>\n",
       "      <td>0</td>\n",
       "    </tr>\n",
       "    <tr>\n",
       "      <th>4</th>\n",
       "      <td>0</td>\n",
       "      <td>0</td>\n",
       "    </tr>\n",
       "    <tr>\n",
       "      <th>5</th>\n",
       "      <td>0</td>\n",
       "      <td>0</td>\n",
       "    </tr>\n",
       "    <tr>\n",
       "      <th>6</th>\n",
       "      <td>0</td>\n",
       "      <td>0</td>\n",
       "    </tr>\n",
       "    <tr>\n",
       "      <th>7</th>\n",
       "      <td>1</td>\n",
       "      <td>0</td>\n",
       "    </tr>\n",
       "    <tr>\n",
       "      <th>8</th>\n",
       "      <td>1</td>\n",
       "      <td>0</td>\n",
       "    </tr>\n",
       "    <tr>\n",
       "      <th>9</th>\n",
       "      <td>0</td>\n",
       "      <td>0</td>\n",
       "    </tr>\n",
       "  </tbody>\n",
       "</table>\n",
       "</div>"
      ],
      "text/plain": [
       "   true  pred\n",
       "0     0     0\n",
       "1     0     0\n",
       "2     0     0\n",
       "3     0     0\n",
       "4     0     0\n",
       "5     0     0\n",
       "6     0     0\n",
       "7     1     0\n",
       "8     1     0\n",
       "9     0     0"
      ]
     },
     "execution_count": 37,
     "metadata": {},
     "output_type": "execute_result"
    }
   ],
   "source": [
    "pd.DataFrame({'true': y_test.values.ravel(), \n",
    "             'pred': y_pred.ravel()}).head(10)"
   ]
  },
  {
   "cell_type": "code",
   "execution_count": 38,
   "metadata": {},
   "outputs": [
    {
     "name": "stdout",
     "output_type": "stream",
     "text": [
      "The accuracy score is 0.8452\n"
     ]
    }
   ],
   "source": [
    "from sklearn.metrics import accuracy_score\n",
    "\n",
    "acc = accuracy_score(y_test, y_pred)\n",
    "print(\"The accuracy score is {}\".format(acc))"
   ]
  },
  {
   "cell_type": "code",
   "execution_count": 39,
   "metadata": {},
   "outputs": [],
   "source": [
    "from sklearn.neighbors import KNeighborsClassifier\n",
    "\n",
    "KNN = KNeighborsClassifier()"
   ]
  },
  {
   "cell_type": "code",
   "execution_count": 40,
   "metadata": {},
   "outputs": [
    {
     "data": {
      "text/plain": [
       "KNeighborsClassifier()"
      ]
     },
     "execution_count": 40,
     "metadata": {},
     "output_type": "execute_result"
    }
   ],
   "source": [
    "KNN.fit(X_train, y_train)"
   ]
  },
  {
   "cell_type": "code",
   "execution_count": 41,
   "metadata": {},
   "outputs": [
    {
     "data": {
      "text/plain": [
       "array([0, 0, 0, ..., 0, 0, 0], dtype=int8)"
      ]
     },
     "execution_count": 41,
     "metadata": {},
     "output_type": "execute_result"
    }
   ],
   "source": [
    "y_pred = KNN.predict(X_test)\n",
    "y_pred"
   ]
  },
  {
   "cell_type": "code",
   "execution_count": 42,
   "metadata": {},
   "outputs": [
    {
     "data": {
      "text/html": [
       "<div>\n",
       "<style scoped>\n",
       "    .dataframe tbody tr th:only-of-type {\n",
       "        vertical-align: middle;\n",
       "    }\n",
       "\n",
       "    .dataframe tbody tr th {\n",
       "        vertical-align: top;\n",
       "    }\n",
       "\n",
       "    .dataframe thead th {\n",
       "        text-align: right;\n",
       "    }\n",
       "</style>\n",
       "<table border=\"1\" class=\"dataframe\">\n",
       "  <thead>\n",
       "    <tr style=\"text-align: right;\">\n",
       "      <th></th>\n",
       "      <th>true</th>\n",
       "      <th>pred</th>\n",
       "    </tr>\n",
       "  </thead>\n",
       "  <tbody>\n",
       "    <tr>\n",
       "      <th>0</th>\n",
       "      <td>0</td>\n",
       "      <td>0</td>\n",
       "    </tr>\n",
       "    <tr>\n",
       "      <th>1</th>\n",
       "      <td>0</td>\n",
       "      <td>0</td>\n",
       "    </tr>\n",
       "    <tr>\n",
       "      <th>2</th>\n",
       "      <td>0</td>\n",
       "      <td>0</td>\n",
       "    </tr>\n",
       "    <tr>\n",
       "      <th>3</th>\n",
       "      <td>0</td>\n",
       "      <td>0</td>\n",
       "    </tr>\n",
       "    <tr>\n",
       "      <th>4</th>\n",
       "      <td>0</td>\n",
       "      <td>0</td>\n",
       "    </tr>\n",
       "    <tr>\n",
       "      <th>5</th>\n",
       "      <td>0</td>\n",
       "      <td>1</td>\n",
       "    </tr>\n",
       "    <tr>\n",
       "      <th>6</th>\n",
       "      <td>0</td>\n",
       "      <td>0</td>\n",
       "    </tr>\n",
       "    <tr>\n",
       "      <th>7</th>\n",
       "      <td>1</td>\n",
       "      <td>1</td>\n",
       "    </tr>\n",
       "    <tr>\n",
       "      <th>8</th>\n",
       "      <td>1</td>\n",
       "      <td>0</td>\n",
       "    </tr>\n",
       "    <tr>\n",
       "      <th>9</th>\n",
       "      <td>0</td>\n",
       "      <td>1</td>\n",
       "    </tr>\n",
       "  </tbody>\n",
       "</table>\n",
       "</div>"
      ],
      "text/plain": [
       "   true  pred\n",
       "0     0     0\n",
       "1     0     0\n",
       "2     0     0\n",
       "3     0     0\n",
       "4     0     0\n",
       "5     0     1\n",
       "6     0     0\n",
       "7     1     1\n",
       "8     1     0\n",
       "9     0     1"
      ]
     },
     "execution_count": 42,
     "metadata": {},
     "output_type": "execute_result"
    }
   ],
   "source": [
    "pd.DataFrame({'true': y_test.values.ravel(), \n",
    "             'pred': y_pred.ravel()}).head(10)"
   ]
  },
  {
   "cell_type": "code",
   "execution_count": 43,
   "metadata": {},
   "outputs": [
    {
     "name": "stdout",
     "output_type": "stream",
     "text": [
      "The accuracy score is 0.8396\n"
     ]
    }
   ],
   "source": [
    "acc = accuracy_score(y_test, y_pred)\n",
    "print(\"The accuracy score is {}\".format(acc))"
   ]
  },
  {
   "cell_type": "code",
   "execution_count": 44,
   "metadata": {},
   "outputs": [],
   "source": [
    "from sklearn.tree import DecisionTreeClassifier\n",
    "\n",
    "DT = DecisionTreeClassifier()"
   ]
  },
  {
   "cell_type": "code",
   "execution_count": 45,
   "metadata": {},
   "outputs": [
    {
     "data": {
      "text/plain": [
       "DecisionTreeClassifier()"
      ]
     },
     "execution_count": 45,
     "metadata": {},
     "output_type": "execute_result"
    }
   ],
   "source": [
    "DT.fit(X_train, y_train)"
   ]
  },
  {
   "cell_type": "code",
   "execution_count": 46,
   "metadata": {},
   "outputs": [
    {
     "data": {
      "text/plain": [
       "array([0, 0, 0, ..., 0, 0, 0], dtype=int8)"
      ]
     },
     "execution_count": 46,
     "metadata": {},
     "output_type": "execute_result"
    }
   ],
   "source": [
    "y_pred = DT.predict(X_test)\n",
    "y_pred"
   ]
  },
  {
   "cell_type": "code",
   "execution_count": 47,
   "metadata": {},
   "outputs": [
    {
     "data": {
      "text/html": [
       "<div>\n",
       "<style scoped>\n",
       "    .dataframe tbody tr th:only-of-type {\n",
       "        vertical-align: middle;\n",
       "    }\n",
       "\n",
       "    .dataframe tbody tr th {\n",
       "        vertical-align: top;\n",
       "    }\n",
       "\n",
       "    .dataframe thead th {\n",
       "        text-align: right;\n",
       "    }\n",
       "</style>\n",
       "<table border=\"1\" class=\"dataframe\">\n",
       "  <thead>\n",
       "    <tr style=\"text-align: right;\">\n",
       "      <th></th>\n",
       "      <th>true</th>\n",
       "      <th>pred</th>\n",
       "    </tr>\n",
       "  </thead>\n",
       "  <tbody>\n",
       "    <tr>\n",
       "      <th>0</th>\n",
       "      <td>0</td>\n",
       "      <td>0</td>\n",
       "    </tr>\n",
       "    <tr>\n",
       "      <th>1</th>\n",
       "      <td>0</td>\n",
       "      <td>0</td>\n",
       "    </tr>\n",
       "    <tr>\n",
       "      <th>2</th>\n",
       "      <td>0</td>\n",
       "      <td>0</td>\n",
       "    </tr>\n",
       "    <tr>\n",
       "      <th>3</th>\n",
       "      <td>0</td>\n",
       "      <td>0</td>\n",
       "    </tr>\n",
       "    <tr>\n",
       "      <th>4</th>\n",
       "      <td>0</td>\n",
       "      <td>0</td>\n",
       "    </tr>\n",
       "    <tr>\n",
       "      <th>5</th>\n",
       "      <td>0</td>\n",
       "      <td>0</td>\n",
       "    </tr>\n",
       "    <tr>\n",
       "      <th>6</th>\n",
       "      <td>0</td>\n",
       "      <td>0</td>\n",
       "    </tr>\n",
       "    <tr>\n",
       "      <th>7</th>\n",
       "      <td>1</td>\n",
       "      <td>0</td>\n",
       "    </tr>\n",
       "    <tr>\n",
       "      <th>8</th>\n",
       "      <td>1</td>\n",
       "      <td>0</td>\n",
       "    </tr>\n",
       "    <tr>\n",
       "      <th>9</th>\n",
       "      <td>0</td>\n",
       "      <td>0</td>\n",
       "    </tr>\n",
       "  </tbody>\n",
       "</table>\n",
       "</div>"
      ],
      "text/plain": [
       "   true  pred\n",
       "0     0     0\n",
       "1     0     0\n",
       "2     0     0\n",
       "3     0     0\n",
       "4     0     0\n",
       "5     0     0\n",
       "6     0     0\n",
       "7     1     0\n",
       "8     1     0\n",
       "9     0     0"
      ]
     },
     "execution_count": 47,
     "metadata": {},
     "output_type": "execute_result"
    }
   ],
   "source": [
    "pd.DataFrame({'true': y_test.values.ravel(), \n",
    "             'pred': y_pred.ravel()}).head(10)"
   ]
  },
  {
   "cell_type": "code",
   "execution_count": 48,
   "metadata": {},
   "outputs": [
    {
     "name": "stdout",
     "output_type": "stream",
     "text": [
      "The accuracy score is 0.7984\n"
     ]
    }
   ],
   "source": [
    "acc = accuracy_score(y_test, y_pred)\n",
    "print(\"The accuracy score is {}\".format(acc))"
   ]
  },
  {
   "cell_type": "code",
   "execution_count": 49,
   "metadata": {},
   "outputs": [],
   "source": [
    "from sklearn import svm\n",
    "Svm = svm.SVC()"
   ]
  },
  {
   "cell_type": "code",
   "execution_count": 50,
   "metadata": {},
   "outputs": [
    {
     "data": {
      "text/plain": [
       "SVC()"
      ]
     },
     "execution_count": 50,
     "metadata": {},
     "output_type": "execute_result"
    }
   ],
   "source": [
    "Svm.fit(X_train, y_train)"
   ]
  },
  {
   "cell_type": "code",
   "execution_count": 51,
   "metadata": {},
   "outputs": [
    {
     "data": {
      "text/plain": [
       "array([0, 0, 0, ..., 0, 0, 0], dtype=int8)"
      ]
     },
     "execution_count": 51,
     "metadata": {},
     "output_type": "execute_result"
    }
   ],
   "source": [
    "y_pred = Svm.predict(X_test)\n",
    "y_pred"
   ]
  },
  {
   "cell_type": "code",
   "execution_count": 52,
   "metadata": {
    "scrolled": true
   },
   "outputs": [
    {
     "data": {
      "text/html": [
       "<div>\n",
       "<style scoped>\n",
       "    .dataframe tbody tr th:only-of-type {\n",
       "        vertical-align: middle;\n",
       "    }\n",
       "\n",
       "    .dataframe tbody tr th {\n",
       "        vertical-align: top;\n",
       "    }\n",
       "\n",
       "    .dataframe thead th {\n",
       "        text-align: right;\n",
       "    }\n",
       "</style>\n",
       "<table border=\"1\" class=\"dataframe\">\n",
       "  <thead>\n",
       "    <tr style=\"text-align: right;\">\n",
       "      <th></th>\n",
       "      <th>true</th>\n",
       "      <th>pred</th>\n",
       "    </tr>\n",
       "  </thead>\n",
       "  <tbody>\n",
       "    <tr>\n",
       "      <th>0</th>\n",
       "      <td>0</td>\n",
       "      <td>0</td>\n",
       "    </tr>\n",
       "    <tr>\n",
       "      <th>1</th>\n",
       "      <td>0</td>\n",
       "      <td>0</td>\n",
       "    </tr>\n",
       "    <tr>\n",
       "      <th>2</th>\n",
       "      <td>0</td>\n",
       "      <td>0</td>\n",
       "    </tr>\n",
       "    <tr>\n",
       "      <th>3</th>\n",
       "      <td>0</td>\n",
       "      <td>0</td>\n",
       "    </tr>\n",
       "    <tr>\n",
       "      <th>4</th>\n",
       "      <td>0</td>\n",
       "      <td>0</td>\n",
       "    </tr>\n",
       "    <tr>\n",
       "      <th>5</th>\n",
       "      <td>0</td>\n",
       "      <td>0</td>\n",
       "    </tr>\n",
       "    <tr>\n",
       "      <th>6</th>\n",
       "      <td>0</td>\n",
       "      <td>0</td>\n",
       "    </tr>\n",
       "    <tr>\n",
       "      <th>7</th>\n",
       "      <td>1</td>\n",
       "      <td>0</td>\n",
       "    </tr>\n",
       "    <tr>\n",
       "      <th>8</th>\n",
       "      <td>1</td>\n",
       "      <td>0</td>\n",
       "    </tr>\n",
       "    <tr>\n",
       "      <th>9</th>\n",
       "      <td>0</td>\n",
       "      <td>0</td>\n",
       "    </tr>\n",
       "  </tbody>\n",
       "</table>\n",
       "</div>"
      ],
      "text/plain": [
       "   true  pred\n",
       "0     0     0\n",
       "1     0     0\n",
       "2     0     0\n",
       "3     0     0\n",
       "4     0     0\n",
       "5     0     0\n",
       "6     0     0\n",
       "7     1     0\n",
       "8     1     0\n",
       "9     0     0"
      ]
     },
     "execution_count": 52,
     "metadata": {},
     "output_type": "execute_result"
    }
   ],
   "source": [
    "pd.DataFrame({'true': y_test.values.ravel(), \n",
    "             'pred': y_pred.ravel()}).head(10)"
   ]
  },
  {
   "cell_type": "code",
   "execution_count": 53,
   "metadata": {
    "scrolled": true
   },
   "outputs": [
    {
     "name": "stdout",
     "output_type": "stream",
     "text": [
      "The accuracy score is 0.8524\n"
     ]
    }
   ],
   "source": [
    "acc = accuracy_score(y_test, y_pred)\n",
    "print(\"The accuracy score is {}\".format(acc))"
   ]
  },
  {
   "cell_type": "code",
   "execution_count": 54,
   "metadata": {},
   "outputs": [],
   "source": [
    "from sklearn.model_selection import GridSearchCV"
   ]
  },
  {
   "cell_type": "code",
   "execution_count": 55,
   "metadata": {},
   "outputs": [],
   "source": [
    "param_grid = {\n",
    "    'C': np.logspace(-5, 8, 15),\n",
    "} "
   ]
  },
  {
   "cell_type": "code",
   "execution_count": 56,
   "metadata": {},
   "outputs": [],
   "source": [
    "def gridsearch(X, y, estimator, param_grid, cv=5, n_jobs=2):\n",
    "    grid = GridSearchCV(estimator=estimator, \n",
    "                        param_grid=param_grid, \n",
    "                        cv=cv, \n",
    "                        n_jobs=n_jobs)\n",
    "    grid.fit(X, y)\n",
    "    return grid.best_params_"
   ]
  },
  {
   "cell_type": "code",
   "execution_count": 57,
   "metadata": {},
   "outputs": [
    {
     "name": "stdout",
     "output_type": "stream",
     "text": [
      "{'C': 1e-05}\n"
     ]
    }
   ],
   "source": [
    "print(gridsearch(X_train, y_train, LogisticRegression(), param_grid, 5))"
   ]
  },
  {
   "cell_type": "code",
   "execution_count": 58,
   "metadata": {},
   "outputs": [
    {
     "name": "stdout",
     "output_type": "stream",
     "text": [
      "Model 1: 0.8524\n",
      "Model 2: 0.8524\n"
     ]
    }
   ],
   "source": [
    "from sklearn.metrics import accuracy_score\n",
    "\n",
    "model1 = LogisticRegression()\n",
    "model1.fit(X_train, y_train)\n",
    "y1_pred = model1.predict(X_test)\n",
    "acc1 = accuracy_score(y_test, y1_pred)\n",
    "\n",
    "model2 = LogisticRegression(C=0.05179474679231213, penalty='l2')\n",
    "model2.fit(X_train, y_train)\n",
    "y2_pred = model2.predict(X_test)\n",
    "acc2 = accuracy_score(y_test, y2_pred)\n",
    "\n",
    "print(\"\"\"Model 1: {}\n",
    "Model 2: {}\"\"\".format(acc1, acc2))"
   ]
  },
  {
   "cell_type": "code",
   "execution_count": 59,
   "metadata": {},
   "outputs": [],
   "source": [
    "from sklearn.model_selection import RandomizedSearchCV"
   ]
  },
  {
   "cell_type": "code",
   "execution_count": 60,
   "metadata": {},
   "outputs": [],
   "source": [
    "def randomsearch(X, y, estimator, param_grid, cv=5, n_iter=10, n_jobs=2, random_state=1234):\n",
    "    random = RandomizedSearchCV(estimator=estimator, \n",
    "                                param_distributions=param_grid, \n",
    "                                cv=cv, \n",
    "                                n_iter=n_iter, \n",
    "                                n_jobs=n_jobs,\n",
    "                                random_state=random_state)\n",
    "    random.fit(X, y)\n",
    "    return random.best_params_"
   ]
  },
  {
   "cell_type": "code",
   "execution_count": 61,
   "metadata": {},
   "outputs": [
    {
     "name": "stdout",
     "output_type": "stream",
     "text": [
      "{'C': 11787686.347935867}\n"
     ]
    }
   ],
   "source": [
    "print(randomsearch(X_train, y_train, LogisticRegression(), param_grid, 5))"
   ]
  },
  {
   "cell_type": "code",
   "execution_count": 62,
   "metadata": {},
   "outputs": [
    {
     "name": "stdout",
     "output_type": "stream",
     "text": [
      "Model 1: 0.8524\n",
      "Model 2: 0.8524\n"
     ]
    }
   ],
   "source": [
    "from sklearn.metrics import accuracy_score\n",
    "\n",
    "model1 = LogisticRegression()\n",
    "model1.fit(X_train, y_train)\n",
    "y1_pred = model1.predict(X_test)\n",
    "acc1 = accuracy_score(y_test, y1_pred)\n",
    "\n",
    "model2 = LogisticRegression(C= 0.006105402296585327, penalty='l2')\n",
    "model2.fit(X_train, y_train)\n",
    "y2_pred = model2.predict(X_test)\n",
    "acc2 = accuracy_score(y_test, y2_pred)\n",
    "\n",
    "print(\"\"\"Model 1: {}\n",
    "Model 2: {}\"\"\".format(acc1, acc2))"
   ]
  },
  {
   "cell_type": "code",
   "execution_count": 63,
   "metadata": {},
   "outputs": [],
   "source": [
    "def detect_outlier(feature):\n",
    "    Q1 = feature.quantile(0.25)\n",
    "    Q3 = feature.quantile(0.75)\n",
    "    \n",
    "    IQR = Q3-Q1\n",
    "    \n",
    "    lower_bound = Q1-(1.5*IQR)\n",
    "    upper_bound = Q3+(1.5*IQR)\n",
    "    \n",
    "    return feature.index[(feature<lower_bound)|(feature>upper_bound)].tolist()"
   ]
  },
  {
   "cell_type": "code",
   "execution_count": 64,
   "metadata": {},
   "outputs": [
    {
     "data": {
      "text/plain": [
       "Index(['OrderId', 'UserId', 'OrderValue', 'PaymentType', 'District',\n",
       "       'OrderSource', 'OrderType', 'DeliveryCharge', 'IsCartOrder',\n",
       "       'OrderFromPromotionalEvent', 'isRTO'],\n",
       "      dtype='object')"
      ]
     },
     "execution_count": 64,
     "metadata": {},
     "output_type": "execute_result"
    }
   ],
   "source": [
    "df.columns"
   ]
  },
  {
   "cell_type": "code",
   "execution_count": 65,
   "metadata": {
    "scrolled": false
   },
   "outputs": [
    {
     "name": "stdout",
     "output_type": "stream",
     "text": [
      "OrderValue --> [10, 14, 15, 30, 75, 97, 103, 104, 114, 115, 127, 130, 131, 133, 139, 141, 153, 196, 256, 260, 262, 269, 274, 277, 284, 285, 300, 308, 370, 403, 417, 427, 490, 500, 512, 517, 522, 559, 591, 592, 593, 614, 629, 631, 634, 651, 664, 672, 676, 725, 736, 743, 751, 757, 759, 760, 768, 787, 799, 819, 822, 838, 857, 863, 869, 890, 895, 902, 903, 933, 948, 950, 952, 957, 965, 987, 1021, 1028, 1033, 1056, 1100, 1107, 1111, 1126, 1130, 1138, 1152, 1153, 1180, 1208, 1218, 1254, 1262, 1272, 1298, 1309, 1330, 1332, 1335, 1341, 1352, 1355, 1387, 1389, 1395, 1470, 1473, 1487, 1493, 1498, 1504, 1513, 1524, 1531, 1538, 1540, 1560, 1573, 1574, 1589, 1601, 1605, 1615, 1624, 1625, 1634, 1642, 1647, 1654, 1657, 1658, 1676, 1685, 1695, 1698, 1726, 1733, 1736, 1750, 1757, 1793, 1813, 1846, 1872, 1906, 1910, 1918, 1938, 1940, 1945, 1955, 1975, 1982, 1985, 1989, 1994, 2010, 2021, 2114, 2135, 2196, 2206, 2214, 2229, 2282, 2300, 2320, 2389, 2390, 2411, 2425, 2448, 2455, 2477, 2486, 2495, 2496, 2515, 2524, 2540, 2544, 2552, 2559, 2567, 2570, 2581, 2602, 2608, 2614, 2629, 2631, 2635, 2638, 2643, 2655, 2671, 2708, 2743, 2752, 2761, 2767, 2797, 2825, 2847, 2864, 2872, 2910, 2927, 2934, 2941, 2945, 2969, 2973, 2995, 2997, 3010, 3017, 3024, 3071, 3077, 3078, 3105, 3109, 3128, 3161, 3163, 3172, 3179, 3186, 3215, 3257, 3262, 3267, 3276, 3289, 3299, 3314, 3315, 3316, 3334, 3335, 3386, 3390, 3396, 3405, 3407, 3408, 3411, 3421, 3431, 3445, 3446, 3466, 3473, 3503, 3521, 3523, 3530, 3566, 3577, 3601, 3602, 3603, 3643, 3672, 3674, 3695, 3696, 3708, 3727, 3738, 3741, 3758, 3760, 3778, 3779, 3802, 3807, 3813, 3828, 3843, 3872, 3873, 3875, 3882, 3894, 3895, 3904, 3931, 3952, 3963, 3983, 4004, 4005, 4013, 4022, 4029, 4048, 4051, 4053, 4056, 4062, 4064, 4067, 4072, 4092, 4094, 4096, 4099, 4109, 4118, 4119, 4131, 4132, 4142, 4177, 4178, 4224, 4234, 4235, 4279, 4303, 4333, 4346, 4391, 4395, 4403, 4411, 4423, 4424, 4425, 4433, 4464, 4468, 4470, 4501, 4508, 4554, 4557, 4559, 4562, 4571, 4634, 4637, 4643, 4650, 4665, 4670, 4700, 4716, 4725, 4728, 4729, 4764, 4771, 4783, 4793, 4806, 4814, 4815, 4823, 4848, 4859, 4869, 4875, 4891, 4902, 4928, 4929, 4958, 4993, 5019, 5036, 5051, 5062, 5066, 5077, 5093, 5096, 5115, 5151, 5172, 5200, 5205, 5217, 5224, 5228, 5253, 5259, 5261, 5270, 5284, 5308, 5316, 5332, 5333, 5344, 5371, 5393, 5400, 5403, 5412, 5413, 5460, 5478, 5483, 5491, 5497, 5502, 5503, 5505, 5509, 5512, 5519, 5526, 5578, 5602, 5627, 5688, 5689, 5702, 5716, 5723, 5742, 5769, 5771, 5783, 5808, 5823, 5834, 5853, 5868, 5885, 5889, 5907, 5911, 5923, 5928, 5940, 5969, 5985, 5994, 5997, 6023, 6026, 6028, 6051, 6052, 6060, 6079, 6106, 6119, 6160, 6162, 6171, 6201, 6205, 6207, 6209, 6223, 6255, 6263, 6303, 6323, 6330, 6346, 6353, 6357, 6366, 6377, 6395, 6422, 6461, 6489, 6493, 6494, 6509, 6514, 6518, 6536, 6544, 6584, 6586, 6594, 6611, 6613, 6620, 6654, 6660, 6668, 6679, 6702, 6722, 6730, 6734, 6737, 6738, 6749, 6766, 6768, 6787, 6793, 6797, 6799, 6848, 6871, 6882, 6911, 6916, 6927, 6930, 6931, 6935, 6946, 6952, 7011, 7029, 7038, 7050, 7060, 7082, 7089, 7106, 7108, 7123, 7126, 7127, 7176, 7192, 7211, 7227, 7247, 7269, 7277, 7288, 7292, 7293, 7295, 7309, 7310, 7328, 7329, 7334, 7338, 7344, 7350, 7359, 7390, 7391, 7392, 7400, 7438, 7439, 7440, 7445, 7449, 7461, 7478, 7486, 7517, 7541, 7564, 7574, 7577, 7603, 7615, 7621, 7628, 7631, 7636, 7652, 7658, 7663, 7671, 7676, 7705, 7706, 7707, 7714, 7717, 7719, 7720, 7741, 7742, 7744, 7747, 7768, 7780, 7801, 7809, 7853, 7854, 7865, 7878, 7880, 7916, 7922, 7926, 7932, 7940, 7950, 7954, 7981, 7990, 8035, 8046, 8055, 8057, 8065, 8069, 8071, 8115, 8127, 8150, 8155, 8179, 8221, 8237, 8247, 8255, 8304, 8306, 8390, 8401, 8413, 8414, 8420, 8446, 8489, 8491, 8512, 8520, 8522, 8529, 8548, 8563, 8609, 8639, 8746, 8760, 8774, 8781, 8784, 8798, 8809, 8859, 8862, 8866, 8867, 8878, 8935, 8943, 8958, 8972, 8975, 8982, 8992, 8997, 9002, 9003, 9009, 9030, 9037, 9042, 9043, 9099, 9102, 9115, 9125, 9126, 9201, 9204, 9207, 9224, 9245, 9279, 9286, 9301, 9347, 9348, 9357, 9383, 9384, 9397, 9441, 9469, 9507, 9549, 9564, 9602, 9630, 9635, 9638, 9643, 9647, 9649, 9687, 9736, 9744, 9762, 9781, 9804, 9821, 9822, 9848, 9850, 9866, 9873, 9922, 9950, 9960, 9973, 9974, 9975, 9987, 9999]\n",
      "DeliveryCharge --> [1666, 1676, 2211, 2540, 3172, 3431, 3446, 3729, 3741, 6129, 6359, 6573, 6578, 6702, 7079, 7362, 7439, 8128, 8299, 8784, 9030]\n"
     ]
    }
   ],
   "source": [
    "num_cols = ['OrderValue','DeliveryCharge']\n",
    "for col in num_cols:\n",
    "    print(col,'-->',detect_outlier(df[col]))"
   ]
  },
  {
   "cell_type": "code",
   "execution_count": 66,
   "metadata": {},
   "outputs": [],
   "source": [
    "for col in num_cols:\n",
    "    indx = detect_outlier(df[col])\n",
    "    df[col].loc[indx] = df[col].median()"
   ]
  },
  {
   "cell_type": "code",
   "execution_count": 67,
   "metadata": {},
   "outputs": [
    {
     "name": "stdout",
     "output_type": "stream",
     "text": [
      "OrderValue --> [76, 96, 140, 181, 222, 247, 253, 255, 264, 271, 313, 413, 527, 540, 542, 546, 564, 583, 584, 626, 637, 662, 670, 724, 754, 774, 898, 972, 978, 992, 1007, 1085, 1154, 1179, 1225, 1227, 1253, 1264, 1284, 1306, 1370, 1489, 1497, 1502, 1520, 1535, 1539, 1660, 1720, 1765, 1794, 1796, 1863, 1874, 1876, 1961, 1964, 1977, 2022, 2037, 2107, 2200, 2207, 2266, 2281, 2284, 2291, 2299, 2339, 2366, 2454, 2461, 2513, 2527, 2593, 2681, 2715, 2723, 2730, 2812, 2860, 2885, 2968, 3001, 3008, 3018, 3051, 3122, 3206, 3235, 3260, 3330, 3349, 3392, 3415, 3425, 3501, 3564, 3617, 3653, 3659, 3693, 3731, 3756, 3773, 3775, 3809, 3827, 3911, 3969, 3982, 4054, 4057, 4089, 4133, 4150, 4172, 4185, 4186, 4203, 4245, 4250, 4309, 4316, 4372, 4387, 4444, 4462, 4479, 4560, 4572, 4573, 4600, 4605, 4645, 4651, 4653, 4659, 4667, 4693, 4717, 4737, 4763, 4818, 4847, 4897, 4907, 4912, 4952, 4961, 4970, 5090, 5139, 5162, 5177, 5198, 5213, 5290, 5320, 5339, 5343, 5385, 5398, 5411, 5443, 5451, 5515, 5518, 5520, 5527, 5550, 5557, 5586, 5628, 5633, 5634, 5646, 5651, 5754, 5766, 5803, 5832, 5839, 5967, 6009, 6011, 6014, 6099, 6153, 6157, 6268, 6282, 6287, 6313, 6320, 6324, 6374, 6418, 6424, 6498, 6511, 6533, 6619, 6627, 6714, 6741, 6750, 6754, 6798, 6819, 6827, 6884, 6915, 6937, 6945, 6991, 7003, 7037, 7046, 7065, 7068, 7092, 7135, 7152, 7155, 7166, 7259, 7304, 7307, 7313, 7314, 7337, 7341, 7342, 7345, 7348, 7393, 7458, 7465, 7467, 7485, 7508, 7556, 7559, 7639, 7683, 7686, 7687, 7715, 7716, 7743, 7770, 7788, 7875, 7915, 7918, 7947, 7984, 8013, 8064, 8105, 8116, 8129, 8149, 8212, 8224, 8227, 8249, 8277, 8315, 8349, 8371, 8396, 8523, 8534, 8552, 8587, 8607, 8620, 8643, 8653, 8684, 8695, 8717, 8722, 8770, 8810, 8812, 8868, 8880, 8918, 8926, 8949, 8999, 9005, 9023, 9047, 9074, 9084, 9172, 9177, 9209, 9212, 9228, 9308, 9316, 9317, 9330, 9377, 9450, 9451, 9452, 9468, 9481, 9485, 9510, 9521, 9539, 9546, 9600, 9734, 9735, 9737, 9757, 9775, 9795, 9827, 9859, 9911, 9923, 9928, 9962]\n",
      "DeliveryCharge --> []\n"
     ]
    }
   ],
   "source": [
    "for col in num_cols:\n",
    "    print(col,'-->',detect_outlier(df[col]))"
   ]
  },
  {
   "cell_type": "code",
   "execution_count": 68,
   "metadata": {},
   "outputs": [
    {
     "name": "stdout",
     "output_type": "stream",
     "text": [
      "X_train:(7500, 10)\n",
      "y_train:(7500, 1)\n",
      "X_test: (2500, 10)\n",
      "y_test: (2500, 1)\n"
     ]
    }
   ],
   "source": [
    "from sklearn.model_selection import train_test_split\n",
    "\n",
    "X = df.loc[:, df.columns!='isRTO']\n",
    "y = df.loc[:, df.columns=='isRTO']\n",
    "\n",
    "X_train, X_test, y_train, y_test = train_test_split(X, y, test_size=0.25, random_state=1234)\n",
    "\n",
    "print(\"\"\"X_train:{}\n",
    "y_train:{}\n",
    "X_test: {}\n",
    "y_test: {}\"\"\".format(X_train.shape, y_train.shape, X_test.shape, y_test.shape))"
   ]
  },
  {
   "cell_type": "code",
   "execution_count": 69,
   "metadata": {},
   "outputs": [
    {
     "name": "stdout",
     "output_type": "stream",
     "text": [
      "Model 1: 0.8524\n",
      "Model 2: 0.8524\n"
     ]
    }
   ],
   "source": [
    "from sklearn.metrics import accuracy_score\n",
    "\n",
    "model1 = LogisticRegression()\n",
    "model1.fit(X_train, y_train)\n",
    "y1_pred = model1.predict(X_test)\n",
    "acc1 = accuracy_score(y_test, y1_pred)\n",
    "\n",
    "model2 = LogisticRegression(C=0.05179474679231213, penalty='l2')\n",
    "model2.fit(X_train, y_train)\n",
    "y2_pred = model2.predict(X_test)\n",
    "acc2 = accuracy_score(y_test, y2_pred)\n",
    "\n",
    "print(\"\"\"Model 1: {}\n",
    "Model 2: {}\"\"\".format(acc1, acc2))"
   ]
  },
  {
   "cell_type": "code",
   "execution_count": 70,
   "metadata": {
    "scrolled": true
   },
   "outputs": [
    {
     "data": {
      "image/png": "[encoded data removed]",
      "text/plain": [
       "<Figure size 432x288 with 1 Axes>"
      ]
     },
     "metadata": {},
     "output_type": "display_data"
    }
   ],
   "source": [
    "pd.Series(df['isRTO']).value_counts().plot.bar();"
   ]
  },
  {
   "cell_type": "code",
   "execution_count": 71,
   "metadata": {},
   "outputs": [
    {
     "data": {
      "text/plain": [
       "0    8465\n",
       "1    1535\n",
       "Name: isRTO, dtype: int64"
      ]
     },
     "execution_count": 71,
     "metadata": {},
     "output_type": "execute_result"
    }
   ],
   "source": [
    "df.isRTO.value_counts()"
   ]
  },
  {
   "cell_type": "code",
   "execution_count": 72,
   "metadata": {},
   "outputs": [
    {
     "data": {
      "text/plain": [
       "(10000, 11)"
      ]
     },
     "execution_count": 72,
     "metadata": {},
     "output_type": "execute_result"
    }
   ],
   "source": [
    "df.shape"
   ]
  },
  {
   "cell_type": "code",
   "execution_count": 73,
   "metadata": {},
   "outputs": [],
   "source": [
    "from sklearn.utils import resample"
   ]
  },
  {
   "cell_type": "code",
   "execution_count": 74,
   "metadata": {},
   "outputs": [
    {
     "data": {
      "text/plain": [
       "1    8465\n",
       "0    8465\n",
       "Name: isRTO, dtype: int64"
      ]
     },
     "execution_count": 74,
     "metadata": {},
     "output_type": "execute_result"
    }
   ],
   "source": [
    "# Separate majority and minority classes\n",
    "df_majority = df[df.isRTO==0]\n",
    "df_minority = df[df.isRTO==1]\n",
    " \n",
    "# Upsample minority class\n",
    "df_minority_upsampled = resample(df_minority, \n",
    "                                 replace=True,     # sample with replacement\n",
    "                                 n_samples=8465,    # to match majority class\n",
    "                                 random_state=123) # reproducible results\n",
    "df_upsampled = pd.concat([df_majority, df_minority_upsampled])\n",
    " \n",
    "df_upsampled.isRTO.value_counts()\n"
   ]
  },
  {
   "cell_type": "code",
   "execution_count": 75,
   "metadata": {},
   "outputs": [
    {
     "data": {
      "text/plain": [
       "1    1535\n",
       "0    1535\n",
       "Name: isRTO, dtype: int64"
      ]
     },
     "execution_count": 75,
     "metadata": {},
     "output_type": "execute_result"
    }
   ],
   "source": [
    "# Separate majority and minority classes\n",
    "df_majority = df[df.isRTO==0]\n",
    "df_minority = df[df.isRTO==1]\n",
    " \n",
    "# Downsample majority class\n",
    "df_majority_downsampled = resample(df_majority, \n",
    "                                 replace=False,    # sample without replacement\n",
    "                                 n_samples=1535,     # to match minority class\n",
    "                                 random_state=123) # reproducible results\n",
    " \n",
    "\n",
    "df_downsampled = pd.concat([df_majority_downsampled, df_minority])\n",
    "\n",
    "df_downsampled.isRTO.value_counts()"
   ]
  },
  {
   "cell_type": "code",
   "execution_count": 76,
   "metadata": {},
   "outputs": [
    {
     "name": "stdout",
     "output_type": "stream",
     "text": [
      "X_train:(12697, 10)\n",
      "y_train:(12697, 1)\n",
      "X_test: (4233, 10)\n",
      "y_test: (4233, 1)\n"
     ]
    }
   ],
   "source": [
    "from sklearn.model_selection import train_test_split\n",
    "\n",
    "X = df_upsampled.loc[:, df_upsampled.columns!='isRTO']\n",
    "y = df_upsampled.loc[:, df_upsampled.columns=='isRTO']\n",
    "\n",
    "X_train, X_test, y_train, y_test = train_test_split(X, y, test_size=0.25, random_state=1234)\n",
    "\n",
    "print(\"\"\"X_train:{}\n",
    "y_train:{}\n",
    "X_test: {}\n",
    "y_test: {}\"\"\".format(X_train.shape, y_train.shape, X_test.shape, y_test.shape))"
   ]
  },
  {
   "cell_type": "code",
   "execution_count": 77,
   "metadata": {},
   "outputs": [
    {
     "name": "stdout",
     "output_type": "stream",
     "text": [
      "Model 1: 0.5147649421214269\n",
      "Model 2: 0.5147649421214269\n"
     ]
    }
   ],
   "source": [
    "from sklearn.metrics import accuracy_score\n",
    "\n",
    "model1 = LogisticRegression()\n",
    "model1.fit(X_train, y_train)\n",
    "y1_pred = model1.predict(X_test)\n",
    "acc1 = accuracy_score(y_test, y1_pred)\n",
    "\n",
    "model2 = LogisticRegression(C=0.05179474679231213, penalty='l2')\n",
    "model2.fit(X_train, y_train)\n",
    "y2_pred = model2.predict(X_test)\n",
    "acc2 = accuracy_score(y_test, y2_pred)\n",
    "\n",
    "print(\"\"\"Model 1: {}\n",
    "Model 2: {}\"\"\".format(acc1, acc2))"
   ]
  },
  {
   "cell_type": "code",
   "execution_count": 78,
   "metadata": {},
   "outputs": [
    {
     "name": "stdout",
     "output_type": "stream",
     "text": [
      "X_train:(2302, 10)\n",
      "y_train:(2302, 1)\n",
      "X_test: (768, 10)\n",
      "y_test: (768, 1)\n"
     ]
    }
   ],
   "source": [
    "from sklearn.model_selection import train_test_split\n",
    "\n",
    "X = df_downsampled.loc[:, df_downsampled.columns!='isRTO']\n",
    "y = df_downsampled.loc[:, df_downsampled.columns=='isRTO']\n",
    "\n",
    "X_train, X_test, y_train, y_test = train_test_split(X, y, test_size=0.25, random_state=1234)\n",
    "\n",
    "print(\"\"\"X_train:{}\n",
    "y_train:{}\n",
    "X_test: {}\n",
    "y_test: {}\"\"\".format(X_train.shape, y_train.shape, X_test.shape, y_test.shape))"
   ]
  },
  {
   "cell_type": "code",
   "execution_count": 79,
   "metadata": {},
   "outputs": [
    {
     "name": "stdout",
     "output_type": "stream",
     "text": [
      "Model 1 Logistic: 0.5104166666666666\n",
      "Model 2 Logistic: 0.5104166666666666\n"
     ]
    }
   ],
   "source": [
    "from sklearn.metrics import accuracy_score\n",
    "\n",
    "model1 = LogisticRegression()\n",
    "model1.fit(X_train, y_train)\n",
    "y1_pred = model1.predict(X_test)\n",
    "acc1 = accuracy_score(y_test, y1_pred)\n",
    "\n",
    "model2 = LogisticRegression(C=0.05179474679231213, penalty='l2')\n",
    "model2.fit(X_train, y_train)\n",
    "y2_pred = model2.predict(X_test)\n",
    "acc2 = accuracy_score(y_test, y2_pred)\n",
    "\n",
    "print(\"\"\"Model 1 Logistic: {}\n",
    "Model 2 Logistic: {}\"\"\".format(acc1, acc2))"
   ]
  },
  {
   "cell_type": "code",
   "execution_count": 80,
   "metadata": {},
   "outputs": [
    {
     "name": "stdout",
     "output_type": "stream",
     "text": [
      "Model DecisionTree: 0.5104166666666666\n"
     ]
    }
   ],
   "source": [
    "DT.fit(X_train,y_train)\n",
    "y_pred = DT.predict(X_test)\n",
    "acc = accuracy_score(y_test, y2_pred)\n",
    "print(\"Model DecisionTree: {}\".format(acc))"
   ]
  },
  {
   "cell_type": "code",
   "execution_count": 81,
   "metadata": {},
   "outputs": [
    {
     "name": "stdout",
     "output_type": "stream",
     "text": [
      "Model NaiveBayes: 0.5104166666666666\n"
     ]
    }
   ],
   "source": [
    "NB.fit(X_train,y_train)\n",
    "y_pred = NB.predict(X_test)\n",
    "acc = accuracy_score(y_test, y2_pred)\n",
    "print(\"Model NaiveBayes: {}\".format(acc))"
   ]
  },
  {
   "cell_type": "code",
   "execution_count": 82,
   "metadata": {},
   "outputs": [
    {
     "name": "stdout",
     "output_type": "stream",
     "text": [
      "Model KNN: 0.5104166666666666\n"
     ]
    }
   ],
   "source": [
    "KNN.fit(X_train,y_train)\n",
    "y_pred = KNN.predict(X_test)\n",
    "acc = accuracy_score(y_test, y2_pred)\n",
    "print(\"Model KNN: {}\".format(acc))"
   ]
  },
  {
   "cell_type": "code",
   "execution_count": 83,
   "metadata": {},
   "outputs": [
    {
     "name": "stdout",
     "output_type": "stream",
     "text": [
      "Model SVM: 0.5104166666666666\n"
     ]
    }
   ],
   "source": [
    "Svm.fit(X_train,y_train)\n",
    "y_pred = Svm.predict(X_test)\n",
    "acc = accuracy_score(y_test, y2_pred)\n",
    "print(\"Model SVM: {}\".format(acc))"
   ]
  },
  {
   "cell_type": "code",
   "execution_count": 84,
   "metadata": {},
   "outputs": [
    {
     "name": "stdout",
     "output_type": "stream",
     "text": [
      "Training datset: (6000, 10),\n",
      "Validation Dataset: (2000, 10),\n",
      "Test Dataset: (2000, 10),\n",
      "\n"
     ]
    }
   ],
   "source": [
    "from sklearn.model_selection import train_test_split\n",
    "\n",
    "X = df.loc[:, df.columns!='isRTO']\n",
    "y = df.loc[:, df.columns=='isRTO']\n",
    "\n",
    "X_train, X_test, y_train, y_test = train_test_split(X, y, test_size=0.2, shuffle=True, random_state=123)\n",
    "X_train, X_val, y_train, y_val = train_test_split(X_train, y_train, test_size=0.25, shuffle=True, random_state=123)\n",
    "\n",
    "print(\"\"\"Training datset: {},\n",
    "Validation Dataset: {},\n",
    "Test Dataset: {},\n",
    "\"\"\".format(X_train.shape, X_val.shape, X_test.shape))"
   ]
  },
  {
   "cell_type": "code",
   "execution_count": 85,
   "metadata": {},
   "outputs": [
    {
     "name": "stdout",
     "output_type": "stream",
     "text": [
      "Model 1 Test Accuracy: 0.859\n"
     ]
    }
   ],
   "source": [
    "model1 = LogisticRegression(C=1.0, penalty='l2').fit(X_train, y_train)\n",
    "\n",
    "model1_yval = model1.predict(X_val)\n",
    "model1_ytest = model1.predict(X_test)\n",
    "\n",
    "acc1_val = accuracy_score(y_test, model1_yval)\n",
    "acc1_test = accuracy_score(y_test, model1_ytest)\n",
    "\n",
    "# print(\"Model 1 Validation Accuracy: {}\".format(acc1_val))\n",
    "print(\"Model 1 Test Accuracy: {}\".format(acc1_test))"
   ]
  },
  {
   "cell_type": "code",
   "execution_count": 86,
   "metadata": {},
   "outputs": [
    {
     "name": "stdout",
     "output_type": "stream",
     "text": [
      "Training datset: (1842, 10),\n",
      "Validation Dataset: (614, 10),\n",
      "Test Dataset: (614, 10),\n",
      "\n"
     ]
    }
   ],
   "source": [
    "from sklearn.model_selection import train_test_split\n",
    "\n",
    "X = df_downsampled.loc[:, df_downsampled.columns!='isRTO']\n",
    "y = df_downsampled.loc[:, df_downsampled.columns=='isRTO']\n",
    "\n",
    "X_train, X_test, y_train, y_test = train_test_split(X, y, test_size=0.2, shuffle=True, random_state=123)\n",
    "X_train, X_val, y_train, y_val = train_test_split(X_train, y_train, test_size=0.25, shuffle=True, random_state=123)\n",
    "\n",
    "print(\"\"\"Training datset: {},\n",
    "Validation Dataset: {},\n",
    "Test Dataset: {},\n",
    "\"\"\".format(X_train.shape, X_val.shape, X_test.shape))"
   ]
  },
  {
   "cell_type": "code",
   "execution_count": 87,
   "metadata": {},
   "outputs": [
    {
     "name": "stdout",
     "output_type": "stream",
     "text": [
      "Model 1 Test Accuracy: 0.4804560260586319\n"
     ]
    }
   ],
   "source": [
    "model1 = LogisticRegression(C=1.0, penalty='l2').fit(X_train, y_train)\n",
    "\n",
    "model1_yval = model1.predict(X_val)\n",
    "model1_ytest = model1.predict(X_test)\n",
    "\n",
    "acc1_val = accuracy_score(y_test, model1_yval)\n",
    "acc1_test = accuracy_score(y_test, model1_ytest)\n",
    "\n",
    "# print(\"Model 1 Validation Accuracy: {}\".format(acc1_val))\n",
    "print(\"Model 1 Test Accuracy: {}\".format(acc1_test))"
   ]
  },
  {
   "cell_type": "code",
   "execution_count": 88,
   "metadata": {},
   "outputs": [
    {
     "name": "stdout",
     "output_type": "stream",
     "text": [
      "Model 2 Validation Accuracy: 0.47068403908794787\n",
      "Model 2 Test Accuracy: 0.4804560260586319\n"
     ]
    }
   ],
   "source": [
    "model2 = LogisticRegression(C=1.0, penalty='l2').fit(X_train, y_train)\n",
    "\n",
    "model2_yval = model2.predict(X_val)\n",
    "model2_ytest = model2.predict(X_test)\n",
    "\n",
    "acc2_val = accuracy_score(y_test, model2_yval)\n",
    "acc2_test = accuracy_score(y_test, model2_ytest)\n",
    "\n",
    "print(\"Model 2 Validation Accuracy: {}\".format(acc2_val))\n",
    "print(\"Model 2 Test Accuracy: {}\".format(acc2_test))"
   ]
  },
  {
   "cell_type": "code",
   "execution_count": 89,
   "metadata": {},
   "outputs": [
    {
     "name": "stdout",
     "output_type": "stream",
     "text": [
      "Model 3 Validation Accuracy: 0.47068403908794787\n",
      "Model 3 Test Accuracy: 0.4804560260586319\n"
     ]
    }
   ],
   "source": [
    "model3 = LogisticRegression(C=0.0001, penalty='l2').fit(X_train, y_train)\n",
    "\n",
    "model3_yval = model3.predict(X_val)\n",
    "model3_ytest = model3.predict(X_test)\n",
    "\n",
    "acc3_val = accuracy_score(y_test, model3_yval)\n",
    "acc3_test = accuracy_score(y_test, model3_ytest)\n",
    "\n",
    "print(\"Model 3 Validation Accuracy: {}\".format(acc3_val))\n",
    "print(\"Model 3 Test Accuracy: {}\".format(acc3_test))"
   ]
  },
  {
   "cell_type": "code",
   "execution_count": 90,
   "metadata": {},
   "outputs": [
    {
     "data": {
      "text/html": [
       "<div>\n",
       "<style scoped>\n",
       "    .dataframe tbody tr th:only-of-type {\n",
       "        vertical-align: middle;\n",
       "    }\n",
       "\n",
       "    .dataframe tbody tr th {\n",
       "        vertical-align: top;\n",
       "    }\n",
       "\n",
       "    .dataframe thead th {\n",
       "        text-align: right;\n",
       "    }\n",
       "</style>\n",
       "<table border=\"1\" class=\"dataframe\">\n",
       "  <thead>\n",
       "    <tr style=\"text-align: right;\">\n",
       "      <th></th>\n",
       "      <th>OrderId</th>\n",
       "      <th>UserId</th>\n",
       "      <th>OrderValue</th>\n",
       "      <th>PaymentType</th>\n",
       "      <th>District</th>\n",
       "      <th>OrderSource</th>\n",
       "      <th>OrderType</th>\n",
       "      <th>DeliveryCharge</th>\n",
       "      <th>IsCartOrder</th>\n",
       "      <th>OrderFromPromotionalEvent</th>\n",
       "      <th>isRTO</th>\n",
       "    </tr>\n",
       "  </thead>\n",
       "  <tbody>\n",
       "    <tr>\n",
       "      <th>0</th>\n",
       "      <td>2562691</td>\n",
       "      <td>663791</td>\n",
       "      <td>168.0</td>\n",
       "      <td>4</td>\n",
       "      <td>14</td>\n",
       "      <td>4</td>\n",
       "      <td>1</td>\n",
       "      <td>25.0</td>\n",
       "      <td>0</td>\n",
       "      <td>1</td>\n",
       "      <td>0</td>\n",
       "    </tr>\n",
       "    <tr>\n",
       "      <th>1</th>\n",
       "      <td>2561859</td>\n",
       "      <td>961083</td>\n",
       "      <td>240.0</td>\n",
       "      <td>4</td>\n",
       "      <td>14</td>\n",
       "      <td>7</td>\n",
       "      <td>1</td>\n",
       "      <td>35.0</td>\n",
       "      <td>0</td>\n",
       "      <td>1</td>\n",
       "      <td>0</td>\n",
       "    </tr>\n",
       "    <tr>\n",
       "      <th>2</th>\n",
       "      <td>2561434</td>\n",
       "      <td>848517</td>\n",
       "      <td>120.0</td>\n",
       "      <td>4</td>\n",
       "      <td>14</td>\n",
       "      <td>6</td>\n",
       "      <td>1</td>\n",
       "      <td>35.0</td>\n",
       "      <td>0</td>\n",
       "      <td>1</td>\n",
       "      <td>1</td>\n",
       "    </tr>\n",
       "    <tr>\n",
       "      <th>3</th>\n",
       "      <td>2561202</td>\n",
       "      <td>276304</td>\n",
       "      <td>185.0</td>\n",
       "      <td>4</td>\n",
       "      <td>14</td>\n",
       "      <td>4</td>\n",
       "      <td>1</td>\n",
       "      <td>25.0</td>\n",
       "      <td>1</td>\n",
       "      <td>0</td>\n",
       "      <td>0</td>\n",
       "    </tr>\n",
       "    <tr>\n",
       "      <th>4</th>\n",
       "      <td>2561033</td>\n",
       "      <td>955384</td>\n",
       "      <td>201.0</td>\n",
       "      <td>4</td>\n",
       "      <td>14</td>\n",
       "      <td>4</td>\n",
       "      <td>1</td>\n",
       "      <td>25.0</td>\n",
       "      <td>0</td>\n",
       "      <td>1</td>\n",
       "      <td>0</td>\n",
       "    </tr>\n",
       "  </tbody>\n",
       "</table>\n",
       "</div>"
      ],
      "text/plain": [
       "   OrderId  UserId  OrderValue  PaymentType  District  OrderSource  OrderType  \\\n",
       "0  2562691  663791       168.0            4        14            4          1   \n",
       "1  2561859  961083       240.0            4        14            7          1   \n",
       "2  2561434  848517       120.0            4        14            6          1   \n",
       "3  2561202  276304       185.0            4        14            4          1   \n",
       "4  2561033  955384       201.0            4        14            4          1   \n",
       "\n",
       "   DeliveryCharge  IsCartOrder  OrderFromPromotionalEvent  isRTO  \n",
       "0            25.0            0                          1      0  \n",
       "1            35.0            0                          1      0  \n",
       "2            35.0            0                          1      1  \n",
       "3            25.0            1                          0      0  \n",
       "4            25.0            0                          1      0  "
      ]
     },
     "execution_count": 90,
     "metadata": {},
     "output_type": "execute_result"
    }
   ],
   "source": [
    "df.head()"
   ]
  },
  {
   "cell_type": "code",
   "execution_count": 91,
   "metadata": {},
   "outputs": [
    {
     "data": {
      "text/html": [
       "<div>\n",
       "<style scoped>\n",
       "    .dataframe tbody tr th:only-of-type {\n",
       "        vertical-align: middle;\n",
       "    }\n",
       "\n",
       "    .dataframe tbody tr th {\n",
       "        vertical-align: top;\n",
       "    }\n",
       "\n",
       "    .dataframe thead th {\n",
       "        text-align: right;\n",
       "    }\n",
       "</style>\n",
       "<table border=\"1\" class=\"dataframe\">\n",
       "  <thead>\n",
       "    <tr style=\"text-align: right;\">\n",
       "      <th></th>\n",
       "      <th>OrderId</th>\n",
       "      <th>UserId</th>\n",
       "      <th>OrderValue</th>\n",
       "      <th>PaymentType</th>\n",
       "      <th>District</th>\n",
       "      <th>OrderSource</th>\n",
       "      <th>OrderType</th>\n",
       "      <th>DeliveryCharge</th>\n",
       "      <th>OrderPlacedDay</th>\n",
       "      <th>OrderConfirmDayOverPhone</th>\n",
       "      <th>IsCartOrder</th>\n",
       "      <th>OrderFromPromotionalEvent</th>\n",
       "      <th>isRTO</th>\n",
       "    </tr>\n",
       "  </thead>\n",
       "  <tbody>\n",
       "    <tr>\n",
       "      <th>0</th>\n",
       "      <td>2562691</td>\n",
       "      <td>663791</td>\n",
       "      <td>168</td>\n",
       "      <td>MPD</td>\n",
       "      <td>Dhaka</td>\n",
       "      <td>android</td>\n",
       "      <td>normal</td>\n",
       "      <td>25.0</td>\n",
       "      <td>6/26/2019 9:20</td>\n",
       "      <td>6/26/2019 3:30</td>\n",
       "      <td>No</td>\n",
       "      <td>Yes</td>\n",
       "      <td>No</td>\n",
       "    </tr>\n",
       "    <tr>\n",
       "      <th>1</th>\n",
       "      <td>2561859</td>\n",
       "      <td>961083</td>\n",
       "      <td>240</td>\n",
       "      <td>MPD</td>\n",
       "      <td>Dhaka</td>\n",
       "      <td>mobile-site</td>\n",
       "      <td>normal</td>\n",
       "      <td>35.0</td>\n",
       "      <td>6/25/2019 19:05</td>\n",
       "      <td>6/25/2019 13:40</td>\n",
       "      <td>No</td>\n",
       "      <td>Yes</td>\n",
       "      <td>No</td>\n",
       "    </tr>\n",
       "    <tr>\n",
       "      <th>2</th>\n",
       "      <td>2561434</td>\n",
       "      <td>848517</td>\n",
       "      <td>120</td>\n",
       "      <td>MPD</td>\n",
       "      <td>Dhaka</td>\n",
       "      <td>desktop</td>\n",
       "      <td>normal</td>\n",
       "      <td>35.0</td>\n",
       "      <td>6/25/2019 15:28</td>\n",
       "      <td>6/25/2019 9:27</td>\n",
       "      <td>No</td>\n",
       "      <td>Yes</td>\n",
       "      <td>Yes</td>\n",
       "    </tr>\n",
       "    <tr>\n",
       "      <th>3</th>\n",
       "      <td>2561202</td>\n",
       "      <td>276304</td>\n",
       "      <td>185</td>\n",
       "      <td>MPD</td>\n",
       "      <td>Dhaka</td>\n",
       "      <td>android</td>\n",
       "      <td>normal</td>\n",
       "      <td>25.0</td>\n",
       "      <td>6/25/2019 13:27</td>\n",
       "      <td>6/25/2019 7:27</td>\n",
       "      <td>Yes</td>\n",
       "      <td>No</td>\n",
       "      <td>No</td>\n",
       "    </tr>\n",
       "    <tr>\n",
       "      <th>4</th>\n",
       "      <td>2561033</td>\n",
       "      <td>955384</td>\n",
       "      <td>201</td>\n",
       "      <td>MPD</td>\n",
       "      <td>Dhaka</td>\n",
       "      <td>android</td>\n",
       "      <td>normal</td>\n",
       "      <td>25.0</td>\n",
       "      <td>6/25/2019 12:13</td>\n",
       "      <td>6/25/2019 6:56</td>\n",
       "      <td>No</td>\n",
       "      <td>Yes</td>\n",
       "      <td>No</td>\n",
       "    </tr>\n",
       "  </tbody>\n",
       "</table>\n",
       "</div>"
      ],
      "text/plain": [
       "   OrderId  UserId  OrderValue           PaymentType District  OrderSource  \\\n",
       "0  2562691  663791         168  MPD                     Dhaka      android   \n",
       "1  2561859  961083         240  MPD                     Dhaka  mobile-site   \n",
       "2  2561434  848517         120  MPD                     Dhaka      desktop   \n",
       "3  2561202  276304         185  MPD                     Dhaka      android   \n",
       "4  2561033  955384         201  MPD                     Dhaka      android   \n",
       "\n",
       "  OrderType  DeliveryCharge   OrderPlacedDay OrderConfirmDayOverPhone  \\\n",
       "0    normal            25.0   6/26/2019 9:20           6/26/2019 3:30   \n",
       "1    normal            35.0  6/25/2019 19:05          6/25/2019 13:40   \n",
       "2    normal            35.0  6/25/2019 15:28           6/25/2019 9:27   \n",
       "3    normal            25.0  6/25/2019 13:27           6/25/2019 7:27   \n",
       "4    normal            25.0  6/25/2019 12:13           6/25/2019 6:56   \n",
       "\n",
       "  IsCartOrder OrderFromPromotionalEvent isRTO  \n",
       "0          No                       Yes    No  \n",
       "1          No                       Yes    No  \n",
       "2          No                       Yes   Yes  \n",
       "3         Yes                        No    No  \n",
       "4          No                       Yes    No  "
      ]
     },
     "execution_count": 91,
     "metadata": {},
     "output_type": "execute_result"
    }
   ],
   "source": [
    "data = pd.read_csv(\"RTOdata.csv\")\n",
    "data.head()"
   ]
  },
  {
   "cell_type": "code",
   "execution_count": 92,
   "metadata": {},
   "outputs": [
    {
     "data": {
      "text/plain": [
       "OrderId                        int64\n",
       "UserId                         int64\n",
       "OrderValue                     int64\n",
       "PaymentType                   object\n",
       "District                      object\n",
       "OrderSource                   object\n",
       "OrderType                     object\n",
       "DeliveryCharge               float64\n",
       "OrderPlacedDay                object\n",
       "OrderConfirmDayOverPhone      object\n",
       "IsCartOrder                   object\n",
       "OrderFromPromotionalEvent     object\n",
       "isRTO                         object\n",
       "dtype: object"
      ]
     },
     "execution_count": 92,
     "metadata": {},
     "output_type": "execute_result"
    }
   ],
   "source": [
    "data.dtypes"
   ]
  },
  {
   "cell_type": "code",
   "execution_count": 93,
   "metadata": {},
   "outputs": [
    {
     "data": {
      "text/html": [
       "<div>\n",
       "<style scoped>\n",
       "    .dataframe tbody tr th:only-of-type {\n",
       "        vertical-align: middle;\n",
       "    }\n",
       "\n",
       "    .dataframe tbody tr th {\n",
       "        vertical-align: top;\n",
       "    }\n",
       "\n",
       "    .dataframe thead th {\n",
       "        text-align: right;\n",
       "    }\n",
       "</style>\n",
       "<table border=\"1\" class=\"dataframe\">\n",
       "  <thead>\n",
       "    <tr style=\"text-align: right;\">\n",
       "      <th></th>\n",
       "      <th>OrderId</th>\n",
       "      <th>UserId</th>\n",
       "      <th>OrderValue</th>\n",
       "      <th>PaymentType</th>\n",
       "      <th>District</th>\n",
       "      <th>OrderSource</th>\n",
       "      <th>OrderType</th>\n",
       "      <th>DeliveryCharge</th>\n",
       "      <th>OrderPlacedDay</th>\n",
       "      <th>OrderConfirmDayOverPhone</th>\n",
       "      <th>IsCartOrder</th>\n",
       "      <th>OrderFromPromotionalEvent</th>\n",
       "      <th>isRTO</th>\n",
       "    </tr>\n",
       "  </thead>\n",
       "  <tbody>\n",
       "    <tr>\n",
       "      <th>0</th>\n",
       "      <td>2562691</td>\n",
       "      <td>663791</td>\n",
       "      <td>168</td>\n",
       "      <td>MPD</td>\n",
       "      <td>Dhaka</td>\n",
       "      <td>android</td>\n",
       "      <td>normal</td>\n",
       "      <td>25.0</td>\n",
       "      <td>2019-06-26 09:20:00</td>\n",
       "      <td>2019-06-26 03:30:00</td>\n",
       "      <td>No</td>\n",
       "      <td>Yes</td>\n",
       "      <td>No</td>\n",
       "    </tr>\n",
       "    <tr>\n",
       "      <th>1</th>\n",
       "      <td>2561859</td>\n",
       "      <td>961083</td>\n",
       "      <td>240</td>\n",
       "      <td>MPD</td>\n",
       "      <td>Dhaka</td>\n",
       "      <td>mobile-site</td>\n",
       "      <td>normal</td>\n",
       "      <td>35.0</td>\n",
       "      <td>2019-06-25 19:05:00</td>\n",
       "      <td>2019-06-25 13:40:00</td>\n",
       "      <td>No</td>\n",
       "      <td>Yes</td>\n",
       "      <td>No</td>\n",
       "    </tr>\n",
       "    <tr>\n",
       "      <th>2</th>\n",
       "      <td>2561434</td>\n",
       "      <td>848517</td>\n",
       "      <td>120</td>\n",
       "      <td>MPD</td>\n",
       "      <td>Dhaka</td>\n",
       "      <td>desktop</td>\n",
       "      <td>normal</td>\n",
       "      <td>35.0</td>\n",
       "      <td>2019-06-25 15:28:00</td>\n",
       "      <td>2019-06-25 09:27:00</td>\n",
       "      <td>No</td>\n",
       "      <td>Yes</td>\n",
       "      <td>Yes</td>\n",
       "    </tr>\n",
       "    <tr>\n",
       "      <th>3</th>\n",
       "      <td>2561202</td>\n",
       "      <td>276304</td>\n",
       "      <td>185</td>\n",
       "      <td>MPD</td>\n",
       "      <td>Dhaka</td>\n",
       "      <td>android</td>\n",
       "      <td>normal</td>\n",
       "      <td>25.0</td>\n",
       "      <td>2019-06-25 13:27:00</td>\n",
       "      <td>2019-06-25 07:27:00</td>\n",
       "      <td>Yes</td>\n",
       "      <td>No</td>\n",
       "      <td>No</td>\n",
       "    </tr>\n",
       "    <tr>\n",
       "      <th>4</th>\n",
       "      <td>2561033</td>\n",
       "      <td>955384</td>\n",
       "      <td>201</td>\n",
       "      <td>MPD</td>\n",
       "      <td>Dhaka</td>\n",
       "      <td>android</td>\n",
       "      <td>normal</td>\n",
       "      <td>25.0</td>\n",
       "      <td>2019-06-25 12:13:00</td>\n",
       "      <td>2019-06-25 06:56:00</td>\n",
       "      <td>No</td>\n",
       "      <td>Yes</td>\n",
       "      <td>No</td>\n",
       "    </tr>\n",
       "  </tbody>\n",
       "</table>\n",
       "</div>"
      ],
      "text/plain": [
       "   OrderId  UserId  OrderValue           PaymentType District  OrderSource  \\\n",
       "0  2562691  663791         168  MPD                     Dhaka      android   \n",
       "1  2561859  961083         240  MPD                     Dhaka  mobile-site   \n",
       "2  2561434  848517         120  MPD                     Dhaka      desktop   \n",
       "3  2561202  276304         185  MPD                     Dhaka      android   \n",
       "4  2561033  955384         201  MPD                     Dhaka      android   \n",
       "\n",
       "  OrderType  DeliveryCharge      OrderPlacedDay OrderConfirmDayOverPhone  \\\n",
       "0    normal            25.0 2019-06-26 09:20:00      2019-06-26 03:30:00   \n",
       "1    normal            35.0 2019-06-25 19:05:00      2019-06-25 13:40:00   \n",
       "2    normal            35.0 2019-06-25 15:28:00      2019-06-25 09:27:00   \n",
       "3    normal            25.0 2019-06-25 13:27:00      2019-06-25 07:27:00   \n",
       "4    normal            25.0 2019-06-25 12:13:00      2019-06-25 06:56:00   \n",
       "\n",
       "  IsCartOrder OrderFromPromotionalEvent isRTO  \n",
       "0          No                       Yes    No  \n",
       "1          No                       Yes    No  \n",
       "2          No                       Yes   Yes  \n",
       "3         Yes                        No    No  \n",
       "4          No                       Yes    No  "
      ]
     },
     "execution_count": 93,
     "metadata": {},
     "output_type": "execute_result"
    }
   ],
   "source": [
    "data['OrderPlacedDay'] = pd.to_datetime(data['OrderPlacedDay'] )\n",
    "data['OrderConfirmDayOverPhone'] = pd.to_datetime(data['OrderConfirmDayOverPhone'] )\n",
    "data.head()"
   ]
  },
  {
   "cell_type": "code",
   "execution_count": 94,
   "metadata": {
    "scrolled": true
   },
   "outputs": [
    {
     "data": {
      "text/html": [
       "<div>\n",
       "<style scoped>\n",
       "    .dataframe tbody tr th:only-of-type {\n",
       "        vertical-align: middle;\n",
       "    }\n",
       "\n",
       "    .dataframe tbody tr th {\n",
       "        vertical-align: top;\n",
       "    }\n",
       "\n",
       "    .dataframe thead th {\n",
       "        text-align: right;\n",
       "    }\n",
       "</style>\n",
       "<table border=\"1\" class=\"dataframe\">\n",
       "  <thead>\n",
       "    <tr style=\"text-align: right;\">\n",
       "      <th></th>\n",
       "      <th>OrderId</th>\n",
       "      <th>UserId</th>\n",
       "      <th>OrderValue</th>\n",
       "      <th>PaymentType</th>\n",
       "      <th>District</th>\n",
       "      <th>OrderSource</th>\n",
       "      <th>OrderType</th>\n",
       "      <th>DeliveryCharge</th>\n",
       "      <th>OrderPlacedDay</th>\n",
       "      <th>OrderConfirmDayOverPhone</th>\n",
       "      <th>IsCartOrder</th>\n",
       "      <th>OrderFromPromotionalEvent</th>\n",
       "      <th>isRTO</th>\n",
       "      <th>DelayConfirmation</th>\n",
       "    </tr>\n",
       "  </thead>\n",
       "  <tbody>\n",
       "    <tr>\n",
       "      <th>0</th>\n",
       "      <td>2562691</td>\n",
       "      <td>663791</td>\n",
       "      <td>168</td>\n",
       "      <td>MPD</td>\n",
       "      <td>Dhaka</td>\n",
       "      <td>android</td>\n",
       "      <td>normal</td>\n",
       "      <td>25.0</td>\n",
       "      <td>2019-06-26 09:20:00</td>\n",
       "      <td>2019-06-26 03:30:00</td>\n",
       "      <td>No</td>\n",
       "      <td>Yes</td>\n",
       "      <td>No</td>\n",
       "      <td>0 days</td>\n",
       "    </tr>\n",
       "    <tr>\n",
       "      <th>1</th>\n",
       "      <td>2561859</td>\n",
       "      <td>961083</td>\n",
       "      <td>240</td>\n",
       "      <td>MPD</td>\n",
       "      <td>Dhaka</td>\n",
       "      <td>mobile-site</td>\n",
       "      <td>normal</td>\n",
       "      <td>35.0</td>\n",
       "      <td>2019-06-25 19:05:00</td>\n",
       "      <td>2019-06-25 13:40:00</td>\n",
       "      <td>No</td>\n",
       "      <td>Yes</td>\n",
       "      <td>No</td>\n",
       "      <td>0 days</td>\n",
       "    </tr>\n",
       "    <tr>\n",
       "      <th>2</th>\n",
       "      <td>2561434</td>\n",
       "      <td>848517</td>\n",
       "      <td>120</td>\n",
       "      <td>MPD</td>\n",
       "      <td>Dhaka</td>\n",
       "      <td>desktop</td>\n",
       "      <td>normal</td>\n",
       "      <td>35.0</td>\n",
       "      <td>2019-06-25 15:28:00</td>\n",
       "      <td>2019-06-25 09:27:00</td>\n",
       "      <td>No</td>\n",
       "      <td>Yes</td>\n",
       "      <td>Yes</td>\n",
       "      <td>0 days</td>\n",
       "    </tr>\n",
       "    <tr>\n",
       "      <th>3</th>\n",
       "      <td>2561202</td>\n",
       "      <td>276304</td>\n",
       "      <td>185</td>\n",
       "      <td>MPD</td>\n",
       "      <td>Dhaka</td>\n",
       "      <td>android</td>\n",
       "      <td>normal</td>\n",
       "      <td>25.0</td>\n",
       "      <td>2019-06-25 13:27:00</td>\n",
       "      <td>2019-06-25 07:27:00</td>\n",
       "      <td>Yes</td>\n",
       "      <td>No</td>\n",
       "      <td>No</td>\n",
       "      <td>0 days</td>\n",
       "    </tr>\n",
       "    <tr>\n",
       "      <th>4</th>\n",
       "      <td>2561033</td>\n",
       "      <td>955384</td>\n",
       "      <td>201</td>\n",
       "      <td>MPD</td>\n",
       "      <td>Dhaka</td>\n",
       "      <td>android</td>\n",
       "      <td>normal</td>\n",
       "      <td>25.0</td>\n",
       "      <td>2019-06-25 12:13:00</td>\n",
       "      <td>2019-06-25 06:56:00</td>\n",
       "      <td>No</td>\n",
       "      <td>Yes</td>\n",
       "      <td>No</td>\n",
       "      <td>0 days</td>\n",
       "    </tr>\n",
       "  </tbody>\n",
       "</table>\n",
       "</div>"
      ],
      "text/plain": [
       "   OrderId  UserId  OrderValue           PaymentType District  OrderSource  \\\n",
       "0  2562691  663791         168  MPD                     Dhaka      android   \n",
       "1  2561859  961083         240  MPD                     Dhaka  mobile-site   \n",
       "2  2561434  848517         120  MPD                     Dhaka      desktop   \n",
       "3  2561202  276304         185  MPD                     Dhaka      android   \n",
       "4  2561033  955384         201  MPD                     Dhaka      android   \n",
       "\n",
       "  OrderType  DeliveryCharge      OrderPlacedDay OrderConfirmDayOverPhone  \\\n",
       "0    normal            25.0 2019-06-26 09:20:00      2019-06-26 03:30:00   \n",
       "1    normal            35.0 2019-06-25 19:05:00      2019-06-25 13:40:00   \n",
       "2    normal            35.0 2019-06-25 15:28:00      2019-06-25 09:27:00   \n",
       "3    normal            25.0 2019-06-25 13:27:00      2019-06-25 07:27:00   \n",
       "4    normal            25.0 2019-06-25 12:13:00      2019-06-25 06:56:00   \n",
       "\n",
       "  IsCartOrder OrderFromPromotionalEvent isRTO DelayConfirmation  \n",
       "0          No                       Yes    No            0 days  \n",
       "1          No                       Yes    No            0 days  \n",
       "2          No                       Yes   Yes            0 days  \n",
       "3         Yes                        No    No            0 days  \n",
       "4          No                       Yes    No            0 days  "
      ]
     },
     "execution_count": 94,
     "metadata": {},
     "output_type": "execute_result"
    }
   ],
   "source": [
    "data['DelayConfirmation'] =data['OrderConfirmDayOverPhone'].dt.date - data['OrderPlacedDay'].dt.date\n",
    "data.head()"
   ]
  },
  {
   "cell_type": "code",
   "execution_count": 95,
   "metadata": {},
   "outputs": [
    {
     "data": {
      "text/plain": [
       "OrderId                                int64\n",
       "UserId                                 int64\n",
       "OrderValue                             int64\n",
       "PaymentType                           object\n",
       "District                              object\n",
       "OrderSource                           object\n",
       "OrderType                             object\n",
       "DeliveryCharge                       float64\n",
       "OrderPlacedDay                datetime64[ns]\n",
       "OrderConfirmDayOverPhone      datetime64[ns]\n",
       "IsCartOrder                           object\n",
       "OrderFromPromotionalEvent             object\n",
       "isRTO                                 object\n",
       "DelayConfirmation            timedelta64[ns]\n",
       "dtype: object"
      ]
     },
     "execution_count": 95,
     "metadata": {},
     "output_type": "execute_result"
    }
   ],
   "source": [
    "data.dtypes"
   ]
  },
  {
   "cell_type": "code",
   "execution_count": 96,
   "metadata": {},
   "outputs": [
    {
     "data": {
      "text/html": [
       "<div>\n",
       "<style scoped>\n",
       "    .dataframe tbody tr th:only-of-type {\n",
       "        vertical-align: middle;\n",
       "    }\n",
       "\n",
       "    .dataframe tbody tr th {\n",
       "        vertical-align: top;\n",
       "    }\n",
       "\n",
       "    .dataframe thead th {\n",
       "        text-align: right;\n",
       "    }\n",
       "</style>\n",
       "<table border=\"1\" class=\"dataframe\">\n",
       "  <thead>\n",
       "    <tr style=\"text-align: right;\">\n",
       "      <th></th>\n",
       "      <th>OrderId</th>\n",
       "      <th>UserId</th>\n",
       "      <th>OrderValue</th>\n",
       "      <th>PaymentType</th>\n",
       "      <th>District</th>\n",
       "      <th>OrderSource</th>\n",
       "      <th>OrderType</th>\n",
       "      <th>DeliveryCharge</th>\n",
       "      <th>OrderPlacedDay</th>\n",
       "      <th>OrderConfirmDayOverPhone</th>\n",
       "      <th>IsCartOrder</th>\n",
       "      <th>OrderFromPromotionalEvent</th>\n",
       "      <th>isRTO</th>\n",
       "      <th>DelayConfirmation</th>\n",
       "    </tr>\n",
       "  </thead>\n",
       "  <tbody>\n",
       "    <tr>\n",
       "      <th>0</th>\n",
       "      <td>2562691</td>\n",
       "      <td>663791</td>\n",
       "      <td>168</td>\n",
       "      <td>MPD</td>\n",
       "      <td>Dhaka</td>\n",
       "      <td>android</td>\n",
       "      <td>normal</td>\n",
       "      <td>25.0</td>\n",
       "      <td>2019-06-26 09:20:00</td>\n",
       "      <td>2019-06-26 03:30:00</td>\n",
       "      <td>No</td>\n",
       "      <td>Yes</td>\n",
       "      <td>No</td>\n",
       "      <td>0</td>\n",
       "    </tr>\n",
       "    <tr>\n",
       "      <th>1</th>\n",
       "      <td>2561859</td>\n",
       "      <td>961083</td>\n",
       "      <td>240</td>\n",
       "      <td>MPD</td>\n",
       "      <td>Dhaka</td>\n",
       "      <td>mobile-site</td>\n",
       "      <td>normal</td>\n",
       "      <td>35.0</td>\n",
       "      <td>2019-06-25 19:05:00</td>\n",
       "      <td>2019-06-25 13:40:00</td>\n",
       "      <td>No</td>\n",
       "      <td>Yes</td>\n",
       "      <td>No</td>\n",
       "      <td>0</td>\n",
       "    </tr>\n",
       "    <tr>\n",
       "      <th>2</th>\n",
       "      <td>2561434</td>\n",
       "      <td>848517</td>\n",
       "      <td>120</td>\n",
       "      <td>MPD</td>\n",
       "      <td>Dhaka</td>\n",
       "      <td>desktop</td>\n",
       "      <td>normal</td>\n",
       "      <td>35.0</td>\n",
       "      <td>2019-06-25 15:28:00</td>\n",
       "      <td>2019-06-25 09:27:00</td>\n",
       "      <td>No</td>\n",
       "      <td>Yes</td>\n",
       "      <td>Yes</td>\n",
       "      <td>0</td>\n",
       "    </tr>\n",
       "    <tr>\n",
       "      <th>3</th>\n",
       "      <td>2561202</td>\n",
       "      <td>276304</td>\n",
       "      <td>185</td>\n",
       "      <td>MPD</td>\n",
       "      <td>Dhaka</td>\n",
       "      <td>android</td>\n",
       "      <td>normal</td>\n",
       "      <td>25.0</td>\n",
       "      <td>2019-06-25 13:27:00</td>\n",
       "      <td>2019-06-25 07:27:00</td>\n",
       "      <td>Yes</td>\n",
       "      <td>No</td>\n",
       "      <td>No</td>\n",
       "      <td>0</td>\n",
       "    </tr>\n",
       "    <tr>\n",
       "      <th>4</th>\n",
       "      <td>2561033</td>\n",
       "      <td>955384</td>\n",
       "      <td>201</td>\n",
       "      <td>MPD</td>\n",
       "      <td>Dhaka</td>\n",
       "      <td>android</td>\n",
       "      <td>normal</td>\n",
       "      <td>25.0</td>\n",
       "      <td>2019-06-25 12:13:00</td>\n",
       "      <td>2019-06-25 06:56:00</td>\n",
       "      <td>No</td>\n",
       "      <td>Yes</td>\n",
       "      <td>No</td>\n",
       "      <td>0</td>\n",
       "    </tr>\n",
       "  </tbody>\n",
       "</table>\n",
       "</div>"
      ],
      "text/plain": [
       "   OrderId  UserId  OrderValue           PaymentType District  OrderSource  \\\n",
       "0  2562691  663791         168  MPD                     Dhaka      android   \n",
       "1  2561859  961083         240  MPD                     Dhaka  mobile-site   \n",
       "2  2561434  848517         120  MPD                     Dhaka      desktop   \n",
       "3  2561202  276304         185  MPD                     Dhaka      android   \n",
       "4  2561033  955384         201  MPD                     Dhaka      android   \n",
       "\n",
       "  OrderType  DeliveryCharge      OrderPlacedDay OrderConfirmDayOverPhone  \\\n",
       "0    normal            25.0 2019-06-26 09:20:00      2019-06-26 03:30:00   \n",
       "1    normal            35.0 2019-06-25 19:05:00      2019-06-25 13:40:00   \n",
       "2    normal            35.0 2019-06-25 15:28:00      2019-06-25 09:27:00   \n",
       "3    normal            25.0 2019-06-25 13:27:00      2019-06-25 07:27:00   \n",
       "4    normal            25.0 2019-06-25 12:13:00      2019-06-25 06:56:00   \n",
       "\n",
       "  IsCartOrder OrderFromPromotionalEvent isRTO DelayConfirmation  \n",
       "0          No                       Yes    No                 0  \n",
       "1          No                       Yes    No                 0  \n",
       "2          No                       Yes   Yes                 0  \n",
       "3         Yes                        No    No                 0  \n",
       "4          No                       Yes    No                 0  "
      ]
     },
     "execution_count": 96,
     "metadata": {},
     "output_type": "execute_result"
    }
   ],
   "source": [
    "for ind in data.index:\n",
    "    data['DelayConfirmation'][ind] = str(data['DelayConfirmation'][ind]).replace('00:00:00','').replace(\"days\",'')\n",
    "    data['DelayConfirmation'][ind] = int(data['DelayConfirmation'][ind])\n",
    "data.head()"
   ]
  },
  {
   "cell_type": "code",
   "execution_count": 97,
   "metadata": {},
   "outputs": [
    {
     "data": {
      "text/plain": [
       "OrderId                               int64\n",
       "UserId                                int64\n",
       "OrderValue                            int64\n",
       "PaymentType                          object\n",
       "District                             object\n",
       "OrderSource                          object\n",
       "OrderType                            object\n",
       "DeliveryCharge                      float64\n",
       "OrderPlacedDay               datetime64[ns]\n",
       "OrderConfirmDayOverPhone     datetime64[ns]\n",
       "IsCartOrder                          object\n",
       "OrderFromPromotionalEvent            object\n",
       "isRTO                                object\n",
       "DelayConfirmation                    object\n",
       "dtype: object"
      ]
     },
     "execution_count": 97,
     "metadata": {},
     "output_type": "execute_result"
    }
   ],
   "source": [
    "data.dtypes"
   ]
  },
  {
   "cell_type": "code",
   "execution_count": 98,
   "metadata": {
    "scrolled": true
   },
   "outputs": [
    {
     "data": {
      "text/html": [
       "<div>\n",
       "<style scoped>\n",
       "    .dataframe tbody tr th:only-of-type {\n",
       "        vertical-align: middle;\n",
       "    }\n",
       "\n",
       "    .dataframe tbody tr th {\n",
       "        vertical-align: top;\n",
       "    }\n",
       "\n",
       "    .dataframe thead th {\n",
       "        text-align: right;\n",
       "    }\n",
       "</style>\n",
       "<table border=\"1\" class=\"dataframe\">\n",
       "  <thead>\n",
       "    <tr style=\"text-align: right;\">\n",
       "      <th></th>\n",
       "      <th>OrderId</th>\n",
       "      <th>UserId</th>\n",
       "      <th>OrderValue</th>\n",
       "      <th>PaymentType</th>\n",
       "      <th>District</th>\n",
       "      <th>OrderSource</th>\n",
       "      <th>OrderType</th>\n",
       "      <th>DeliveryCharge</th>\n",
       "      <th>IsCartOrder</th>\n",
       "      <th>OrderFromPromotionalEvent</th>\n",
       "      <th>isRTO</th>\n",
       "      <th>DelayConfirmation</th>\n",
       "    </tr>\n",
       "  </thead>\n",
       "  <tbody>\n",
       "    <tr>\n",
       "      <th>0</th>\n",
       "      <td>2562691</td>\n",
       "      <td>663791</td>\n",
       "      <td>168.0</td>\n",
       "      <td>4</td>\n",
       "      <td>14</td>\n",
       "      <td>4</td>\n",
       "      <td>1</td>\n",
       "      <td>25.0</td>\n",
       "      <td>0</td>\n",
       "      <td>1</td>\n",
       "      <td>0</td>\n",
       "      <td>0</td>\n",
       "    </tr>\n",
       "    <tr>\n",
       "      <th>1</th>\n",
       "      <td>2561859</td>\n",
       "      <td>961083</td>\n",
       "      <td>240.0</td>\n",
       "      <td>4</td>\n",
       "      <td>14</td>\n",
       "      <td>7</td>\n",
       "      <td>1</td>\n",
       "      <td>35.0</td>\n",
       "      <td>0</td>\n",
       "      <td>1</td>\n",
       "      <td>0</td>\n",
       "      <td>0</td>\n",
       "    </tr>\n",
       "  </tbody>\n",
       "</table>\n",
       "</div>"
      ],
      "text/plain": [
       "   OrderId  UserId  OrderValue  PaymentType  District  OrderSource  OrderType  \\\n",
       "0  2562691  663791       168.0            4        14            4          1   \n",
       "1  2561859  961083       240.0            4        14            7          1   \n",
       "\n",
       "   DeliveryCharge  IsCartOrder  OrderFromPromotionalEvent  isRTO  \\\n",
       "0            25.0            0                          1      0   \n",
       "1            35.0            0                          1      0   \n",
       "\n",
       "  DelayConfirmation  \n",
       "0                 0  \n",
       "1                 0  "
      ]
     },
     "execution_count": 98,
     "metadata": {},
     "output_type": "execute_result"
    }
   ],
   "source": [
    "df['DelayConfirmation'] = data['DelayConfirmation']\n",
    "df.head(2)"
   ]
  },
  {
   "cell_type": "code",
   "execution_count": 99,
   "metadata": {},
   "outputs": [
    {
     "data": {
      "text/html": [
       "<div>\n",
       "<style scoped>\n",
       "    .dataframe tbody tr th:only-of-type {\n",
       "        vertical-align: middle;\n",
       "    }\n",
       "\n",
       "    .dataframe tbody tr th {\n",
       "        vertical-align: top;\n",
       "    }\n",
       "\n",
       "    .dataframe thead th {\n",
       "        text-align: right;\n",
       "    }\n",
       "</style>\n",
       "<table border=\"1\" class=\"dataframe\">\n",
       "  <thead>\n",
       "    <tr style=\"text-align: right;\">\n",
       "      <th></th>\n",
       "      <th>OrderId</th>\n",
       "      <th>UserId</th>\n",
       "      <th>OrderValue</th>\n",
       "      <th>PaymentType</th>\n",
       "      <th>District</th>\n",
       "      <th>OrderSource</th>\n",
       "      <th>OrderType</th>\n",
       "      <th>DeliveryCharge</th>\n",
       "      <th>OrderPlacedDay</th>\n",
       "      <th>OrderConfirmDayOverPhone</th>\n",
       "      <th>IsCartOrder</th>\n",
       "      <th>OrderFromPromotionalEvent</th>\n",
       "      <th>isRTO</th>\n",
       "      <th>DelayConfirmation</th>\n",
       "    </tr>\n",
       "  </thead>\n",
       "  <tbody>\n",
       "    <tr>\n",
       "      <th>0</th>\n",
       "      <td>2562691</td>\n",
       "      <td>663791</td>\n",
       "      <td>168</td>\n",
       "      <td>MPD</td>\n",
       "      <td>Dhaka</td>\n",
       "      <td>android</td>\n",
       "      <td>normal</td>\n",
       "      <td>25.0</td>\n",
       "      <td>2019-06-26 09:20:00</td>\n",
       "      <td>2019-06-26 03:30:00</td>\n",
       "      <td>No</td>\n",
       "      <td>Yes</td>\n",
       "      <td>No</td>\n",
       "      <td>0</td>\n",
       "    </tr>\n",
       "    <tr>\n",
       "      <th>1</th>\n",
       "      <td>2561859</td>\n",
       "      <td>961083</td>\n",
       "      <td>240</td>\n",
       "      <td>MPD</td>\n",
       "      <td>Dhaka</td>\n",
       "      <td>mobile-site</td>\n",
       "      <td>normal</td>\n",
       "      <td>35.0</td>\n",
       "      <td>2019-06-25 19:05:00</td>\n",
       "      <td>2019-06-25 13:40:00</td>\n",
       "      <td>No</td>\n",
       "      <td>Yes</td>\n",
       "      <td>No</td>\n",
       "      <td>0</td>\n",
       "    </tr>\n",
       "  </tbody>\n",
       "</table>\n",
       "</div>"
      ],
      "text/plain": [
       "   OrderId  UserId  OrderValue           PaymentType District  OrderSource  \\\n",
       "0  2562691  663791         168  MPD                     Dhaka      android   \n",
       "1  2561859  961083         240  MPD                     Dhaka  mobile-site   \n",
       "\n",
       "  OrderType  DeliveryCharge      OrderPlacedDay OrderConfirmDayOverPhone  \\\n",
       "0    normal            25.0 2019-06-26 09:20:00      2019-06-26 03:30:00   \n",
       "1    normal            35.0 2019-06-25 19:05:00      2019-06-25 13:40:00   \n",
       "\n",
       "  IsCartOrder OrderFromPromotionalEvent isRTO DelayConfirmation  \n",
       "0          No                       Yes    No                 0  \n",
       "1          No                       Yes    No                 0  "
      ]
     },
     "execution_count": 99,
     "metadata": {},
     "output_type": "execute_result"
    }
   ],
   "source": [
    "data.head(2)"
   ]
  },
  {
   "cell_type": "code",
   "execution_count": 100,
   "metadata": {},
   "outputs": [],
   "source": [
    "df['OrderDate'] = data.OrderPlacedDay.dt.dayofweek\n",
    "df['ConfirmDate'] = data.OrderConfirmDayOverPhone.dt.dayofweek"
   ]
  },
  {
   "cell_type": "code",
   "execution_count": 101,
   "metadata": {},
   "outputs": [
    {
     "data": {
      "text/html": [
       "<div>\n",
       "<style scoped>\n",
       "    .dataframe tbody tr th:only-of-type {\n",
       "        vertical-align: middle;\n",
       "    }\n",
       "\n",
       "    .dataframe tbody tr th {\n",
       "        vertical-align: top;\n",
       "    }\n",
       "\n",
       "    .dataframe thead th {\n",
       "        text-align: right;\n",
       "    }\n",
       "</style>\n",
       "<table border=\"1\" class=\"dataframe\">\n",
       "  <thead>\n",
       "    <tr style=\"text-align: right;\">\n",
       "      <th></th>\n",
       "      <th>OrderId</th>\n",
       "      <th>UserId</th>\n",
       "      <th>OrderValue</th>\n",
       "      <th>PaymentType</th>\n",
       "      <th>District</th>\n",
       "      <th>OrderSource</th>\n",
       "      <th>OrderType</th>\n",
       "      <th>DeliveryCharge</th>\n",
       "      <th>IsCartOrder</th>\n",
       "      <th>OrderFromPromotionalEvent</th>\n",
       "      <th>isRTO</th>\n",
       "      <th>DelayConfirmation</th>\n",
       "      <th>OrderDate</th>\n",
       "      <th>ConfirmDate</th>\n",
       "    </tr>\n",
       "  </thead>\n",
       "  <tbody>\n",
       "    <tr>\n",
       "      <th>0</th>\n",
       "      <td>2562691</td>\n",
       "      <td>663791</td>\n",
       "      <td>168.0</td>\n",
       "      <td>4</td>\n",
       "      <td>14</td>\n",
       "      <td>4</td>\n",
       "      <td>1</td>\n",
       "      <td>25.0</td>\n",
       "      <td>0</td>\n",
       "      <td>1</td>\n",
       "      <td>0</td>\n",
       "      <td>0</td>\n",
       "      <td>2</td>\n",
       "      <td>2</td>\n",
       "    </tr>\n",
       "    <tr>\n",
       "      <th>1</th>\n",
       "      <td>2561859</td>\n",
       "      <td>961083</td>\n",
       "      <td>240.0</td>\n",
       "      <td>4</td>\n",
       "      <td>14</td>\n",
       "      <td>7</td>\n",
       "      <td>1</td>\n",
       "      <td>35.0</td>\n",
       "      <td>0</td>\n",
       "      <td>1</td>\n",
       "      <td>0</td>\n",
       "      <td>0</td>\n",
       "      <td>1</td>\n",
       "      <td>1</td>\n",
       "    </tr>\n",
       "  </tbody>\n",
       "</table>\n",
       "</div>"
      ],
      "text/plain": [
       "   OrderId  UserId  OrderValue  PaymentType  District  OrderSource  OrderType  \\\n",
       "0  2562691  663791       168.0            4        14            4          1   \n",
       "1  2561859  961083       240.0            4        14            7          1   \n",
       "\n",
       "   DeliveryCharge  IsCartOrder  OrderFromPromotionalEvent  isRTO  \\\n",
       "0            25.0            0                          1      0   \n",
       "1            35.0            0                          1      0   \n",
       "\n",
       "  DelayConfirmation  OrderDate  ConfirmDate  \n",
       "0                 0          2            2  \n",
       "1                 0          1            1  "
      ]
     },
     "execution_count": 101,
     "metadata": {},
     "output_type": "execute_result"
    }
   ],
   "source": [
    "df.head(2)"
   ]
  },
  {
   "cell_type": "code",
   "execution_count": 102,
   "metadata": {},
   "outputs": [
    {
     "data": {
      "text/html": [
       "<div>\n",
       "<style scoped>\n",
       "    .dataframe tbody tr th:only-of-type {\n",
       "        vertical-align: middle;\n",
       "    }\n",
       "\n",
       "    .dataframe tbody tr th {\n",
       "        vertical-align: top;\n",
       "    }\n",
       "\n",
       "    .dataframe thead th {\n",
       "        text-align: right;\n",
       "    }\n",
       "</style>\n",
       "<table border=\"1\" class=\"dataframe\">\n",
       "  <thead>\n",
       "    <tr style=\"text-align: right;\">\n",
       "      <th></th>\n",
       "      <th>OrderId</th>\n",
       "      <th>UserId</th>\n",
       "      <th>OrderValue</th>\n",
       "      <th>PaymentType</th>\n",
       "      <th>District</th>\n",
       "      <th>OrderSource</th>\n",
       "      <th>OrderType</th>\n",
       "      <th>DeliveryCharge</th>\n",
       "      <th>IsCartOrder</th>\n",
       "      <th>OrderFromPromotionalEvent</th>\n",
       "      <th>isRTO</th>\n",
       "      <th>DelayConfirmation</th>\n",
       "      <th>OrderDate</th>\n",
       "      <th>ConfirmDate</th>\n",
       "    </tr>\n",
       "  </thead>\n",
       "  <tbody>\n",
       "    <tr>\n",
       "      <th>0</th>\n",
       "      <td>2562691</td>\n",
       "      <td>663791</td>\n",
       "      <td>168.0</td>\n",
       "      <td>4</td>\n",
       "      <td>14</td>\n",
       "      <td>4</td>\n",
       "      <td>1</td>\n",
       "      <td>25.0</td>\n",
       "      <td>0</td>\n",
       "      <td>1</td>\n",
       "      <td>0</td>\n",
       "      <td>0</td>\n",
       "      <td>2</td>\n",
       "      <td>2</td>\n",
       "    </tr>\n",
       "    <tr>\n",
       "      <th>1</th>\n",
       "      <td>2561859</td>\n",
       "      <td>961083</td>\n",
       "      <td>240.0</td>\n",
       "      <td>4</td>\n",
       "      <td>14</td>\n",
       "      <td>7</td>\n",
       "      <td>1</td>\n",
       "      <td>35.0</td>\n",
       "      <td>0</td>\n",
       "      <td>1</td>\n",
       "      <td>0</td>\n",
       "      <td>0</td>\n",
       "      <td>1</td>\n",
       "      <td>1</td>\n",
       "    </tr>\n",
       "  </tbody>\n",
       "</table>\n",
       "</div>"
      ],
      "text/plain": [
       "   OrderId  UserId  OrderValue  PaymentType  District  OrderSource  OrderType  \\\n",
       "0  2562691  663791       168.0            4        14            4          1   \n",
       "1  2561859  961083       240.0            4        14            7          1   \n",
       "\n",
       "   DeliveryCharge  IsCartOrder  OrderFromPromotionalEvent  isRTO  \\\n",
       "0            25.0            0                          1      0   \n",
       "1            35.0            0                          1      0   \n",
       "\n",
       "   DelayConfirmation  OrderDate  ConfirmDate  \n",
       "0                  0          2            2  \n",
       "1                  0          1            1  "
      ]
     },
     "execution_count": 102,
     "metadata": {},
     "output_type": "execute_result"
    }
   ],
   "source": [
    "df['DelayConfirmation'] = df['DelayConfirmation'].astype('int64')\n",
    "df.head(2)"
   ]
  },
  {
   "cell_type": "code",
   "execution_count": 103,
   "metadata": {},
   "outputs": [],
   "source": [
    "data['DelayConfirmation'] = df['DelayConfirmation']"
   ]
  },
  {
   "cell_type": "code",
   "execution_count": null,
   "metadata": {},
   "outputs": [],
   "source": []
  },
  {
   "cell_type": "code",
   "execution_count": 104,
   "metadata": {},
   "outputs": [
    {
     "name": "stdout",
     "output_type": "stream",
     "text": [
      "Training datset: (6000, 13),\n",
      "Validation Dataset: (2000, 13),\n",
      "Test Dataset: (2000, 13),\n",
      "\n"
     ]
    }
   ],
   "source": [
    "from sklearn.model_selection import train_test_split\n",
    "\n",
    "X = df.loc[:, df.columns!='isRTO']\n",
    "y = df.loc[:, df.columns=='isRTO']\n",
    "\n",
    "X_train, X_test, y_train, y_test = train_test_split(X, y, test_size=0.2, shuffle=True, random_state=123)\n",
    "X_train, X_val, y_train, y_val = train_test_split(X_train, y_train, test_size=0.25, shuffle=True, random_state=123)\n",
    "\n",
    "print(\"\"\"Training datset: {},\n",
    "Validation Dataset: {},\n",
    "Test Dataset: {},\n",
    "\"\"\".format(X_train.shape, X_val.shape, X_test.shape))"
   ]
  },
  {
   "cell_type": "code",
   "execution_count": 105,
   "metadata": {},
   "outputs": [
    {
     "name": "stdout",
     "output_type": "stream",
     "text": [
      "Model 1 Validation Accuracy: 0.859\n",
      "Model 1 Test Accuracy: 0.859\n"
     ]
    }
   ],
   "source": [
    "model1 =LogisticRegression().fit(X_train, y_train)\n",
    "\n",
    "model1_yval = model1.predict(X_val)\n",
    "model1_ytest = model1.predict(X_test)\n",
    "\n",
    "acc1_val = accuracy_score(y_test, model1_yval)\n",
    "acc1_test = accuracy_score(y_test, model1_ytest)\n",
    "\n",
    "print(\"Model 1 Validation Accuracy: {}\".format(acc1_val))\n",
    "print(\"Model 1 Test Accuracy: {}\".format(acc1_test))"
   ]
  },
  {
   "cell_type": "code",
   "execution_count": 106,
   "metadata": {
    "scrolled": true
   },
   "outputs": [],
   "source": [
    "import xgboost as xgb\n",
    "xgb_model = xgb.XGBClassifier()\n",
    "from sklearn.model_selection import RandomizedSearchCV"
   ]
  },
  {
   "cell_type": "code",
   "execution_count": 107,
   "metadata": {},
   "outputs": [
    {
     "data": {
      "text/plain": [
       "XGBClassifier(base_score=0.5, booster='gbtree', colsample_bylevel=1,\n",
       "              colsample_bynode=1, colsample_bytree=1, gamma=0, gpu_id=-1,\n",
       "              importance_type='gain', interaction_constraints='',\n",
       "              learning_rate=0.05, max_delta_step=0, max_depth=10,\n",
       "              min_child_weight=1, missing=nan, monotone_constraints='()',\n",
       "              n_estimators=200, n_jobs=0, num_parallel_tree=1, random_state=0,\n",
       "              reg_alpha=0, reg_lambda=1, scale_pos_weight=1, subsample=1,\n",
       "              tree_method='exact', validate_parameters=1, verbosity=None)"
      ]
     },
     "execution_count": 107,
     "metadata": {},
     "output_type": "execute_result"
    }
   ],
   "source": [
    "param_dist = {\"max_depth\": [10,30,50],\n",
    "              \"min_child_weight\": [1,3,6],\n",
    "              \"n_estimators\": [200],\n",
    "              \"learning_rate\": [0.05, 0.1,0.16]}\n",
    "\n",
    "rand_search = RandomizedSearchCV(xgb_model, \n",
    "                                 param_distributions=param_dist, \n",
    "                                 cv = 5, \n",
    "                                 n_jobs=-1)\n",
    "\n",
    "rand_search.fit(X_train, y_train)\n",
    "\n",
    "rand_search.best_estimator_"
   ]
  },
  {
   "cell_type": "code",
   "execution_count": 108,
   "metadata": {},
   "outputs": [
    {
     "name": "stdout",
     "output_type": "stream",
     "text": [
      "XGB Accuracy: 0.848\n"
     ]
    }
   ],
   "source": [
    "xgb_model = xgb.XGBClassifier(base_score=0.5, booster='gbtree', colsample_bylevel=1,\n",
    "              colsample_bynode=1, colsample_bytree=1, gamma=0, gpu_id=-1,\n",
    "              importance_type='gain', interaction_constraints='',\n",
    "              learning_rate=0.05, max_delta_step=0, max_depth=10,\n",
    "              min_child_weight=3, monotone_constraints='()',\n",
    "              n_estimators=200, n_jobs=0, num_parallel_tree=1, random_state=0,\n",
    "              reg_alpha=0, reg_lambda=1, scale_pos_weight=1, subsample=1,\n",
    "              tree_method='exact', validate_parameters=1, verbosity=None)\n",
    "\n",
    "xgb_model.fit(X_train, y_train)\n",
    "\n",
    "xgb_pred = xgb_model.predict(X_test)\n",
    "\n",
    "print(\"XGB Accuracy:\", accuracy_score(y_test, xgb_pred))"
   ]
  },
  {
   "cell_type": "code",
   "execution_count": 109,
   "metadata": {},
   "outputs": [
    {
     "data": {
      "text/html": [
       "<div>\n",
       "<style scoped>\n",
       "    .dataframe tbody tr th:only-of-type {\n",
       "        vertical-align: middle;\n",
       "    }\n",
       "\n",
       "    .dataframe tbody tr th {\n",
       "        vertical-align: top;\n",
       "    }\n",
       "\n",
       "    .dataframe thead th {\n",
       "        text-align: right;\n",
       "    }\n",
       "</style>\n",
       "<table border=\"1\" class=\"dataframe\">\n",
       "  <thead>\n",
       "    <tr style=\"text-align: right;\">\n",
       "      <th></th>\n",
       "      <th>OrderId</th>\n",
       "      <th>UserId</th>\n",
       "      <th>OrderValue</th>\n",
       "      <th>PaymentType</th>\n",
       "      <th>District</th>\n",
       "      <th>OrderSource</th>\n",
       "      <th>OrderType</th>\n",
       "      <th>DeliveryCharge</th>\n",
       "      <th>IsCartOrder</th>\n",
       "      <th>OrderFromPromotionalEvent</th>\n",
       "      <th>isRTO</th>\n",
       "      <th>DelayConfirmation</th>\n",
       "      <th>OrderDate</th>\n",
       "      <th>ConfirmDate</th>\n",
       "    </tr>\n",
       "  </thead>\n",
       "  <tbody>\n",
       "    <tr>\n",
       "      <th>0</th>\n",
       "      <td>2562691</td>\n",
       "      <td>663791</td>\n",
       "      <td>168.0</td>\n",
       "      <td>4</td>\n",
       "      <td>14</td>\n",
       "      <td>4</td>\n",
       "      <td>1</td>\n",
       "      <td>25.0</td>\n",
       "      <td>0</td>\n",
       "      <td>1</td>\n",
       "      <td>0</td>\n",
       "      <td>0</td>\n",
       "      <td>2</td>\n",
       "      <td>2</td>\n",
       "    </tr>\n",
       "    <tr>\n",
       "      <th>1</th>\n",
       "      <td>2561859</td>\n",
       "      <td>961083</td>\n",
       "      <td>240.0</td>\n",
       "      <td>4</td>\n",
       "      <td>14</td>\n",
       "      <td>7</td>\n",
       "      <td>1</td>\n",
       "      <td>35.0</td>\n",
       "      <td>0</td>\n",
       "      <td>1</td>\n",
       "      <td>0</td>\n",
       "      <td>0</td>\n",
       "      <td>1</td>\n",
       "      <td>1</td>\n",
       "    </tr>\n",
       "    <tr>\n",
       "      <th>2</th>\n",
       "      <td>2561434</td>\n",
       "      <td>848517</td>\n",
       "      <td>120.0</td>\n",
       "      <td>4</td>\n",
       "      <td>14</td>\n",
       "      <td>6</td>\n",
       "      <td>1</td>\n",
       "      <td>35.0</td>\n",
       "      <td>0</td>\n",
       "      <td>1</td>\n",
       "      <td>1</td>\n",
       "      <td>0</td>\n",
       "      <td>1</td>\n",
       "      <td>1</td>\n",
       "    </tr>\n",
       "  </tbody>\n",
       "</table>\n",
       "</div>"
      ],
      "text/plain": [
       "   OrderId  UserId  OrderValue  PaymentType  District  OrderSource  OrderType  \\\n",
       "0  2562691  663791       168.0            4        14            4          1   \n",
       "1  2561859  961083       240.0            4        14            7          1   \n",
       "2  2561434  848517       120.0            4        14            6          1   \n",
       "\n",
       "   DeliveryCharge  IsCartOrder  OrderFromPromotionalEvent  isRTO  \\\n",
       "0            25.0            0                          1      0   \n",
       "1            35.0            0                          1      0   \n",
       "2            35.0            0                          1      1   \n",
       "\n",
       "   DelayConfirmation  OrderDate  ConfirmDate  \n",
       "0                  0          2            2  \n",
       "1                  0          1            1  \n",
       "2                  0          1            1  "
      ]
     },
     "execution_count": 109,
     "metadata": {},
     "output_type": "execute_result"
    }
   ],
   "source": [
    "df.head(3)"
   ]
  },
  {
   "cell_type": "code",
   "execution_count": null,
   "metadata": {},
   "outputs": [],
   "source": [
    "del df['OrderId']\n",
    "del df['UserId']"
   ]
  },
  {
   "cell_type": "code",
   "execution_count": 132,
   "metadata": {},
   "outputs": [],
   "source": [
    "del df['OrderValue']"
   ]
  },
  {
   "cell_type": "code",
   "execution_count": 133,
   "metadata": {},
   "outputs": [
    {
     "data": {
      "text/html": [
       "<div>\n",
       "<style scoped>\n",
       "    .dataframe tbody tr th:only-of-type {\n",
       "        vertical-align: middle;\n",
       "    }\n",
       "\n",
       "    .dataframe tbody tr th {\n",
       "        vertical-align: top;\n",
       "    }\n",
       "\n",
       "    .dataframe thead th {\n",
       "        text-align: right;\n",
       "    }\n",
       "</style>\n",
       "<table border=\"1\" class=\"dataframe\">\n",
       "  <thead>\n",
       "    <tr style=\"text-align: right;\">\n",
       "      <th></th>\n",
       "      <th>PaymentType</th>\n",
       "      <th>District</th>\n",
       "      <th>OrderSource</th>\n",
       "      <th>OrderType</th>\n",
       "      <th>DeliveryCharge</th>\n",
       "      <th>IsCartOrder</th>\n",
       "      <th>OrderFromPromotionalEvent</th>\n",
       "      <th>isRTO</th>\n",
       "      <th>DelayConfirmation</th>\n",
       "      <th>OrderDate</th>\n",
       "      <th>ConfirmDate</th>\n",
       "    </tr>\n",
       "  </thead>\n",
       "  <tbody>\n",
       "    <tr>\n",
       "      <th>0</th>\n",
       "      <td>4</td>\n",
       "      <td>14</td>\n",
       "      <td>4</td>\n",
       "      <td>1</td>\n",
       "      <td>25.0</td>\n",
       "      <td>0</td>\n",
       "      <td>1</td>\n",
       "      <td>0</td>\n",
       "      <td>0</td>\n",
       "      <td>2</td>\n",
       "      <td>2</td>\n",
       "    </tr>\n",
       "  </tbody>\n",
       "</table>\n",
       "</div>"
      ],
      "text/plain": [
       "   PaymentType  District  OrderSource  OrderType  DeliveryCharge  IsCartOrder  \\\n",
       "0            4        14            4          1            25.0            0   \n",
       "\n",
       "   OrderFromPromotionalEvent  isRTO  DelayConfirmation  OrderDate  ConfirmDate  \n",
       "0                          1      0                  0          2            2  "
      ]
     },
     "execution_count": 133,
     "metadata": {},
     "output_type": "execute_result"
    }
   ],
   "source": [
    "df.head(1)"
   ]
  },
  {
   "cell_type": "code",
   "execution_count": 134,
   "metadata": {},
   "outputs": [
    {
     "name": "stdout",
     "output_type": "stream",
     "text": [
      "Training datset: (6000, 10),\n",
      "Validation Dataset: (2000, 10),\n",
      "Test Dataset: (2000, 10),\n",
      "\n"
     ]
    }
   ],
   "source": [
    "from sklearn.model_selection import train_test_split\n",
    "\n",
    "X = df.loc[:, df.columns!='isRTO']\n",
    "y = df.loc[:, df.columns=='isRTO']\n",
    "\n",
    "X_train, X_test, y_train, y_test = train_test_split(X, y, test_size=0.2, shuffle=True, random_state=123)\n",
    "X_train, X_val, y_train, y_val = train_test_split(X_train, y_train, test_size=0.25, shuffle=True, random_state=123)\n",
    "\n",
    "print(\"\"\"Training datset: {},\n",
    "Validation Dataset: {},\n",
    "Test Dataset: {},\n",
    "\"\"\".format(X_train.shape, X_val.shape, X_test.shape))"
   ]
  },
  {
   "cell_type": "code",
   "execution_count": 135,
   "metadata": {},
   "outputs": [
    {
     "name": "stdout",
     "output_type": "stream",
     "text": [
      "Model 1 Validation Accuracy: 0.859\n",
      "Model 1 Test Accuracy: 0.859\n"
     ]
    }
   ],
   "source": [
    "model1 =LogisticRegression().fit(X_train, y_train)\n",
    "\n",
    "model1_yval = model1.predict(X_val)\n",
    "model1_ytest = model1.predict(X_test)\n",
    "\n",
    "acc1_val = accuracy_score(y_test, model1_yval)\n",
    "acc1_test = accuracy_score(y_test, model1_ytest)\n",
    "\n",
    "print(\"Model 1 Validation Accuracy: {}\".format(acc1_val))\n",
    "print(\"Model 1 Test Accuracy: {}\".format(acc1_test))"
   ]
  },
  {
   "cell_type": "code",
   "execution_count": 136,
   "metadata": {
    "scrolled": false
   },
   "outputs": [
    {
     "data": {
      "text/html": [
       "<div>\n",
       "<style scoped>\n",
       "    .dataframe tbody tr th:only-of-type {\n",
       "        vertical-align: middle;\n",
       "    }\n",
       "\n",
       "    .dataframe tbody tr th {\n",
       "        vertical-align: top;\n",
       "    }\n",
       "\n",
       "    .dataframe thead th {\n",
       "        text-align: right;\n",
       "    }\n",
       "</style>\n",
       "<table border=\"1\" class=\"dataframe\">\n",
       "  <thead>\n",
       "    <tr style=\"text-align: right;\">\n",
       "      <th></th>\n",
       "      <th>PaymentType</th>\n",
       "      <th>District</th>\n",
       "      <th>OrderSource</th>\n",
       "      <th>OrderType</th>\n",
       "      <th>DeliveryCharge</th>\n",
       "      <th>IsCartOrder</th>\n",
       "      <th>OrderFromPromotionalEvent</th>\n",
       "      <th>DelayConfirmation</th>\n",
       "      <th>OrderDate</th>\n",
       "      <th>ConfirmDate</th>\n",
       "    </tr>\n",
       "  </thead>\n",
       "  <tbody>\n",
       "    <tr>\n",
       "      <th>8189</th>\n",
       "      <td>4</td>\n",
       "      <td>22</td>\n",
       "      <td>4</td>\n",
       "      <td>1</td>\n",
       "      <td>55.0</td>\n",
       "      <td>0</td>\n",
       "      <td>1</td>\n",
       "      <td>0</td>\n",
       "      <td>3</td>\n",
       "      <td>3</td>\n",
       "    </tr>\n",
       "    <tr>\n",
       "      <th>8845</th>\n",
       "      <td>5</td>\n",
       "      <td>11</td>\n",
       "      <td>4</td>\n",
       "      <td>0</td>\n",
       "      <td>0.0</td>\n",
       "      <td>1</td>\n",
       "      <td>0</td>\n",
       "      <td>0</td>\n",
       "      <td>0</td>\n",
       "      <td>0</td>\n",
       "    </tr>\n",
       "    <tr>\n",
       "      <th>1165</th>\n",
       "      <td>6</td>\n",
       "      <td>14</td>\n",
       "      <td>4</td>\n",
       "      <td>1</td>\n",
       "      <td>25.0</td>\n",
       "      <td>0</td>\n",
       "      <td>0</td>\n",
       "      <td>0</td>\n",
       "      <td>3</td>\n",
       "      <td>3</td>\n",
       "    </tr>\n",
       "    <tr>\n",
       "      <th>1742</th>\n",
       "      <td>6</td>\n",
       "      <td>7</td>\n",
       "      <td>4</td>\n",
       "      <td>1</td>\n",
       "      <td>25.0</td>\n",
       "      <td>1</td>\n",
       "      <td>1</td>\n",
       "      <td>0</td>\n",
       "      <td>2</td>\n",
       "      <td>2</td>\n",
       "    </tr>\n",
       "    <tr>\n",
       "      <th>1139</th>\n",
       "      <td>4</td>\n",
       "      <td>5</td>\n",
       "      <td>4</td>\n",
       "      <td>1</td>\n",
       "      <td>0.0</td>\n",
       "      <td>1</td>\n",
       "      <td>1</td>\n",
       "      <td>0</td>\n",
       "      <td>3</td>\n",
       "      <td>3</td>\n",
       "    </tr>\n",
       "  </tbody>\n",
       "</table>\n",
       "</div>"
      ],
      "text/plain": [
       "      PaymentType  District  OrderSource  OrderType  DeliveryCharge  \\\n",
       "8189            4        22            4          1            55.0   \n",
       "8845            5        11            4          0             0.0   \n",
       "1165            6        14            4          1            25.0   \n",
       "1742            6         7            4          1            25.0   \n",
       "1139            4         5            4          1             0.0   \n",
       "\n",
       "      IsCartOrder  OrderFromPromotionalEvent  DelayConfirmation  OrderDate  \\\n",
       "8189            0                          1                  0          3   \n",
       "8845            1                          0                  0          0   \n",
       "1165            0                          0                  0          3   \n",
       "1742            1                          1                  0          2   \n",
       "1139            1                          1                  0          3   \n",
       "\n",
       "      ConfirmDate  \n",
       "8189            3  \n",
       "8845            0  \n",
       "1165            3  \n",
       "1742            2  \n",
       "1139            3  "
      ]
     },
     "execution_count": 136,
     "metadata": {},
     "output_type": "execute_result"
    }
   ],
   "source": [
    "X_train.head()"
   ]
  },
  {
   "cell_type": "code",
   "execution_count": 137,
   "metadata": {},
   "outputs": [
    {
     "data": {
      "text/plain": [
       "array([[ 0.00455159, -0.00757727, -0.00696396,  0.0089041 , -0.00560274,\n",
       "        -0.19779243,  0.11383713,  0.03419216,  0.01396683, -0.02431018]])"
      ]
     },
     "execution_count": 137,
     "metadata": {},
     "output_type": "execute_result"
    }
   ],
   "source": [
    "model1.coef_"
   ]
  },
  {
   "cell_type": "code",
   "execution_count": 138,
   "metadata": {},
   "outputs": [
    {
     "name": "stdout",
     "output_type": "stream",
     "text": [
      "PaymentType                  0.004552\n",
      "District                    -0.007577\n",
      "OrderSource                 -0.006964\n",
      "OrderType                    0.008904\n",
      "DeliveryCharge              -0.005603\n",
      "IsCartOrder                 -0.197792\n",
      "OrderFromPromotionalEvent    0.113837\n",
      "DelayConfirmation            0.034192\n",
      "OrderDate                    0.013967\n",
      "ConfirmDate                 -0.024310\n",
      "dtype: float64\n"
     ]
    },
    {
     "data": {
      "image/png": "[encoded data removed]",
      "text/plain": [
       "<Figure size 576x360 with 1 Axes>"
      ]
     },
     "metadata": {},
     "output_type": "display_data"
    }
   ],
   "source": [
    "coef = pd.Series(model1.coef_.tolist()[0], index = X.columns)\n",
    "print(coef)\n",
    "imp_coef = coef.sort_values(ascending=False)\n",
    "\n",
    "def plot_importance(feat_imp, feat_name):\n",
    "    fig, ax = plt.subplots(figsize=(8,5)) \n",
    "    sns.set(style=\"darkgrid\", context=\"poster\")\n",
    "    sns.barplot(feat_imp, feat_name, palette=\"deep\")\n",
    "    plt.title(\"Feature importance\", fontsize=14)\n",
    "    plt.tick_params(axis='x', labelsize=13)\n",
    "    plt.tick_params(axis='y', labelsize=13)\n",
    "    plt.tight_layout()\n",
    "    \n",
    "plot_importance(imp_coef.values, imp_coef.index)"
   ]
  }
 ],
 "metadata": {
  "kernelspec": {
   "display_name": "Python 3 (ipykernel)",
   "language": "python",
   "name": "python3"
  },
  "language_info": {
   "codemirror_mode": {
    "name": "ipython",
    "version": 3
   },
   "file_extension": ".py",
   "mimetype": "text/x-python",
   "name": "python",
   "nbconvert_exporter": "python",
   "pygments_lexer": "ipython3",
   "version": "3.9.7"
  }
 },
 "nbformat": 4,
 "nbformat_minor": 4
}
